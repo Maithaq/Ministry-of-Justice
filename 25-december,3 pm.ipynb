{
 "cells": [
  {
   "cell_type": "code",
   "execution_count": 1,
   "id": "493d899b",
   "metadata": {},
   "outputs": [],
   "source": [
    "import numpy as np\n",
    "import pandas as pd\n",
    "import nltk\n",
    "from nltk.corpus import stopwords\n",
    "from textblob import TextBlob\n",
    "import re"
   ]
  },
  {
   "cell_type": "code",
   "execution_count": 2,
   "id": "e2b53f35",
   "metadata": {},
   "outputs": [],
   "source": [
    "import warnings\n",
    "warnings.filterwarnings('ignore')"
   ]
  },
  {
   "cell_type": "code",
   "execution_count": 3,
   "id": "bdb43fc7",
   "metadata": {},
   "outputs": [],
   "source": [
    "data = pd.read_csv('court_project', index_col=0)"
   ]
  },
  {
   "cell_type": "code",
   "execution_count": 4,
   "id": "a755ca1d",
   "metadata": {
    "scrolled": true
   },
   "outputs": [
    {
     "data": {
      "text/html": [
       "<div>\n",
       "<style scoped>\n",
       "    .dataframe tbody tr th:only-of-type {\n",
       "        vertical-align: middle;\n",
       "    }\n",
       "\n",
       "    .dataframe tbody tr th {\n",
       "        vertical-align: top;\n",
       "    }\n",
       "\n",
       "    .dataframe thead th {\n",
       "        text-align: right;\n",
       "    }\n",
       "</style>\n",
       "<table border=\"1\" class=\"dataframe\">\n",
       "  <thead>\n",
       "    <tr style=\"text-align: right;\">\n",
       "      <th></th>\n",
       "      <th>web-scraper-order</th>\n",
       "      <th>web-scraper-start-url</th>\n",
       "      <th>links</th>\n",
       "      <th>links-href</th>\n",
       "      <th>court</th>\n",
       "      <th>case_number</th>\n",
       "      <th>case_date</th>\n",
       "      <th>appellate_court</th>\n",
       "      <th>appellate_id</th>\n",
       "      <th>appellate_date</th>\n",
       "      <th>...</th>\n",
       "      <th>appeal_id</th>\n",
       "      <th>appeal_date</th>\n",
       "      <th>appeal_text</th>\n",
       "      <th>links1</th>\n",
       "      <th>links1-href</th>\n",
       "      <th>القضايا</th>\n",
       "      <th>القضايا-href</th>\n",
       "      <th>نص الحكم</th>\n",
       "      <th>الصفحات</th>\n",
       "      <th>الصفحات-href</th>\n",
       "    </tr>\n",
       "  </thead>\n",
       "  <tbody>\n",
       "    <tr>\n",
       "      <th>0</th>\n",
       "      <td>1640298117-87</td>\n",
       "      <td>https://sjp.moj.gov.sa/Filter?isFilterButtonCl...</td>\n",
       "      <td>القضية رقم  ٤٦٤٦ لعام ١٤٤٢ هـ</td>\n",
       "      <td>https://sjp.moj.gov.sa/Filter/AhkamDetails/38991</td>\n",
       "      <td>المحكمة: المحكمة التجارية</td>\n",
       "      <td>رقم القضية - القرار: ٤٦٤٦</td>\n",
       "      <td>تاريخها: ٩/١/١٤٤٣</td>\n",
       "      <td>محكمة الاستئناف: المحكمة التجارية</td>\n",
       "      <td>رقم القرار: ٧٨٥</td>\n",
       "      <td>تاريخه: ٧/٣/١٤٤٣</td>\n",
       "      <td>...</td>\n",
       "      <td>NaN</td>\n",
       "      <td>NaN</td>\n",
       "      <td>NaN</td>\n",
       "      <td>NaN</td>\n",
       "      <td>NaN</td>\n",
       "      <td>NaN</td>\n",
       "      <td>NaN</td>\n",
       "      <td>NaN</td>\n",
       "      <td>NaN</td>\n",
       "      <td>NaN</td>\n",
       "    </tr>\n",
       "    <tr>\n",
       "      <th>1</th>\n",
       "      <td>1640297824-62</td>\n",
       "      <td>https://sjp.moj.gov.sa/Filter?isFilterButtonCl...</td>\n",
       "      <td>القضية رقم  ٦٩٥٨ لعام ١٤٤٢ هـ</td>\n",
       "      <td>https://sjp.moj.gov.sa/Filter/AhkamDetails/38903</td>\n",
       "      <td>المحكمة: المحكمة التجارية</td>\n",
       "      <td>رقم القضية - القرار: ٦٩٥٨</td>\n",
       "      <td>تاريخها: ٢٥/١٢/١٤٤٢</td>\n",
       "      <td>محكمة الاستئناف: المحكمة التجارية</td>\n",
       "      <td>رقم القرار: ٥٤٦</td>\n",
       "      <td>تاريخه: ٦/٣/١٤٤٣</td>\n",
       "      <td>...</td>\n",
       "      <td>NaN</td>\n",
       "      <td>NaN</td>\n",
       "      <td>NaN</td>\n",
       "      <td>NaN</td>\n",
       "      <td>NaN</td>\n",
       "      <td>NaN</td>\n",
       "      <td>NaN</td>\n",
       "      <td>NaN</td>\n",
       "      <td>NaN</td>\n",
       "      <td>NaN</td>\n",
       "    </tr>\n",
       "    <tr>\n",
       "      <th>2</th>\n",
       "      <td>1640298107-86</td>\n",
       "      <td>https://sjp.moj.gov.sa/Filter?isFilterButtonCl...</td>\n",
       "      <td>القضية رقم  ٦٦٠٧ لعام ١٤٤٢ هـ</td>\n",
       "      <td>https://sjp.moj.gov.sa/Filter/AhkamDetails/38992</td>\n",
       "      <td>المحكمة: المحكمة التجارية</td>\n",
       "      <td>رقم القضية - القرار: ٦٦٠٧</td>\n",
       "      <td>تاريخها: ٩/١/١٤٤٣</td>\n",
       "      <td>محكمة الاستئناف: المحكمة التجارية</td>\n",
       "      <td>رقم القرار: ٧٩٠</td>\n",
       "      <td>تاريخه: ٧/٣/١٤٤٣</td>\n",
       "      <td>...</td>\n",
       "      <td>NaN</td>\n",
       "      <td>NaN</td>\n",
       "      <td>NaN</td>\n",
       "      <td>NaN</td>\n",
       "      <td>NaN</td>\n",
       "      <td>NaN</td>\n",
       "      <td>NaN</td>\n",
       "      <td>NaN</td>\n",
       "      <td>NaN</td>\n",
       "      <td>NaN</td>\n",
       "    </tr>\n",
       "  </tbody>\n",
       "</table>\n",
       "<p>3 rows × 31 columns</p>\n",
       "</div>"
      ],
      "text/plain": [
       "  web-scraper-order                              web-scraper-start-url  \\\n",
       "0     1640298117-87  https://sjp.moj.gov.sa/Filter?isFilterButtonCl...   \n",
       "1     1640297824-62  https://sjp.moj.gov.sa/Filter?isFilterButtonCl...   \n",
       "2     1640298107-86  https://sjp.moj.gov.sa/Filter?isFilterButtonCl...   \n",
       "\n",
       "                           links  \\\n",
       "0  القضية رقم  ٤٦٤٦ لعام ١٤٤٢ هـ   \n",
       "1  القضية رقم  ٦٩٥٨ لعام ١٤٤٢ هـ   \n",
       "2  القضية رقم  ٦٦٠٧ لعام ١٤٤٢ هـ   \n",
       "\n",
       "                                         links-href  \\\n",
       "0  https://sjp.moj.gov.sa/Filter/AhkamDetails/38991   \n",
       "1  https://sjp.moj.gov.sa/Filter/AhkamDetails/38903   \n",
       "2  https://sjp.moj.gov.sa/Filter/AhkamDetails/38992   \n",
       "\n",
       "                       court                case_number            case_date  \\\n",
       "0  المحكمة: المحكمة التجارية  رقم القضية - القرار: ٤٦٤٦    تاريخها: ٩/١/١٤٤٣   \n",
       "1  المحكمة: المحكمة التجارية  رقم القضية - القرار: ٦٩٥٨  تاريخها: ٢٥/١٢/١٤٤٢   \n",
       "2  المحكمة: المحكمة التجارية  رقم القضية - القرار: ٦٦٠٧    تاريخها: ٩/١/١٤٤٣   \n",
       "\n",
       "                     appellate_court     appellate_id    appellate_date  ...  \\\n",
       "0  محكمة الاستئناف: المحكمة التجارية  رقم القرار: ٧٨٥  تاريخه: ٧/٣/١٤٤٣  ...   \n",
       "1  محكمة الاستئناف: المحكمة التجارية  رقم القرار: ٥٤٦  تاريخه: ٦/٣/١٤٤٣  ...   \n",
       "2  محكمة الاستئناف: المحكمة التجارية  رقم القرار: ٧٩٠  تاريخه: ٧/٣/١٤٤٣  ...   \n",
       "\n",
       "  appeal_id appeal_date appeal_text links1 links1-href القضايا القضايا-href  \\\n",
       "0       NaN         NaN         NaN    NaN         NaN     NaN          NaN   \n",
       "1       NaN         NaN         NaN    NaN         NaN     NaN          NaN   \n",
       "2       NaN         NaN         NaN    NaN         NaN     NaN          NaN   \n",
       "\n",
       "  نص الحكم الصفحات الصفحات-href  \n",
       "0      NaN     NaN          NaN  \n",
       "1      NaN     NaN          NaN  \n",
       "2      NaN     NaN          NaN  \n",
       "\n",
       "[3 rows x 31 columns]"
      ]
     },
     "execution_count": 4,
     "metadata": {},
     "output_type": "execute_result"
    }
   ],
   "source": [
    "data.head(3)"
   ]
  },
  {
   "cell_type": "code",
   "execution_count": 68,
   "id": "52d95db0",
   "metadata": {},
   "outputs": [
    {
     "data": {
      "text/plain": [
       "المحكمة: المحكمة التجارية                    113\n",
       "المحكمة: المحكمة العليا -  الهيئة الدائمة     44\n",
       "المحكمة: المحكمة العامة                       35\n",
       "Name: court, dtype: int64"
      ]
     },
     "execution_count": 68,
     "metadata": {},
     "output_type": "execute_result"
    }
   ],
   "source": [
    "data.court.value_counts()"
   ]
  },
  {
   "cell_type": "code",
   "execution_count": 69,
   "id": "7a5db344",
   "metadata": {},
   "outputs": [],
   "source": [
    "data['court'] =data['court'].str.replace('المحكمة: المحكمة التجارية', 'التجارية')\n",
    "data['court'] =data['court'].str.replace('المحكمة: المحكمة العليا -  الهيئة الدائمة', 'العليا')\n",
    "data['court'] =data['court'].str.replace('المحكمة: المحكمة العامة', 'العامة')"
   ]
  },
  {
   "cell_type": "code",
   "execution_count": 70,
   "id": "f70d5b3d",
   "metadata": {},
   "outputs": [
    {
     "data": {
      "text/plain": [
       "التجارية    113\n",
       "العليا       44\n",
       "العامة       35\n",
       "Name: court, dtype: int64"
      ]
     },
     "execution_count": 70,
     "metadata": {},
     "output_type": "execute_result"
    }
   ],
   "source": [
    "data.court.value_counts()"
   ]
  },
  {
   "cell_type": "code",
   "execution_count": 5,
   "id": "8867354e",
   "metadata": {},
   "outputs": [
    {
     "data": {
      "text/html": [
       "<div>\n",
       "<style scoped>\n",
       "    .dataframe tbody tr th:only-of-type {\n",
       "        vertical-align: middle;\n",
       "    }\n",
       "\n",
       "    .dataframe tbody tr th {\n",
       "        vertical-align: top;\n",
       "    }\n",
       "\n",
       "    .dataframe thead th {\n",
       "        text-align: right;\n",
       "    }\n",
       "</style>\n",
       "<table border=\"1\" class=\"dataframe\">\n",
       "  <thead>\n",
       "    <tr style=\"text-align: right;\">\n",
       "      <th></th>\n",
       "      <th>web-scraper-order</th>\n",
       "      <th>web-scraper-start-url</th>\n",
       "      <th>links</th>\n",
       "      <th>links-href</th>\n",
       "      <th>court</th>\n",
       "      <th>case_number</th>\n",
       "      <th>case_date</th>\n",
       "      <th>appellate_court</th>\n",
       "      <th>appellate_id</th>\n",
       "      <th>appellate_date</th>\n",
       "      <th>...</th>\n",
       "      <th>appeal_id</th>\n",
       "      <th>appeal_date</th>\n",
       "      <th>appeal_text</th>\n",
       "      <th>links1</th>\n",
       "      <th>links1-href</th>\n",
       "      <th>القضايا</th>\n",
       "      <th>القضايا-href</th>\n",
       "      <th>نص الحكم</th>\n",
       "      <th>الصفحات</th>\n",
       "      <th>الصفحات-href</th>\n",
       "    </tr>\n",
       "  </thead>\n",
       "  <tbody>\n",
       "    <tr>\n",
       "      <th>152</th>\n",
       "      <td>1640286767-5</td>\n",
       "      <td>https://sjp.moj.gov.sa/Filter/Index?subIDS=600...</td>\n",
       "      <td>NaN</td>\n",
       "      <td>NaN</td>\n",
       "      <td>NaN</td>\n",
       "      <td>NaN</td>\n",
       "      <td>NaN</td>\n",
       "      <td>NaN</td>\n",
       "      <td>NaN</td>\n",
       "      <td>NaN</td>\n",
       "      <td>...</td>\n",
       "      <td>NaN</td>\n",
       "      <td>NaN</td>\n",
       "      <td>NaN</td>\n",
       "      <td>NaN</td>\n",
       "      <td>NaN</td>\n",
       "      <td>القضية رقم  ٨٧٨٠ لعام ١٤٤٢ هـ</td>\n",
       "      <td>https://sjp.moj.gov.sa/Filter/AhkamDetails/39114</td>\n",
       "      <td>الحمد لله والصلاة والسلام على رسول ﷲ أما بعد:\\...</td>\n",
       "      <td>10</td>\n",
       "      <td>https://sjp.moj.gov.sa/Filter/FilterDataPager?...</td>\n",
       "    </tr>\n",
       "    <tr>\n",
       "      <th>153</th>\n",
       "      <td>1640286772-7</td>\n",
       "      <td>https://sjp.moj.gov.sa/Filter/Index?subIDS=600...</td>\n",
       "      <td>NaN</td>\n",
       "      <td>NaN</td>\n",
       "      <td>NaN</td>\n",
       "      <td>NaN</td>\n",
       "      <td>NaN</td>\n",
       "      <td>NaN</td>\n",
       "      <td>NaN</td>\n",
       "      <td>NaN</td>\n",
       "      <td>...</td>\n",
       "      <td>NaN</td>\n",
       "      <td>NaN</td>\n",
       "      <td>NaN</td>\n",
       "      <td>NaN</td>\n",
       "      <td>NaN</td>\n",
       "      <td>القضية رقم  ٣١٤٥ لعام ١٤٤١ هـ</td>\n",
       "      <td>https://sjp.moj.gov.sa/Filter/AhkamDetails/39022</td>\n",
       "      <td>الحمد لله والصلاة والسلام على رسول ﷲ أما بعد:\\...</td>\n",
       "      <td>10</td>\n",
       "      <td>https://sjp.moj.gov.sa/Filter/FilterDataPager?...</td>\n",
       "    </tr>\n",
       "    <tr>\n",
       "      <th>154</th>\n",
       "      <td>1640286803-18</td>\n",
       "      <td>https://sjp.moj.gov.sa/Filter/Index?subIDS=600...</td>\n",
       "      <td>NaN</td>\n",
       "      <td>NaN</td>\n",
       "      <td>NaN</td>\n",
       "      <td>NaN</td>\n",
       "      <td>NaN</td>\n",
       "      <td>NaN</td>\n",
       "      <td>NaN</td>\n",
       "      <td>NaN</td>\n",
       "      <td>...</td>\n",
       "      <td>NaN</td>\n",
       "      <td>NaN</td>\n",
       "      <td>NaN</td>\n",
       "      <td>NaN</td>\n",
       "      <td>NaN</td>\n",
       "      <td>القضية رقم  ١٦٥٦٣ لعام ١٤٤٠ هـ</td>\n",
       "      <td>https://sjp.moj.gov.sa/Filter/AhkamDetails/38911</td>\n",
       "      <td>الحمد لله والصلاة والسلام على رسول ﷲ أما بعد:\\...</td>\n",
       "      <td>9</td>\n",
       "      <td>https://sjp.moj.gov.sa/Filter/FilterDataPager?...</td>\n",
       "    </tr>\n",
       "    <tr>\n",
       "      <th>155</th>\n",
       "      <td>1640286790-13</td>\n",
       "      <td>https://sjp.moj.gov.sa/Filter/Index?subIDS=600...</td>\n",
       "      <td>NaN</td>\n",
       "      <td>NaN</td>\n",
       "      <td>NaN</td>\n",
       "      <td>NaN</td>\n",
       "      <td>NaN</td>\n",
       "      <td>NaN</td>\n",
       "      <td>NaN</td>\n",
       "      <td>NaN</td>\n",
       "      <td>...</td>\n",
       "      <td>NaN</td>\n",
       "      <td>NaN</td>\n",
       "      <td>NaN</td>\n",
       "      <td>NaN</td>\n",
       "      <td>NaN</td>\n",
       "      <td>القضية رقم  ٣١٤ لعام ١٤٤٢ هـ</td>\n",
       "      <td>https://sjp.moj.gov.sa/Filter/AhkamDetails/38927</td>\n",
       "      <td>الحمد لله والصلاة والسلام على رسول ﷲ أما بعد:\\...</td>\n",
       "      <td>9</td>\n",
       "      <td>https://sjp.moj.gov.sa/Filter/FilterDataPager?...</td>\n",
       "    </tr>\n",
       "    <tr>\n",
       "      <th>156</th>\n",
       "      <td>1640286777-9</td>\n",
       "      <td>https://sjp.moj.gov.sa/Filter/Index?subIDS=600...</td>\n",
       "      <td>NaN</td>\n",
       "      <td>NaN</td>\n",
       "      <td>NaN</td>\n",
       "      <td>NaN</td>\n",
       "      <td>NaN</td>\n",
       "      <td>NaN</td>\n",
       "      <td>NaN</td>\n",
       "      <td>NaN</td>\n",
       "      <td>...</td>\n",
       "      <td>NaN</td>\n",
       "      <td>NaN</td>\n",
       "      <td>NaN</td>\n",
       "      <td>NaN</td>\n",
       "      <td>NaN</td>\n",
       "      <td>القضية رقم  ٥٨٥٧ لعام ١٤٤٠ هـ</td>\n",
       "      <td>https://sjp.moj.gov.sa/Filter/AhkamDetails/39013</td>\n",
       "      <td>الحمد لله والصلاة والسلام على رسول ﷲ أما بعد:\\...</td>\n",
       "      <td>10</td>\n",
       "      <td>https://sjp.moj.gov.sa/Filter/FilterDataPager?...</td>\n",
       "    </tr>\n",
       "    <tr>\n",
       "      <th>157</th>\n",
       "      <td>1640286770-6</td>\n",
       "      <td>https://sjp.moj.gov.sa/Filter/Index?subIDS=600...</td>\n",
       "      <td>NaN</td>\n",
       "      <td>NaN</td>\n",
       "      <td>NaN</td>\n",
       "      <td>NaN</td>\n",
       "      <td>NaN</td>\n",
       "      <td>NaN</td>\n",
       "      <td>NaN</td>\n",
       "      <td>NaN</td>\n",
       "      <td>...</td>\n",
       "      <td>NaN</td>\n",
       "      <td>NaN</td>\n",
       "      <td>NaN</td>\n",
       "      <td>NaN</td>\n",
       "      <td>NaN</td>\n",
       "      <td>القضية رقم  ٥٣٢٧ لعام ١٤٤٢ هـ</td>\n",
       "      <td>https://sjp.moj.gov.sa/Filter/AhkamDetails/39105</td>\n",
       "      <td>الحمد لله والصلاة والسلام على رسول ﷲ أما بعد:\\...</td>\n",
       "      <td>10</td>\n",
       "      <td>https://sjp.moj.gov.sa/Filter/FilterDataPager?...</td>\n",
       "    </tr>\n",
       "    <tr>\n",
       "      <th>158</th>\n",
       "      <td>1640286782-11</td>\n",
       "      <td>https://sjp.moj.gov.sa/Filter/Index?subIDS=600...</td>\n",
       "      <td>NaN</td>\n",
       "      <td>NaN</td>\n",
       "      <td>NaN</td>\n",
       "      <td>NaN</td>\n",
       "      <td>NaN</td>\n",
       "      <td>NaN</td>\n",
       "      <td>NaN</td>\n",
       "      <td>NaN</td>\n",
       "      <td>...</td>\n",
       "      <td>NaN</td>\n",
       "      <td>NaN</td>\n",
       "      <td>NaN</td>\n",
       "      <td>NaN</td>\n",
       "      <td>NaN</td>\n",
       "      <td>القضية رقم  ٥٥٨٤ لعام ١٤٤٢ هـ</td>\n",
       "      <td>https://sjp.moj.gov.sa/Filter/AhkamDetails/38999</td>\n",
       "      <td>الحمد لله والصلاة والسلام على رسول ﷲ أما بعد:\\...</td>\n",
       "      <td>10</td>\n",
       "      <td>https://sjp.moj.gov.sa/Filter/FilterDataPager?...</td>\n",
       "    </tr>\n",
       "    <tr>\n",
       "      <th>159</th>\n",
       "      <td>1640286812-21</td>\n",
       "      <td>https://sjp.moj.gov.sa/Filter/Index?subIDS=600...</td>\n",
       "      <td>NaN</td>\n",
       "      <td>NaN</td>\n",
       "      <td>NaN</td>\n",
       "      <td>NaN</td>\n",
       "      <td>NaN</td>\n",
       "      <td>NaN</td>\n",
       "      <td>NaN</td>\n",
       "      <td>NaN</td>\n",
       "      <td>...</td>\n",
       "      <td>NaN</td>\n",
       "      <td>NaN</td>\n",
       "      <td>NaN</td>\n",
       "      <td>NaN</td>\n",
       "      <td>NaN</td>\n",
       "      <td>القضية رقم  ٨٧٩٧ لعام ١٤٤٢ هـ</td>\n",
       "      <td>https://sjp.moj.gov.sa/Filter/AhkamDetails/38870</td>\n",
       "      <td>الحمد لله والصلاة والسلام على رسول ﷲ أما بعد:\\...</td>\n",
       "      <td>9</td>\n",
       "      <td>https://sjp.moj.gov.sa/Filter/FilterDataPager?...</td>\n",
       "    </tr>\n",
       "    <tr>\n",
       "      <th>160</th>\n",
       "      <td>1640286757-2</td>\n",
       "      <td>https://sjp.moj.gov.sa/Filter/Index?subIDS=600...</td>\n",
       "      <td>NaN</td>\n",
       "      <td>NaN</td>\n",
       "      <td>NaN</td>\n",
       "      <td>NaN</td>\n",
       "      <td>NaN</td>\n",
       "      <td>NaN</td>\n",
       "      <td>NaN</td>\n",
       "      <td>NaN</td>\n",
       "      <td>...</td>\n",
       "      <td>NaN</td>\n",
       "      <td>NaN</td>\n",
       "      <td>NaN</td>\n",
       "      <td>NaN</td>\n",
       "      <td>NaN</td>\n",
       "      <td>القضية رقم  ٧٦٥١ لعام ١٤٤١ هـ</td>\n",
       "      <td>https://sjp.moj.gov.sa/Filter/AhkamDetails/32005</td>\n",
       "      <td>الحمد لله والصلاة والسلام على رسول ﷲ أما بعد:\\...</td>\n",
       "      <td>»»</td>\n",
       "      <td>https://sjp.moj.gov.sa/Filter/FilterDataPager?...</td>\n",
       "    </tr>\n",
       "    <tr>\n",
       "      <th>161</th>\n",
       "      <td>1640286780-10</td>\n",
       "      <td>https://sjp.moj.gov.sa/Filter/Index?subIDS=600...</td>\n",
       "      <td>NaN</td>\n",
       "      <td>NaN</td>\n",
       "      <td>NaN</td>\n",
       "      <td>NaN</td>\n",
       "      <td>NaN</td>\n",
       "      <td>NaN</td>\n",
       "      <td>NaN</td>\n",
       "      <td>NaN</td>\n",
       "      <td>...</td>\n",
       "      <td>NaN</td>\n",
       "      <td>NaN</td>\n",
       "      <td>NaN</td>\n",
       "      <td>NaN</td>\n",
       "      <td>NaN</td>\n",
       "      <td>القضية رقم  ٢١٨٦ لعام ١٤٤١ هـ</td>\n",
       "      <td>https://sjp.moj.gov.sa/Filter/AhkamDetails/39012</td>\n",
       "      <td>الحمد لله والصلاة والسلام على رسول ﷲ أما بعد:\\...</td>\n",
       "      <td>10</td>\n",
       "      <td>https://sjp.moj.gov.sa/Filter/FilterDataPager?...</td>\n",
       "    </tr>\n",
       "    <tr>\n",
       "      <th>162</th>\n",
       "      <td>1640286765-4</td>\n",
       "      <td>https://sjp.moj.gov.sa/Filter/Index?subIDS=600...</td>\n",
       "      <td>NaN</td>\n",
       "      <td>NaN</td>\n",
       "      <td>NaN</td>\n",
       "      <td>NaN</td>\n",
       "      <td>NaN</td>\n",
       "      <td>NaN</td>\n",
       "      <td>NaN</td>\n",
       "      <td>NaN</td>\n",
       "      <td>...</td>\n",
       "      <td>NaN</td>\n",
       "      <td>NaN</td>\n",
       "      <td>NaN</td>\n",
       "      <td>NaN</td>\n",
       "      <td>NaN</td>\n",
       "      <td>القضية رقم  ٨٧٩٧ لعام ١٤٤٢ هـ</td>\n",
       "      <td>https://sjp.moj.gov.sa/Filter/AhkamDetails/39115</td>\n",
       "      <td>الحمد لله والصلاة والسلام على رسول ﷲ أما بعد:\\...</td>\n",
       "      <td>10</td>\n",
       "      <td>https://sjp.moj.gov.sa/Filter/FilterDataPager?...</td>\n",
       "    </tr>\n",
       "    <tr>\n",
       "      <th>163</th>\n",
       "      <td>1640286793-14</td>\n",
       "      <td>https://sjp.moj.gov.sa/Filter/Index?subIDS=600...</td>\n",
       "      <td>NaN</td>\n",
       "      <td>NaN</td>\n",
       "      <td>NaN</td>\n",
       "      <td>NaN</td>\n",
       "      <td>NaN</td>\n",
       "      <td>NaN</td>\n",
       "      <td>NaN</td>\n",
       "      <td>NaN</td>\n",
       "      <td>...</td>\n",
       "      <td>NaN</td>\n",
       "      <td>NaN</td>\n",
       "      <td>NaN</td>\n",
       "      <td>NaN</td>\n",
       "      <td>NaN</td>\n",
       "      <td>القضية رقم  ٣٨٩٥ لعام ١٤٤٢ هـ</td>\n",
       "      <td>https://sjp.moj.gov.sa/Filter/AhkamDetails/38926</td>\n",
       "      <td>الحمد لله والصلاة والسلام على رسول ﷲ أما بعد:\\...</td>\n",
       "      <td>9</td>\n",
       "      <td>https://sjp.moj.gov.sa/Filter/FilterDataPager?...</td>\n",
       "    </tr>\n",
       "    <tr>\n",
       "      <th>164</th>\n",
       "      <td>1640286754-1</td>\n",
       "      <td>https://sjp.moj.gov.sa/Filter/Index?subIDS=600...</td>\n",
       "      <td>NaN</td>\n",
       "      <td>NaN</td>\n",
       "      <td>NaN</td>\n",
       "      <td>NaN</td>\n",
       "      <td>NaN</td>\n",
       "      <td>NaN</td>\n",
       "      <td>NaN</td>\n",
       "      <td>NaN</td>\n",
       "      <td>...</td>\n",
       "      <td>NaN</td>\n",
       "      <td>NaN</td>\n",
       "      <td>NaN</td>\n",
       "      <td>NaN</td>\n",
       "      <td>NaN</td>\n",
       "      <td>القضية رقم  ٥١٨٦ لعام ١٤٤٢ ه</td>\n",
       "      <td>https://sjp.moj.gov.sa/Filter/AhkamDetails/40797</td>\n",
       "      <td>الحمد لله والصلاة والسلام على رسول ﷲ أما بعد:\\...</td>\n",
       "      <td>»»</td>\n",
       "      <td>https://sjp.moj.gov.sa/Filter/FilterDataPager?...</td>\n",
       "    </tr>\n",
       "    <tr>\n",
       "      <th>165</th>\n",
       "      <td>1640286806-19</td>\n",
       "      <td>https://sjp.moj.gov.sa/Filter/Index?subIDS=600...</td>\n",
       "      <td>NaN</td>\n",
       "      <td>NaN</td>\n",
       "      <td>NaN</td>\n",
       "      <td>NaN</td>\n",
       "      <td>NaN</td>\n",
       "      <td>NaN</td>\n",
       "      <td>NaN</td>\n",
       "      <td>NaN</td>\n",
       "      <td>...</td>\n",
       "      <td>NaN</td>\n",
       "      <td>NaN</td>\n",
       "      <td>NaN</td>\n",
       "      <td>NaN</td>\n",
       "      <td>NaN</td>\n",
       "      <td>القضية رقم  ٧٩٢٨ لعام ١٤٤٢ هـ</td>\n",
       "      <td>https://sjp.moj.gov.sa/Filter/AhkamDetails/38909</td>\n",
       "      <td>الحمد لله والصلاة والسلام على رسول ﷲ أما بعد:\\...</td>\n",
       "      <td>9</td>\n",
       "      <td>https://sjp.moj.gov.sa/Filter/FilterDataPager?...</td>\n",
       "    </tr>\n",
       "    <tr>\n",
       "      <th>166</th>\n",
       "      <td>1640286798-16</td>\n",
       "      <td>https://sjp.moj.gov.sa/Filter/Index?subIDS=600...</td>\n",
       "      <td>NaN</td>\n",
       "      <td>NaN</td>\n",
       "      <td>NaN</td>\n",
       "      <td>NaN</td>\n",
       "      <td>NaN</td>\n",
       "      <td>NaN</td>\n",
       "      <td>NaN</td>\n",
       "      <td>NaN</td>\n",
       "      <td>...</td>\n",
       "      <td>NaN</td>\n",
       "      <td>NaN</td>\n",
       "      <td>NaN</td>\n",
       "      <td>NaN</td>\n",
       "      <td>NaN</td>\n",
       "      <td>القضية رقم  ١٧٧٤ لعام ١٤٤٢ هـ</td>\n",
       "      <td>https://sjp.moj.gov.sa/Filter/AhkamDetails/38916</td>\n",
       "      <td>الحمد لله والصلاة والسلام على رسول ﷲ أما بعد:\\...</td>\n",
       "      <td>9</td>\n",
       "      <td>https://sjp.moj.gov.sa/Filter/FilterDataPager?...</td>\n",
       "    </tr>\n",
       "    <tr>\n",
       "      <th>167</th>\n",
       "      <td>1640286775-8</td>\n",
       "      <td>https://sjp.moj.gov.sa/Filter/Index?subIDS=600...</td>\n",
       "      <td>NaN</td>\n",
       "      <td>NaN</td>\n",
       "      <td>NaN</td>\n",
       "      <td>NaN</td>\n",
       "      <td>NaN</td>\n",
       "      <td>NaN</td>\n",
       "      <td>NaN</td>\n",
       "      <td>NaN</td>\n",
       "      <td>...</td>\n",
       "      <td>NaN</td>\n",
       "      <td>NaN</td>\n",
       "      <td>NaN</td>\n",
       "      <td>NaN</td>\n",
       "      <td>NaN</td>\n",
       "      <td>القضية رقم  ٨٣١٦ لعام ١٤٤١ هـ</td>\n",
       "      <td>https://sjp.moj.gov.sa/Filter/AhkamDetails/39020</td>\n",
       "      <td>الحمد لله والصلاة والسلام على رسول ﷲ أما بعد:\\...</td>\n",
       "      <td>10</td>\n",
       "      <td>https://sjp.moj.gov.sa/Filter/FilterDataPager?...</td>\n",
       "    </tr>\n",
       "    <tr>\n",
       "      <th>168</th>\n",
       "      <td>1640286795-15</td>\n",
       "      <td>https://sjp.moj.gov.sa/Filter/Index?subIDS=600...</td>\n",
       "      <td>NaN</td>\n",
       "      <td>NaN</td>\n",
       "      <td>NaN</td>\n",
       "      <td>NaN</td>\n",
       "      <td>NaN</td>\n",
       "      <td>NaN</td>\n",
       "      <td>NaN</td>\n",
       "      <td>NaN</td>\n",
       "      <td>...</td>\n",
       "      <td>NaN</td>\n",
       "      <td>NaN</td>\n",
       "      <td>NaN</td>\n",
       "      <td>NaN</td>\n",
       "      <td>NaN</td>\n",
       "      <td>القضية رقم  ٦٨٣٦ لعام ١٤٤٢ هـ</td>\n",
       "      <td>https://sjp.moj.gov.sa/Filter/AhkamDetails/38925</td>\n",
       "      <td>الحمد لله والصلاة والسلام على رسول ﷲ أما بعد:\\...</td>\n",
       "      <td>9</td>\n",
       "      <td>https://sjp.moj.gov.sa/Filter/FilterDataPager?...</td>\n",
       "    </tr>\n",
       "    <tr>\n",
       "      <th>169</th>\n",
       "      <td>1640286762-3</td>\n",
       "      <td>https://sjp.moj.gov.sa/Filter/Index?subIDS=600...</td>\n",
       "      <td>NaN</td>\n",
       "      <td>NaN</td>\n",
       "      <td>NaN</td>\n",
       "      <td>NaN</td>\n",
       "      <td>NaN</td>\n",
       "      <td>NaN</td>\n",
       "      <td>NaN</td>\n",
       "      <td>NaN</td>\n",
       "      <td>...</td>\n",
       "      <td>NaN</td>\n",
       "      <td>NaN</td>\n",
       "      <td>NaN</td>\n",
       "      <td>NaN</td>\n",
       "      <td>NaN</td>\n",
       "      <td>القضية رقم  ٣٠٢ لعام ١٤٤٢ هـ</td>\n",
       "      <td>https://sjp.moj.gov.sa/Filter/AhkamDetails/39149</td>\n",
       "      <td>الحمد لله والصلاة والسلام على رسول ﷲ أما بعد:\\...</td>\n",
       "      <td>10</td>\n",
       "      <td>https://sjp.moj.gov.sa/Filter/FilterDataPager?...</td>\n",
       "    </tr>\n",
       "    <tr>\n",
       "      <th>170</th>\n",
       "      <td>1640286800-17</td>\n",
       "      <td>https://sjp.moj.gov.sa/Filter/Index?subIDS=600...</td>\n",
       "      <td>NaN</td>\n",
       "      <td>NaN</td>\n",
       "      <td>NaN</td>\n",
       "      <td>NaN</td>\n",
       "      <td>NaN</td>\n",
       "      <td>NaN</td>\n",
       "      <td>NaN</td>\n",
       "      <td>NaN</td>\n",
       "      <td>...</td>\n",
       "      <td>NaN</td>\n",
       "      <td>NaN</td>\n",
       "      <td>NaN</td>\n",
       "      <td>NaN</td>\n",
       "      <td>NaN</td>\n",
       "      <td>القضية رقم  ٨١٣٣ لعام ١٤٤٢ هـ</td>\n",
       "      <td>https://sjp.moj.gov.sa/Filter/AhkamDetails/38912</td>\n",
       "      <td>الحمد لله والصلاة والسلام على رسول ﷲ أما بعد:\\...</td>\n",
       "      <td>9</td>\n",
       "      <td>https://sjp.moj.gov.sa/Filter/FilterDataPager?...</td>\n",
       "    </tr>\n",
       "    <tr>\n",
       "      <th>171</th>\n",
       "      <td>1640286809-20</td>\n",
       "      <td>https://sjp.moj.gov.sa/Filter/Index?subIDS=600...</td>\n",
       "      <td>NaN</td>\n",
       "      <td>NaN</td>\n",
       "      <td>NaN</td>\n",
       "      <td>NaN</td>\n",
       "      <td>NaN</td>\n",
       "      <td>NaN</td>\n",
       "      <td>NaN</td>\n",
       "      <td>NaN</td>\n",
       "      <td>...</td>\n",
       "      <td>NaN</td>\n",
       "      <td>NaN</td>\n",
       "      <td>NaN</td>\n",
       "      <td>NaN</td>\n",
       "      <td>NaN</td>\n",
       "      <td>القضية رقم  ٣٠٢ لعام ١٤٤٢ هـ</td>\n",
       "      <td>https://sjp.moj.gov.sa/Filter/AhkamDetails/38904</td>\n",
       "      <td>الحمد لله والصلاة والسلام على رسول ﷲ أما بعد:\\...</td>\n",
       "      <td>9</td>\n",
       "      <td>https://sjp.moj.gov.sa/Filter/FilterDataPager?...</td>\n",
       "    </tr>\n",
       "    <tr>\n",
       "      <th>172</th>\n",
       "      <td>1640286784-12</td>\n",
       "      <td>https://sjp.moj.gov.sa/Filter/Index?subIDS=600...</td>\n",
       "      <td>NaN</td>\n",
       "      <td>NaN</td>\n",
       "      <td>NaN</td>\n",
       "      <td>NaN</td>\n",
       "      <td>NaN</td>\n",
       "      <td>NaN</td>\n",
       "      <td>NaN</td>\n",
       "      <td>NaN</td>\n",
       "      <td>...</td>\n",
       "      <td>NaN</td>\n",
       "      <td>NaN</td>\n",
       "      <td>NaN</td>\n",
       "      <td>NaN</td>\n",
       "      <td>NaN</td>\n",
       "      <td>القضية رقم  ٧٦٣٥ لعام ١٤٤٢ هـ</td>\n",
       "      <td>https://sjp.moj.gov.sa/Filter/AhkamDetails/38994</td>\n",
       "      <td>الحمد لله والصلاة والسلام على رسول ﷲ أما بعد:\\...</td>\n",
       "      <td>10</td>\n",
       "      <td>https://sjp.moj.gov.sa/Filter/FilterDataPager?...</td>\n",
       "    </tr>\n",
       "    <tr>\n",
       "      <th>173</th>\n",
       "      <td>1640286814-22</td>\n",
       "      <td>https://sjp.moj.gov.sa/Filter/Index?subIDS=600...</td>\n",
       "      <td>NaN</td>\n",
       "      <td>NaN</td>\n",
       "      <td>NaN</td>\n",
       "      <td>NaN</td>\n",
       "      <td>NaN</td>\n",
       "      <td>NaN</td>\n",
       "      <td>NaN</td>\n",
       "      <td>NaN</td>\n",
       "      <td>...</td>\n",
       "      <td>NaN</td>\n",
       "      <td>NaN</td>\n",
       "      <td>NaN</td>\n",
       "      <td>NaN</td>\n",
       "      <td>NaN</td>\n",
       "      <td>القضية رقم  ٨٧٨٠ لعام ١٤٤٢ هـ</td>\n",
       "      <td>https://sjp.moj.gov.sa/Filter/AhkamDetails/38869</td>\n",
       "      <td>الحمد لله والصلاة والسلام على رسول ﷲ أما بعد:\\...</td>\n",
       "      <td>9</td>\n",
       "      <td>https://sjp.moj.gov.sa/Filter/FilterDataPager?...</td>\n",
       "    </tr>\n",
       "  </tbody>\n",
       "</table>\n",
       "<p>22 rows × 31 columns</p>\n",
       "</div>"
      ],
      "text/plain": [
       "    web-scraper-order                              web-scraper-start-url  \\\n",
       "152      1640286767-5  https://sjp.moj.gov.sa/Filter/Index?subIDS=600...   \n",
       "153      1640286772-7  https://sjp.moj.gov.sa/Filter/Index?subIDS=600...   \n",
       "154     1640286803-18  https://sjp.moj.gov.sa/Filter/Index?subIDS=600...   \n",
       "155     1640286790-13  https://sjp.moj.gov.sa/Filter/Index?subIDS=600...   \n",
       "156      1640286777-9  https://sjp.moj.gov.sa/Filter/Index?subIDS=600...   \n",
       "157      1640286770-6  https://sjp.moj.gov.sa/Filter/Index?subIDS=600...   \n",
       "158     1640286782-11  https://sjp.moj.gov.sa/Filter/Index?subIDS=600...   \n",
       "159     1640286812-21  https://sjp.moj.gov.sa/Filter/Index?subIDS=600...   \n",
       "160      1640286757-2  https://sjp.moj.gov.sa/Filter/Index?subIDS=600...   \n",
       "161     1640286780-10  https://sjp.moj.gov.sa/Filter/Index?subIDS=600...   \n",
       "162      1640286765-4  https://sjp.moj.gov.sa/Filter/Index?subIDS=600...   \n",
       "163     1640286793-14  https://sjp.moj.gov.sa/Filter/Index?subIDS=600...   \n",
       "164      1640286754-1  https://sjp.moj.gov.sa/Filter/Index?subIDS=600...   \n",
       "165     1640286806-19  https://sjp.moj.gov.sa/Filter/Index?subIDS=600...   \n",
       "166     1640286798-16  https://sjp.moj.gov.sa/Filter/Index?subIDS=600...   \n",
       "167      1640286775-8  https://sjp.moj.gov.sa/Filter/Index?subIDS=600...   \n",
       "168     1640286795-15  https://sjp.moj.gov.sa/Filter/Index?subIDS=600...   \n",
       "169      1640286762-3  https://sjp.moj.gov.sa/Filter/Index?subIDS=600...   \n",
       "170     1640286800-17  https://sjp.moj.gov.sa/Filter/Index?subIDS=600...   \n",
       "171     1640286809-20  https://sjp.moj.gov.sa/Filter/Index?subIDS=600...   \n",
       "172     1640286784-12  https://sjp.moj.gov.sa/Filter/Index?subIDS=600...   \n",
       "173     1640286814-22  https://sjp.moj.gov.sa/Filter/Index?subIDS=600...   \n",
       "\n",
       "    links links-href court case_number case_date appellate_court appellate_id  \\\n",
       "152   NaN        NaN   NaN         NaN       NaN             NaN          NaN   \n",
       "153   NaN        NaN   NaN         NaN       NaN             NaN          NaN   \n",
       "154   NaN        NaN   NaN         NaN       NaN             NaN          NaN   \n",
       "155   NaN        NaN   NaN         NaN       NaN             NaN          NaN   \n",
       "156   NaN        NaN   NaN         NaN       NaN             NaN          NaN   \n",
       "157   NaN        NaN   NaN         NaN       NaN             NaN          NaN   \n",
       "158   NaN        NaN   NaN         NaN       NaN             NaN          NaN   \n",
       "159   NaN        NaN   NaN         NaN       NaN             NaN          NaN   \n",
       "160   NaN        NaN   NaN         NaN       NaN             NaN          NaN   \n",
       "161   NaN        NaN   NaN         NaN       NaN             NaN          NaN   \n",
       "162   NaN        NaN   NaN         NaN       NaN             NaN          NaN   \n",
       "163   NaN        NaN   NaN         NaN       NaN             NaN          NaN   \n",
       "164   NaN        NaN   NaN         NaN       NaN             NaN          NaN   \n",
       "165   NaN        NaN   NaN         NaN       NaN             NaN          NaN   \n",
       "166   NaN        NaN   NaN         NaN       NaN             NaN          NaN   \n",
       "167   NaN        NaN   NaN         NaN       NaN             NaN          NaN   \n",
       "168   NaN        NaN   NaN         NaN       NaN             NaN          NaN   \n",
       "169   NaN        NaN   NaN         NaN       NaN             NaN          NaN   \n",
       "170   NaN        NaN   NaN         NaN       NaN             NaN          NaN   \n",
       "171   NaN        NaN   NaN         NaN       NaN             NaN          NaN   \n",
       "172   NaN        NaN   NaN         NaN       NaN             NaN          NaN   \n",
       "173   NaN        NaN   NaN         NaN       NaN             NaN          NaN   \n",
       "\n",
       "    appellate_date  ... appeal_id appeal_date appeal_text links1 links1-href  \\\n",
       "152            NaN  ...       NaN         NaN         NaN    NaN         NaN   \n",
       "153            NaN  ...       NaN         NaN         NaN    NaN         NaN   \n",
       "154            NaN  ...       NaN         NaN         NaN    NaN         NaN   \n",
       "155            NaN  ...       NaN         NaN         NaN    NaN         NaN   \n",
       "156            NaN  ...       NaN         NaN         NaN    NaN         NaN   \n",
       "157            NaN  ...       NaN         NaN         NaN    NaN         NaN   \n",
       "158            NaN  ...       NaN         NaN         NaN    NaN         NaN   \n",
       "159            NaN  ...       NaN         NaN         NaN    NaN         NaN   \n",
       "160            NaN  ...       NaN         NaN         NaN    NaN         NaN   \n",
       "161            NaN  ...       NaN         NaN         NaN    NaN         NaN   \n",
       "162            NaN  ...       NaN         NaN         NaN    NaN         NaN   \n",
       "163            NaN  ...       NaN         NaN         NaN    NaN         NaN   \n",
       "164            NaN  ...       NaN         NaN         NaN    NaN         NaN   \n",
       "165            NaN  ...       NaN         NaN         NaN    NaN         NaN   \n",
       "166            NaN  ...       NaN         NaN         NaN    NaN         NaN   \n",
       "167            NaN  ...       NaN         NaN         NaN    NaN         NaN   \n",
       "168            NaN  ...       NaN         NaN         NaN    NaN         NaN   \n",
       "169            NaN  ...       NaN         NaN         NaN    NaN         NaN   \n",
       "170            NaN  ...       NaN         NaN         NaN    NaN         NaN   \n",
       "171            NaN  ...       NaN         NaN         NaN    NaN         NaN   \n",
       "172            NaN  ...       NaN         NaN         NaN    NaN         NaN   \n",
       "173            NaN  ...       NaN         NaN         NaN    NaN         NaN   \n",
       "\n",
       "                            القضايا  \\\n",
       "152   القضية رقم  ٨٧٨٠ لعام ١٤٤٢ هـ   \n",
       "153   القضية رقم  ٣١٤٥ لعام ١٤٤١ هـ   \n",
       "154  القضية رقم  ١٦٥٦٣ لعام ١٤٤٠ هـ   \n",
       "155    القضية رقم  ٣١٤ لعام ١٤٤٢ هـ   \n",
       "156   القضية رقم  ٥٨٥٧ لعام ١٤٤٠ هـ   \n",
       "157   القضية رقم  ٥٣٢٧ لعام ١٤٤٢ هـ   \n",
       "158   القضية رقم  ٥٥٨٤ لعام ١٤٤٢ هـ   \n",
       "159   القضية رقم  ٨٧٩٧ لعام ١٤٤٢ هـ   \n",
       "160   القضية رقم  ٧٦٥١ لعام ١٤٤١ هـ   \n",
       "161   القضية رقم  ٢١٨٦ لعام ١٤٤١ هـ   \n",
       "162   القضية رقم  ٨٧٩٧ لعام ١٤٤٢ هـ   \n",
       "163   القضية رقم  ٣٨٩٥ لعام ١٤٤٢ هـ   \n",
       "164    القضية رقم  ٥١٨٦ لعام ١٤٤٢ ه   \n",
       "165   القضية رقم  ٧٩٢٨ لعام ١٤٤٢ هـ   \n",
       "166   القضية رقم  ١٧٧٤ لعام ١٤٤٢ هـ   \n",
       "167   القضية رقم  ٨٣١٦ لعام ١٤٤١ هـ   \n",
       "168   القضية رقم  ٦٨٣٦ لعام ١٤٤٢ هـ   \n",
       "169    القضية رقم  ٣٠٢ لعام ١٤٤٢ هـ   \n",
       "170   القضية رقم  ٨١٣٣ لعام ١٤٤٢ هـ   \n",
       "171    القضية رقم  ٣٠٢ لعام ١٤٤٢ هـ   \n",
       "172   القضية رقم  ٧٦٣٥ لعام ١٤٤٢ هـ   \n",
       "173   القضية رقم  ٨٧٨٠ لعام ١٤٤٢ هـ   \n",
       "\n",
       "                                         القضايا-href  \\\n",
       "152  https://sjp.moj.gov.sa/Filter/AhkamDetails/39114   \n",
       "153  https://sjp.moj.gov.sa/Filter/AhkamDetails/39022   \n",
       "154  https://sjp.moj.gov.sa/Filter/AhkamDetails/38911   \n",
       "155  https://sjp.moj.gov.sa/Filter/AhkamDetails/38927   \n",
       "156  https://sjp.moj.gov.sa/Filter/AhkamDetails/39013   \n",
       "157  https://sjp.moj.gov.sa/Filter/AhkamDetails/39105   \n",
       "158  https://sjp.moj.gov.sa/Filter/AhkamDetails/38999   \n",
       "159  https://sjp.moj.gov.sa/Filter/AhkamDetails/38870   \n",
       "160  https://sjp.moj.gov.sa/Filter/AhkamDetails/32005   \n",
       "161  https://sjp.moj.gov.sa/Filter/AhkamDetails/39012   \n",
       "162  https://sjp.moj.gov.sa/Filter/AhkamDetails/39115   \n",
       "163  https://sjp.moj.gov.sa/Filter/AhkamDetails/38926   \n",
       "164  https://sjp.moj.gov.sa/Filter/AhkamDetails/40797   \n",
       "165  https://sjp.moj.gov.sa/Filter/AhkamDetails/38909   \n",
       "166  https://sjp.moj.gov.sa/Filter/AhkamDetails/38916   \n",
       "167  https://sjp.moj.gov.sa/Filter/AhkamDetails/39020   \n",
       "168  https://sjp.moj.gov.sa/Filter/AhkamDetails/38925   \n",
       "169  https://sjp.moj.gov.sa/Filter/AhkamDetails/39149   \n",
       "170  https://sjp.moj.gov.sa/Filter/AhkamDetails/38912   \n",
       "171  https://sjp.moj.gov.sa/Filter/AhkamDetails/38904   \n",
       "172  https://sjp.moj.gov.sa/Filter/AhkamDetails/38994   \n",
       "173  https://sjp.moj.gov.sa/Filter/AhkamDetails/38869   \n",
       "\n",
       "                                              نص الحكم الصفحات  \\\n",
       "152  الحمد لله والصلاة والسلام على رسول ﷲ أما بعد:\\...      10   \n",
       "153  الحمد لله والصلاة والسلام على رسول ﷲ أما بعد:\\...      10   \n",
       "154  الحمد لله والصلاة والسلام على رسول ﷲ أما بعد:\\...       9   \n",
       "155  الحمد لله والصلاة والسلام على رسول ﷲ أما بعد:\\...       9   \n",
       "156  الحمد لله والصلاة والسلام على رسول ﷲ أما بعد:\\...      10   \n",
       "157  الحمد لله والصلاة والسلام على رسول ﷲ أما بعد:\\...      10   \n",
       "158  الحمد لله والصلاة والسلام على رسول ﷲ أما بعد:\\...      10   \n",
       "159  الحمد لله والصلاة والسلام على رسول ﷲ أما بعد:\\...       9   \n",
       "160  الحمد لله والصلاة والسلام على رسول ﷲ أما بعد:\\...      »»   \n",
       "161  الحمد لله والصلاة والسلام على رسول ﷲ أما بعد:\\...      10   \n",
       "162  الحمد لله والصلاة والسلام على رسول ﷲ أما بعد:\\...      10   \n",
       "163  الحمد لله والصلاة والسلام على رسول ﷲ أما بعد:\\...       9   \n",
       "164  الحمد لله والصلاة والسلام على رسول ﷲ أما بعد:\\...      »»   \n",
       "165  الحمد لله والصلاة والسلام على رسول ﷲ أما بعد:\\...       9   \n",
       "166  الحمد لله والصلاة والسلام على رسول ﷲ أما بعد:\\...       9   \n",
       "167  الحمد لله والصلاة والسلام على رسول ﷲ أما بعد:\\...      10   \n",
       "168  الحمد لله والصلاة والسلام على رسول ﷲ أما بعد:\\...       9   \n",
       "169  الحمد لله والصلاة والسلام على رسول ﷲ أما بعد:\\...      10   \n",
       "170  الحمد لله والصلاة والسلام على رسول ﷲ أما بعد:\\...       9   \n",
       "171  الحمد لله والصلاة والسلام على رسول ﷲ أما بعد:\\...       9   \n",
       "172  الحمد لله والصلاة والسلام على رسول ﷲ أما بعد:\\...      10   \n",
       "173  الحمد لله والصلاة والسلام على رسول ﷲ أما بعد:\\...       9   \n",
       "\n",
       "                                          الصفحات-href  \n",
       "152  https://sjp.moj.gov.sa/Filter/FilterDataPager?...  \n",
       "153  https://sjp.moj.gov.sa/Filter/FilterDataPager?...  \n",
       "154  https://sjp.moj.gov.sa/Filter/FilterDataPager?...  \n",
       "155  https://sjp.moj.gov.sa/Filter/FilterDataPager?...  \n",
       "156  https://sjp.moj.gov.sa/Filter/FilterDataPager?...  \n",
       "157  https://sjp.moj.gov.sa/Filter/FilterDataPager?...  \n",
       "158  https://sjp.moj.gov.sa/Filter/FilterDataPager?...  \n",
       "159  https://sjp.moj.gov.sa/Filter/FilterDataPager?...  \n",
       "160  https://sjp.moj.gov.sa/Filter/FilterDataPager?...  \n",
       "161  https://sjp.moj.gov.sa/Filter/FilterDataPager?...  \n",
       "162  https://sjp.moj.gov.sa/Filter/FilterDataPager?...  \n",
       "163  https://sjp.moj.gov.sa/Filter/FilterDataPager?...  \n",
       "164  https://sjp.moj.gov.sa/Filter/FilterDataPager?...  \n",
       "165  https://sjp.moj.gov.sa/Filter/FilterDataPager?...  \n",
       "166  https://sjp.moj.gov.sa/Filter/FilterDataPager?...  \n",
       "167  https://sjp.moj.gov.sa/Filter/FilterDataPager?...  \n",
       "168  https://sjp.moj.gov.sa/Filter/FilterDataPager?...  \n",
       "169  https://sjp.moj.gov.sa/Filter/FilterDataPager?...  \n",
       "170  https://sjp.moj.gov.sa/Filter/FilterDataPager?...  \n",
       "171  https://sjp.moj.gov.sa/Filter/FilterDataPager?...  \n",
       "172  https://sjp.moj.gov.sa/Filter/FilterDataPager?...  \n",
       "173  https://sjp.moj.gov.sa/Filter/FilterDataPager?...  \n",
       "\n",
       "[22 rows x 31 columns]"
      ]
     },
     "execution_count": 5,
     "metadata": {},
     "output_type": "execute_result"
    }
   ],
   "source": [
    "data[data['judgment_text'].isnull()]"
   ]
  },
  {
   "cell_type": "code",
   "execution_count": 6,
   "id": "5e49dd51",
   "metadata": {},
   "outputs": [],
   "source": [
    "data.dropna(subset=[\"judgment_text\"],inplace = True)"
   ]
  },
  {
   "cell_type": "code",
   "execution_count": 7,
   "id": "8b980b9b",
   "metadata": {},
   "outputs": [
    {
     "name": "stdout",
     "output_type": "stream",
     "text": [
      "<class 'pandas.core.frame.DataFrame'>\n",
      "Int64Index: 192 entries, 0 to 213\n",
      "Data columns (total 31 columns):\n",
      " #   Column                 Non-Null Count  Dtype \n",
      "---  ------                 --------------  ----- \n",
      " 0   web-scraper-order      192 non-null    object\n",
      " 1   web-scraper-start-url  192 non-null    object\n",
      " 2   links                  102 non-null    object\n",
      " 3   links-href             102 non-null    object\n",
      " 4   court                  192 non-null    object\n",
      " 5   case_number            102 non-null    object\n",
      " 6   case_date              102 non-null    object\n",
      " 7   appellate_court        89 non-null     object\n",
      " 8   appellate_id           89 non-null     object\n",
      " 9   appellate_date         89 non-null     object\n",
      " 10  region                 116 non-null    object\n",
      " 11  city                   192 non-null    object\n",
      " 12  judgment_text          192 non-null    object\n",
      " 13  appeal                 89 non-null     object\n",
      " 14  pages                  92 non-null     object\n",
      " 15  pages-href             92 non-null     object\n",
      " 16  links0                 10 non-null     object\n",
      " 17  links0-href            10 non-null     object\n",
      " 18  court_id               90 non-null     object\n",
      " 19  court_date             90 non-null     object\n",
      " 20  appeal_court           27 non-null     object\n",
      " 21  appeal_id              27 non-null     object\n",
      " 22  appeal_date            27 non-null     object\n",
      " 23  appeal_text            27 non-null     object\n",
      " 24  links1                 80 non-null     object\n",
      " 25  links1-href            80 non-null     object\n",
      " 26  القضايا                0 non-null      object\n",
      " 27  القضايا-href           0 non-null      object\n",
      " 28  نص الحكم               0 non-null      object\n",
      " 29  الصفحات                0 non-null      object\n",
      " 30  الصفحات-href           0 non-null      object\n",
      "dtypes: object(31)\n",
      "memory usage: 48.0+ KB\n"
     ]
    }
   ],
   "source": [
    "data.info()"
   ]
  },
  {
   "cell_type": "code",
   "execution_count": 8,
   "id": "24d5d8fe",
   "metadata": {},
   "outputs": [],
   "source": [
    "data.drop(['نص الحكم','links1','links0-href','links0','appeal_text','appeal_date','appeal_id','appeal_court','court_date',\n",
    "          'court_id','links1-href'], axis = 1,inplace=True)"
   ]
  },
  {
   "cell_type": "code",
   "execution_count": 9,
   "id": "94453465",
   "metadata": {
    "scrolled": false
   },
   "outputs": [
    {
     "name": "stdout",
     "output_type": "stream",
     "text": [
      "<class 'pandas.core.frame.DataFrame'>\n",
      "Int64Index: 192 entries, 0 to 213\n",
      "Data columns (total 20 columns):\n",
      " #   Column                 Non-Null Count  Dtype \n",
      "---  ------                 --------------  ----- \n",
      " 0   web-scraper-order      192 non-null    object\n",
      " 1   web-scraper-start-url  192 non-null    object\n",
      " 2   links                  102 non-null    object\n",
      " 3   links-href             102 non-null    object\n",
      " 4   court                  192 non-null    object\n",
      " 5   case_number            102 non-null    object\n",
      " 6   case_date              102 non-null    object\n",
      " 7   appellate_court        89 non-null     object\n",
      " 8   appellate_id           89 non-null     object\n",
      " 9   appellate_date         89 non-null     object\n",
      " 10  region                 116 non-null    object\n",
      " 11  city                   192 non-null    object\n",
      " 12  judgment_text          192 non-null    object\n",
      " 13  appeal                 89 non-null     object\n",
      " 14  pages                  92 non-null     object\n",
      " 15  pages-href             92 non-null     object\n",
      " 16  القضايا                0 non-null      object\n",
      " 17  القضايا-href           0 non-null      object\n",
      " 18  الصفحات                0 non-null      object\n",
      " 19  الصفحات-href           0 non-null      object\n",
      "dtypes: object(20)\n",
      "memory usage: 31.5+ KB\n"
     ]
    }
   ],
   "source": [
    "data.info()"
   ]
  },
  {
   "cell_type": "code",
   "execution_count": 10,
   "id": "db53fd4c",
   "metadata": {},
   "outputs": [
    {
     "data": {
      "text/plain": [
       "192"
      ]
     },
     "execution_count": 10,
     "metadata": {},
     "output_type": "execute_result"
    }
   ],
   "source": [
    "data['الصفحات-href'].isnull().sum()"
   ]
  },
  {
   "cell_type": "code",
   "execution_count": 11,
   "id": "071e8591",
   "metadata": {},
   "outputs": [
    {
     "data": {
      "text/plain": [
       "192"
      ]
     },
     "execution_count": 11,
     "metadata": {},
     "output_type": "execute_result"
    }
   ],
   "source": [
    "data['القضايا-href'].isnull().sum()"
   ]
  },
  {
   "cell_type": "code",
   "execution_count": 12,
   "id": "d51e6c56",
   "metadata": {},
   "outputs": [
    {
     "data": {
      "text/plain": [
       "100"
      ]
     },
     "execution_count": 12,
     "metadata": {},
     "output_type": "execute_result"
    }
   ],
   "source": [
    "data['pages-href'].isnull().sum()"
   ]
  },
  {
   "cell_type": "code",
   "execution_count": 13,
   "id": "f993b005",
   "metadata": {
    "scrolled": true
   },
   "outputs": [
    {
     "data": {
      "text/plain": [
       "100"
      ]
     },
     "execution_count": 13,
     "metadata": {},
     "output_type": "execute_result"
    }
   ],
   "source": [
    "data['pages'].isnull().sum()"
   ]
  },
  {
   "cell_type": "code",
   "execution_count": 14,
   "id": "f029d6a0",
   "metadata": {},
   "outputs": [],
   "source": [
    "data.drop(['pages','pages-href','القضايا-href','الصفحات-href'], axis = 1,inplace=True)"
   ]
  },
  {
   "cell_type": "code",
   "execution_count": 15,
   "id": "a46ff7cb",
   "metadata": {
    "scrolled": true
   },
   "outputs": [
    {
     "name": "stdout",
     "output_type": "stream",
     "text": [
      "<class 'pandas.core.frame.DataFrame'>\n",
      "Int64Index: 192 entries, 0 to 213\n",
      "Data columns (total 16 columns):\n",
      " #   Column                 Non-Null Count  Dtype \n",
      "---  ------                 --------------  ----- \n",
      " 0   web-scraper-order      192 non-null    object\n",
      " 1   web-scraper-start-url  192 non-null    object\n",
      " 2   links                  102 non-null    object\n",
      " 3   links-href             102 non-null    object\n",
      " 4   court                  192 non-null    object\n",
      " 5   case_number            102 non-null    object\n",
      " 6   case_date              102 non-null    object\n",
      " 7   appellate_court        89 non-null     object\n",
      " 8   appellate_id           89 non-null     object\n",
      " 9   appellate_date         89 non-null     object\n",
      " 10  region                 116 non-null    object\n",
      " 11  city                   192 non-null    object\n",
      " 12  judgment_text          192 non-null    object\n",
      " 13  appeal                 89 non-null     object\n",
      " 14  القضايا                0 non-null      object\n",
      " 15  الصفحات                0 non-null      object\n",
      "dtypes: object(16)\n",
      "memory usage: 25.5+ KB\n"
     ]
    }
   ],
   "source": [
    "data.info()"
   ]
  },
  {
   "cell_type": "code",
   "execution_count": 16,
   "id": "e3b9056a",
   "metadata": {},
   "outputs": [
    {
     "data": {
      "text/plain": [
       "192"
      ]
     },
     "execution_count": 16,
     "metadata": {},
     "output_type": "execute_result"
    }
   ],
   "source": [
    "data['القضايا'].isnull().sum()"
   ]
  },
  {
   "cell_type": "code",
   "execution_count": 17,
   "id": "21ebcb69",
   "metadata": {
    "scrolled": true
   },
   "outputs": [
    {
     "data": {
      "text/plain": [
       "192"
      ]
     },
     "execution_count": 17,
     "metadata": {},
     "output_type": "execute_result"
    }
   ],
   "source": [
    "data['الصفحات'].isnull().sum()"
   ]
  },
  {
   "cell_type": "code",
   "execution_count": 18,
   "id": "103c28e3",
   "metadata": {},
   "outputs": [],
   "source": [
    "data.drop(['القضايا','الصفحات'], axis = 1,inplace=True)"
   ]
  },
  {
   "cell_type": "code",
   "execution_count": 19,
   "id": "9aba97f2",
   "metadata": {
    "scrolled": false
   },
   "outputs": [
    {
     "name": "stdout",
     "output_type": "stream",
     "text": [
      "<class 'pandas.core.frame.DataFrame'>\n",
      "Int64Index: 192 entries, 0 to 213\n",
      "Data columns (total 14 columns):\n",
      " #   Column                 Non-Null Count  Dtype \n",
      "---  ------                 --------------  ----- \n",
      " 0   web-scraper-order      192 non-null    object\n",
      " 1   web-scraper-start-url  192 non-null    object\n",
      " 2   links                  102 non-null    object\n",
      " 3   links-href             102 non-null    object\n",
      " 4   court                  192 non-null    object\n",
      " 5   case_number            102 non-null    object\n",
      " 6   case_date              102 non-null    object\n",
      " 7   appellate_court        89 non-null     object\n",
      " 8   appellate_id           89 non-null     object\n",
      " 9   appellate_date         89 non-null     object\n",
      " 10  region                 116 non-null    object\n",
      " 11  city                   192 non-null    object\n",
      " 12  judgment_text          192 non-null    object\n",
      " 13  appeal                 89 non-null     object\n",
      "dtypes: object(14)\n",
      "memory usage: 22.5+ KB\n"
     ]
    }
   ],
   "source": [
    "data.info()"
   ]
  },
  {
   "cell_type": "code",
   "execution_count": 20,
   "id": "083217f8",
   "metadata": {
    "scrolled": true
   },
   "outputs": [
    {
     "data": {
      "text/html": [
       "<div>\n",
       "<style scoped>\n",
       "    .dataframe tbody tr th:only-of-type {\n",
       "        vertical-align: middle;\n",
       "    }\n",
       "\n",
       "    .dataframe tbody tr th {\n",
       "        vertical-align: top;\n",
       "    }\n",
       "\n",
       "    .dataframe thead th {\n",
       "        text-align: right;\n",
       "    }\n",
       "</style>\n",
       "<table border=\"1\" class=\"dataframe\">\n",
       "  <thead>\n",
       "    <tr style=\"text-align: right;\">\n",
       "      <th></th>\n",
       "      <th>web-scraper-order</th>\n",
       "      <th>web-scraper-start-url</th>\n",
       "      <th>links</th>\n",
       "      <th>links-href</th>\n",
       "      <th>court</th>\n",
       "      <th>case_number</th>\n",
       "      <th>case_date</th>\n",
       "      <th>appellate_court</th>\n",
       "      <th>appellate_id</th>\n",
       "      <th>appellate_date</th>\n",
       "      <th>region</th>\n",
       "      <th>city</th>\n",
       "      <th>judgment_text</th>\n",
       "      <th>appeal</th>\n",
       "    </tr>\n",
       "  </thead>\n",
       "  <tbody>\n",
       "    <tr>\n",
       "      <th>0</th>\n",
       "      <td>1640298117-87</td>\n",
       "      <td>https://sjp.moj.gov.sa/Filter?isFilterButtonCl...</td>\n",
       "      <td>القضية رقم  ٤٦٤٦ لعام ١٤٤٢ هـ</td>\n",
       "      <td>https://sjp.moj.gov.sa/Filter/AhkamDetails/38991</td>\n",
       "      <td>المحكمة: المحكمة التجارية</td>\n",
       "      <td>رقم القضية - القرار: ٤٦٤٦</td>\n",
       "      <td>تاريخها: ٩/١/١٤٤٣</td>\n",
       "      <td>محكمة الاستئناف: المحكمة التجارية</td>\n",
       "      <td>رقم القرار: ٧٨٥</td>\n",
       "      <td>تاريخه: ٧/٣/١٤٤٣</td>\n",
       "      <td>المدينة: منطقة الرياض</td>\n",
       "      <td>المدينه: الرياض</td>\n",
       "      <td>الحمد لله والصلاة والسلام على رسول ﷲ أما بعد:\\...</td>\n",
       "      <td>الحمد لله والصلاة والسلام على رسول ﷲ أما بعد:\\...</td>\n",
       "    </tr>\n",
       "    <tr>\n",
       "      <th>1</th>\n",
       "      <td>1640297824-62</td>\n",
       "      <td>https://sjp.moj.gov.sa/Filter?isFilterButtonCl...</td>\n",
       "      <td>القضية رقم  ٦٩٥٨ لعام ١٤٤٢ هـ</td>\n",
       "      <td>https://sjp.moj.gov.sa/Filter/AhkamDetails/38903</td>\n",
       "      <td>المحكمة: المحكمة التجارية</td>\n",
       "      <td>رقم القضية - القرار: ٦٩٥٨</td>\n",
       "      <td>تاريخها: ٢٥/١٢/١٤٤٢</td>\n",
       "      <td>محكمة الاستئناف: المحكمة التجارية</td>\n",
       "      <td>رقم القرار: ٥٤٦</td>\n",
       "      <td>تاريخه: ٦/٣/١٤٤٣</td>\n",
       "      <td>المدينة: منطقة الرياض</td>\n",
       "      <td>المدينه: الرياض</td>\n",
       "      <td>الحمد لله والصلاة والسلام على رسول ﷲ أما بعد:\\...</td>\n",
       "      <td>الحمد لله والصلاة والسلام على رسول ﷲ أما بعد:\\...</td>\n",
       "    </tr>\n",
       "    <tr>\n",
       "      <th>2</th>\n",
       "      <td>1640298107-86</td>\n",
       "      <td>https://sjp.moj.gov.sa/Filter?isFilterButtonCl...</td>\n",
       "      <td>القضية رقم  ٦٦٠٧ لعام ١٤٤٢ هـ</td>\n",
       "      <td>https://sjp.moj.gov.sa/Filter/AhkamDetails/38992</td>\n",
       "      <td>المحكمة: المحكمة التجارية</td>\n",
       "      <td>رقم القضية - القرار: ٦٦٠٧</td>\n",
       "      <td>تاريخها: ٩/١/١٤٤٣</td>\n",
       "      <td>محكمة الاستئناف: المحكمة التجارية</td>\n",
       "      <td>رقم القرار: ٧٩٠</td>\n",
       "      <td>تاريخه: ٧/٣/١٤٤٣</td>\n",
       "      <td>المدينة: منطقة الرياض</td>\n",
       "      <td>المدينه: الرياض</td>\n",
       "      <td>الحمد لله والصلاة والسلام على رسول ﷲ أما بعد:\\...</td>\n",
       "      <td>الحمد لله والصلاة والسلام على رسول ﷲ أما بعد:\\...</td>\n",
       "    </tr>\n",
       "    <tr>\n",
       "      <th>3</th>\n",
       "      <td>1640297908-69</td>\n",
       "      <td>https://sjp.moj.gov.sa/Filter?isFilterButtonCl...</td>\n",
       "      <td>القضية رقم  ٤٣٣١ لعام ١٤٤٢ هـ</td>\n",
       "      <td>https://sjp.moj.gov.sa/Filter/AhkamDetails/39268</td>\n",
       "      <td>المحكمة: المحكمة التجارية</td>\n",
       "      <td>رقم القضية - القرار: ٤٣٣١</td>\n",
       "      <td>تاريخها: ١٨/١١/١٤٤٢</td>\n",
       "      <td>محكمة الاستئناف: المحكمة التجارية</td>\n",
       "      <td>رقم القرار: ٣٧</td>\n",
       "      <td>تاريخه: ٧/٣/١٤٤٣</td>\n",
       "      <td>المدينة: منطقة الرياض</td>\n",
       "      <td>المدينه: الرياض</td>\n",
       "      <td>الحمد لله والصلاة والسلام على رسول ﷲ أما بعد:\\...</td>\n",
       "      <td>الحمد لله والصلاة والسلام على رسول ﷲ أما بعد:\\...</td>\n",
       "    </tr>\n",
       "  </tbody>\n",
       "</table>\n",
       "</div>"
      ],
      "text/plain": [
       "  web-scraper-order                              web-scraper-start-url  \\\n",
       "0     1640298117-87  https://sjp.moj.gov.sa/Filter?isFilterButtonCl...   \n",
       "1     1640297824-62  https://sjp.moj.gov.sa/Filter?isFilterButtonCl...   \n",
       "2     1640298107-86  https://sjp.moj.gov.sa/Filter?isFilterButtonCl...   \n",
       "3     1640297908-69  https://sjp.moj.gov.sa/Filter?isFilterButtonCl...   \n",
       "\n",
       "                           links  \\\n",
       "0  القضية رقم  ٤٦٤٦ لعام ١٤٤٢ هـ   \n",
       "1  القضية رقم  ٦٩٥٨ لعام ١٤٤٢ هـ   \n",
       "2  القضية رقم  ٦٦٠٧ لعام ١٤٤٢ هـ   \n",
       "3  القضية رقم  ٤٣٣١ لعام ١٤٤٢ هـ   \n",
       "\n",
       "                                         links-href  \\\n",
       "0  https://sjp.moj.gov.sa/Filter/AhkamDetails/38991   \n",
       "1  https://sjp.moj.gov.sa/Filter/AhkamDetails/38903   \n",
       "2  https://sjp.moj.gov.sa/Filter/AhkamDetails/38992   \n",
       "3  https://sjp.moj.gov.sa/Filter/AhkamDetails/39268   \n",
       "\n",
       "                       court                case_number            case_date  \\\n",
       "0  المحكمة: المحكمة التجارية  رقم القضية - القرار: ٤٦٤٦    تاريخها: ٩/١/١٤٤٣   \n",
       "1  المحكمة: المحكمة التجارية  رقم القضية - القرار: ٦٩٥٨  تاريخها: ٢٥/١٢/١٤٤٢   \n",
       "2  المحكمة: المحكمة التجارية  رقم القضية - القرار: ٦٦٠٧    تاريخها: ٩/١/١٤٤٣   \n",
       "3  المحكمة: المحكمة التجارية  رقم القضية - القرار: ٤٣٣١  تاريخها: ١٨/١١/١٤٤٢   \n",
       "\n",
       "                     appellate_court     appellate_id    appellate_date  \\\n",
       "0  محكمة الاستئناف: المحكمة التجارية  رقم القرار: ٧٨٥  تاريخه: ٧/٣/١٤٤٣   \n",
       "1  محكمة الاستئناف: المحكمة التجارية  رقم القرار: ٥٤٦  تاريخه: ٦/٣/١٤٤٣   \n",
       "2  محكمة الاستئناف: المحكمة التجارية  رقم القرار: ٧٩٠  تاريخه: ٧/٣/١٤٤٣   \n",
       "3  محكمة الاستئناف: المحكمة التجارية   رقم القرار: ٣٧  تاريخه: ٧/٣/١٤٤٣   \n",
       "\n",
       "                  region             city  \\\n",
       "0  المدينة: منطقة الرياض  المدينه: الرياض   \n",
       "1  المدينة: منطقة الرياض  المدينه: الرياض   \n",
       "2  المدينة: منطقة الرياض  المدينه: الرياض   \n",
       "3  المدينة: منطقة الرياض  المدينه: الرياض   \n",
       "\n",
       "                                       judgment_text  \\\n",
       "0  الحمد لله والصلاة والسلام على رسول ﷲ أما بعد:\\...   \n",
       "1  الحمد لله والصلاة والسلام على رسول ﷲ أما بعد:\\...   \n",
       "2  الحمد لله والصلاة والسلام على رسول ﷲ أما بعد:\\...   \n",
       "3  الحمد لله والصلاة والسلام على رسول ﷲ أما بعد:\\...   \n",
       "\n",
       "                                              appeal  \n",
       "0  الحمد لله والصلاة والسلام على رسول ﷲ أما بعد:\\...  \n",
       "1  الحمد لله والصلاة والسلام على رسول ﷲ أما بعد:\\...  \n",
       "2  الحمد لله والصلاة والسلام على رسول ﷲ أما بعد:\\...  \n",
       "3  الحمد لله والصلاة والسلام على رسول ﷲ أما بعد:\\...  "
      ]
     },
     "execution_count": 20,
     "metadata": {},
     "output_type": "execute_result"
    }
   ],
   "source": [
    "data.head(4)"
   ]
  },
  {
   "cell_type": "markdown",
   "id": "ce8ca92c",
   "metadata": {},
   "source": [
    "## remove ponctuations"
   ]
  },
  {
   "cell_type": "code",
   "execution_count": 21,
   "id": "d38bc4e7",
   "metadata": {},
   "outputs": [],
   "source": [
    "arabic_punctuations = '''`÷×؛<>_()*&^%][ـ،/:\"؟.,'{}~¦+|\"!”…“–ـ'''"
   ]
  },
  {
   "cell_type": "code",
   "execution_count": 22,
   "id": "a7922b67",
   "metadata": {},
   "outputs": [],
   "source": [
    "def remove_punctuations(text):\n",
    "    translator = str.maketrans(' ', ' ', arabic_punctuations)\n",
    "    return text.translate(translator)\n",
    "data['judgment_text'] =data['judgment_text'].map(remove_punctuations)"
   ]
  },
  {
   "cell_type": "code",
   "execution_count": 23,
   "id": "70461094",
   "metadata": {},
   "outputs": [],
   "source": [
    "#data.judgment_text = data.judgment_text.replace('\\n','')"
   ]
  },
  {
   "cell_type": "markdown",
   "id": "8dffa384",
   "metadata": {},
   "source": [
    "## normalize_arabic"
   ]
  },
  {
   "cell_type": "code",
   "execution_count": 24,
   "id": "f0afb50f",
   "metadata": {},
   "outputs": [],
   "source": [
    "def normalize_arabic(text):\n",
    "    text = re.sub(\"[إأآا]\", \"ا\", text)\n",
    "    text = re.sub(\"ى\", \"ي\", text)\n",
    "    text = re.sub(\"ة\", \"ه\", text)\n",
    "    text = re.sub(\"گ\", \"ك\", text)\n",
    "    return text"
   ]
  },
  {
   "cell_type": "code",
   "execution_count": 25,
   "id": "d327a1f5",
   "metadata": {},
   "outputs": [],
   "source": [
    "data['judgment_text'] =data['judgment_text'].map(normalize_arabic)"
   ]
  },
  {
   "cell_type": "markdown",
   "id": "21b3571f",
   "metadata": {},
   "source": [
    "## remove numbers"
   ]
  },
  {
   "cell_type": "code",
   "execution_count": 26,
   "id": "8aefef33",
   "metadata": {},
   "outputs": [],
   "source": [
    "data['judgment_text'] =data['judgment_text'].str.replace('\\w*\\d\\w*', ' ')"
   ]
  },
  {
   "cell_type": "code",
   "execution_count": 27,
   "id": "8e1aac7e",
   "metadata": {},
   "outputs": [],
   "source": [
    "data['judgment_text'] =data['judgment_text'].str.replace('\\\\', ' ')"
   ]
  },
  {
   "cell_type": "markdown",
   "id": "776dd78b",
   "metadata": {},
   "source": [
    "## remove \\n"
   ]
  },
  {
   "cell_type": "code",
   "execution_count": 28,
   "id": "310a2bfb",
   "metadata": {},
   "outputs": [],
   "source": [
    "data['judgment_text'] =data['judgment_text'].str.replace(r'\\s', ' ')"
   ]
  },
  {
   "cell_type": "code",
   "execution_count": 29,
   "id": "a0db8fa3",
   "metadata": {},
   "outputs": [],
   "source": [
    "data['judgment_text'] =data['judgment_text'].str.replace(r'\\s*[A-Za-z]+\\b', ' ')"
   ]
  },
  {
   "cell_type": "code",
   "execution_count": 30,
   "id": "e54e1008",
   "metadata": {},
   "outputs": [],
   "source": [
    "data['judgment_text'] =data['judgment_text'].str.replace('-', ' ')"
   ]
  },
  {
   "cell_type": "code",
   "execution_count": 55,
   "id": "fd01ba54",
   "metadata": {},
   "outputs": [],
   "source": [
    "data['judgment_text'] =data['judgment_text'].str.replace('\\u200c', ' ')"
   ]
  },
  {
   "cell_type": "code",
   "execution_count": 56,
   "id": "b18f9f09",
   "metadata": {},
   "outputs": [
    {
     "data": {
      "text/plain": [
       "'الحمد لله والصلاه والسلام علي رسول ﷲ اما بعد فلدي الدائره التجاريه الثانيه عشره وبناءً علي القضيه رقم    لعام   ه  المقامه من شركه شبال للتجاره مساهمه مقفله سجل تجاري   ضد عبدﷲ محمد عبدﷲ فلاته هويه وطنيه    القاضي بندر بن صالح الحميد رئيسا القاضي بكر بن خلف العنزي عضوا القاضي عبدالرحمن بن سعد السعد عضوا   الوقائع  تتحصل وقائع هذه الدعوي بالقدر اللازم لاصدار هذا الحكم وحسبما يتبين من اوراقها بتقدم وكيل المدعي نايف بدر غازي المرشدي هويه رقم  بصفته وكيلا عن شركه شبال للتجاره مساهمه مقفله بوكاله رقم    بلائحه دعوي ضد المدعي عليها مؤسسه اثير الصفوه للتجاره سجل رقم  تضمنت ما يلي    بتاريخ       م قامت المدعي عليها بفتح حساب شراء بضاعه بالاجل لدي موكلتي علي ان توفر موكلتي للمدعي عليها الاقمشه المطلوبه بالاجل وتقوم المدعي عليها بالسداد خلال العام نفسه ولا يتم تجاوز نفس العام    استمرت العلاقه التعاقديه طيله الفتره الماضيه بناءً علي الاتفاق نفسه مع تغيير المؤسسه المباشره للتعاملات الي مؤسسه اثير الصفوه للتجاره والعائده جميعها للمالك نفسه عبدﷲ محمد عبدﷲ فلاته    اشترت المدعي عليها اقمشه رجاله صيفيه نوع ريتشي موديل صيفي من موكلتي للفتره من       حتي       وذلك بمبلغ وقدره   مليون وسبعمائه وخمسه وسبعين الف و اربعمائه وتسعه وثلاثين ريال سعودي    استلمت المدعي عليها البضاعه المحدده وتصرفت بها    طالبت موكلتي المدعي عليها بالسداد وردت المدعي عليها بخطاب بالوعد بالسداد و جدوله المبلغ علي دفعات متفرقه    لم تف المدعي عليها بالوعد بالسداد حتي الان جميع المبالغ حاله الوفاء بتاريخ       م  وانتهي وكيل المدعيه الي طلب الزام المدعي عليها بان يدفع لموكلته مبلغاً قدره   مليون وسبعمائه وخمسه وسبعين الف و اربعمائه وتسعه وثلاثين ريال سعودي بالاضافه الي اتعاب المحاماه وقد قدمت بيناتها علي دعواها تمثلت في عقد التوريد علي ورقه بيضاء تضمن الاتفاق يوم الاحد بتاريخ    بين الطرف الاول شركه شبال للتجاره المحدوده اقمشه ريتشي العالميه والطرف الثاني اثير الصفوه للخياطه الرجاليه عبد ﷲ فلاته بقيام الطرف الاول بتوريد البضاعه التي يحتاج اليها الطرف الثاني من اقمشه ريتشي العالميه وذلك حسب رغبه واختيار الطرف الثاني مذيل بتوقيع وختم الطرفين شركه شبال المحدوده ومكتب عبد ﷲ فلاته للخدمات التجاريه كما قدمت المدعيه فواتير علي مطبوعات ريتشي بتاريخ   بمجموع كلي مقداره   ريال وقد اقيم لنظر هذه القضيه جلستان ففي الجلسه الاولي بتاريخ   حضر طرفا الدعوي وكاله وبسؤال المدعي وكاله عن الدعوي احال علي لائحه الدعوي وبعرضها علي المدعي عليه اجاب قائلا اطلب مهله للرد وافهم طرفا الدعوي بتبادل المذكرات ورفعت الجلسه ثم قدم المدعي عليه مذكرته بتاريخ   تضمنت اولاً اقيمت الدعوي ضد مؤسسه اثير الصفوه للتجاره وارفق بها عقد مكتوب في عام   وعليه ختم مكتب عبدﷲ ابراهيم فلاته للخدمات التجاريه وهذا العقد مكتوب في مقدمته انه بين المدعي واثير الصفوه للخياطه الرجاليه وعليه ختم ورقم السجل التجاري للمكتب المذكور ثانياً السجل التجاري للمكتب المذكور قد انتهي العمل به واغلقت مؤسسه الخدمات التجاريه وانتهي التعامل بين المؤسسه والمدعي ثالثا ويؤيد ذلك ما ارفقته المدعيه من فواتير تؤكد ذلك وتبين ان التعامل كان مع شركه اخري وباتفاق اخر غير ما ورد في الدعوي و هذه الشركه لها شخصيه اعتباريه وذمه ماليه مستقله ويملكها شخصان ولا ترتبط بالمدعي عليه مكتب عبدﷲ فلاته للخدمات التجاريه  المنتهي منذ سنوات   وبجلسه   المنعقده عن بعد حضر اطراف الدعوي ورات الجلسه صلاحيه الدعوي للفصل فيها وعليه قررت الدائره رفع الجلسه للمداوله   الاسباب  لما كان من اللازم قبل الولوج في موضوع النزاع النظر في صحه قيد الدعوي وحسب ما جاء في نظام المحاكم التجاريه الصادر بالمرسوم الملكي رقم   وتاريخ   الماده العشرون   يجب ان تتضمن صحيفه الدعوي الاتي ا        بيانات الاطراف وممثليهم وصفاتهم وعناوينهم والبيانات والوثائق التي تحددها اللائحه ب        حصر الطلبات وتحديد جميع اسانيد الدعوي وحيث ذكرت المدعيه في دعواها ان اثير الصفوه هي والاسم التجاري مكتب عبدﷲ فلاته هما لنفس الشخص بدليل ان السجل واحد لم يتغير ولم تقدم البينات والوثائق المطلوبه لاثبات هذا الادعاء مع وجوب ارفاقها بلائحه الدعوي فالدعوي والامر ما سبق حريه بعدم القبول كما ان الدائره باطلاعها علي العقد المرفق من المدعيه ضعت بجانب اسم مؤسسه اثير الصفوه عبدﷲ بن ابراهيم فلاته وليس عبدلله بن محمد بن عبدﷲ فلاته وعلي المدعيه تبيين سبب الاختلاف في حال رغبت في اقامه الدعوي مره اخري وبناء عليه   منطوق الحكم  حكمت الدائره بعدم قبول هذه الدعوي وﷲ الموفق وصلي ﷲ وسلم علي نبينا محمد وعلي اله وصحبه اجمعين   عضو  بكر بن خلف العنزي عضو  عبدالرحمن بن سعد السعد رئيس الدائره  بندر بن صالح الحميد'"
      ]
     },
     "execution_count": 56,
     "metadata": {},
     "output_type": "execute_result"
    }
   ],
   "source": [
    "data['judgment_text'][1]"
   ]
  },
  {
   "cell_type": "markdown",
   "id": "d59f105e",
   "metadata": {},
   "source": [
    "Strip tatweel from a text and return a result text"
   ]
  },
  {
   "cell_type": "code",
   "execution_count": 33,
   "id": "7efb2850",
   "metadata": {},
   "outputs": [
    {
     "name": "stdout",
     "output_type": "stream",
     "text": [
      "حكمتِ\n",
      "حكمت\n"
     ]
    }
   ],
   "source": [
    "text=\"حَكَمَتِ\"\n",
    "a = text.replace('\\u064E', '')# َ\n",
    "print(a)\n",
    "a=a.replace('\\u0650', '')#ِ\n",
    "print(a)"
   ]
  },
  {
   "cell_type": "code",
   "execution_count": 34,
   "id": "3288baba",
   "metadata": {},
   "outputs": [],
   "source": [
    "import pyarabic.araby as araby\n",
    "import pyarabic.number as number"
   ]
  },
  {
   "cell_type": "code",
   "execution_count": 35,
   "id": "d479d62e",
   "metadata": {},
   "outputs": [
    {
     "data": {
      "text/plain": [
       "'حكمت'"
      ]
     },
     "execution_count": 35,
     "metadata": {},
     "output_type": "execute_result"
    }
   ],
   "source": [
    "araby.strip_tashkeel('حَكَمَتِ')"
   ]
  },
  {
   "cell_type": "code",
   "execution_count": 36,
   "id": "472d5c8c",
   "metadata": {
    "scrolled": true
   },
   "outputs": [],
   "source": [
    "#araby.strip_tashkeel(data['judgment_text'])"
   ]
  },
  {
   "cell_type": "code",
   "execution_count": 37,
   "id": "821a9e14",
   "metadata": {},
   "outputs": [
    {
     "data": {
      "text/plain": [
       "\"\\ndef converter(x):\\n    try:\\n        return ([araby.strip_tashkeel(x) for i in x])\\n    except AttributeError:\\n        return None  # or some other value\\ndata['judgment_text'] = data['judgment_text'].str.apply(converter)\\n\""
      ]
     },
     "execution_count": 37,
     "metadata": {},
     "output_type": "execute_result"
    }
   ],
   "source": [
    "'''\n",
    "def converter(x):\n",
    "    try:\n",
    "        return ([araby.strip_tashkeel(x) for i in x])\n",
    "    except AttributeError:\n",
    "        return None  # or some other value\n",
    "data['judgment_text'] = data['judgment_text'].str.apply(converter)\n",
    "'''"
   ]
  },
  {
   "cell_type": "code",
   "execution_count": 38,
   "id": "dfa56edf",
   "metadata": {},
   "outputs": [
    {
     "data": {
      "text/plain": [
       "\"\\ndef remove_tashkeel(f):\\n    return araby.strip_tashkeel(f)\\ndata['judgment_text'] = data.judgment_text.map(remove_tashkeel)\\n\""
      ]
     },
     "execution_count": 38,
     "metadata": {},
     "output_type": "execute_result"
    }
   ],
   "source": [
    "'''\n",
    "def remove_tashkeel(f):\n",
    "    return araby.strip_tashkeel(f)\n",
    "data['judgment_text'] = data.judgment_text.map(remove_tashkeel)\n",
    "'''"
   ]
  },
  {
   "cell_type": "code",
   "execution_count": 57,
   "id": "fcd5e180",
   "metadata": {},
   "outputs": [],
   "source": [
    "data.judgment_text = data.judgment_text.str.replace('\\u0640', '')"
   ]
  },
  {
   "cell_type": "code",
   "execution_count": 58,
   "id": "6d4137d1",
   "metadata": {},
   "outputs": [],
   "source": [
    "data.judgment_text= data.judgment_text.str.replace('\\u064E', '')# َ"
   ]
  },
  {
   "cell_type": "code",
   "execution_count": 59,
   "id": "a9a6458c",
   "metadata": {},
   "outputs": [],
   "source": [
    "data.judgment_text= data.judgment_text.str.replace('\\u0650', '')# َ"
   ]
  },
  {
   "cell_type": "code",
   "execution_count": 61,
   "id": "04cab6f2",
   "metadata": {},
   "outputs": [],
   "source": [
    " def get_Verdict(Verdict):\n",
    "        \n",
    "    if \"حكمت\"  in Verdict:\n",
    "         return str.split(Verdict, \"حكمت\",1)[1]\n",
    "    #if \"حـكمـت\"  in Verdict:\n",
    "        # return str.split(Verdict, \"حـكمـت\",1)[1]\n",
    "    if \"قررت\"  in Verdict:\n",
    "         return str.split(Verdict, \"قررت\",1)[1]\n",
    "    if \"منطوق\"  in Verdict:\n",
    "         return str.split(Verdict, \"منطوق\",1)[1]\n",
    "    if \"منطوف\"  in Verdict:\n",
    "         return str.split(Verdict, \"منطوف\",1)[1]\n",
    "    return None\n",
    "data['Verdict'] =data['judgment_text'].map(get_Verdict)"
   ]
  },
  {
   "cell_type": "code",
   "execution_count": 62,
   "id": "05af7601",
   "metadata": {},
   "outputs": [
    {
     "data": {
      "text/plain": [
       "' الدائره بعدم اختصاص المحكمه التجاريه نوعيًا بنظر الدعوي رقم   لعام   والمقامه من المدعي قاسم بن حسين بن علي المكحل ذي الهويه الوطنيه رقم ضد المدعي عليها فاطمه بنت حسين الشيخ ذي الهويه الوطنيه رقم  وﷲ الموفق والهادي الي سواء السبيل وصلي ﷲ وسلم علي نبينا محمد وعلي اله وصحبه اجمعين  عضو فيصل بن احمد الزهراني  عضو عبدالعزيز بن عبدالرحمن بن صالح الراجح  رئيس الدائره عبدﷲ بن عبدالرحمن اليابس'"
      ]
     },
     "execution_count": 62,
     "metadata": {},
     "output_type": "execute_result"
    }
   ],
   "source": [
    "data['Verdict'][200]"
   ]
  },
  {
   "cell_type": "code",
   "execution_count": 44,
   "id": "58aebcf5",
   "metadata": {},
   "outputs": [],
   "source": [
    "#data['judgment_text'][29]"
   ]
  },
  {
   "cell_type": "code",
   "execution_count": 45,
   "id": "9901644c",
   "metadata": {},
   "outputs": [
    {
     "name": "stdout",
     "output_type": "stream",
     "text": [
      "منطوف\n"
     ]
    }
   ],
   "source": [
    "blob = TextBlob(\"منطوف\")\n",
    "print(blob.correct())"
   ]
  },
  {
   "cell_type": "code",
   "execution_count": 63,
   "id": "c7f8dc29",
   "metadata": {},
   "outputs": [
    {
     "data": {
      "text/html": [
       "<div>\n",
       "<style scoped>\n",
       "    .dataframe tbody tr th:only-of-type {\n",
       "        vertical-align: middle;\n",
       "    }\n",
       "\n",
       "    .dataframe tbody tr th {\n",
       "        vertical-align: top;\n",
       "    }\n",
       "\n",
       "    .dataframe thead th {\n",
       "        text-align: right;\n",
       "    }\n",
       "</style>\n",
       "<table border=\"1\" class=\"dataframe\">\n",
       "  <thead>\n",
       "    <tr style=\"text-align: right;\">\n",
       "      <th></th>\n",
       "      <th>web-scraper-order</th>\n",
       "      <th>web-scraper-start-url</th>\n",
       "      <th>links</th>\n",
       "      <th>links-href</th>\n",
       "      <th>court</th>\n",
       "      <th>case_number</th>\n",
       "      <th>case_date</th>\n",
       "      <th>appellate_court</th>\n",
       "      <th>appellate_id</th>\n",
       "      <th>appellate_date</th>\n",
       "      <th>region</th>\n",
       "      <th>city</th>\n",
       "      <th>judgment_text</th>\n",
       "      <th>appeal</th>\n",
       "      <th>Verdict</th>\n",
       "    </tr>\n",
       "  </thead>\n",
       "  <tbody>\n",
       "  </tbody>\n",
       "</table>\n",
       "</div>"
      ],
      "text/plain": [
       "Empty DataFrame\n",
       "Columns: [web-scraper-order, web-scraper-start-url, links, links-href, court, case_number, case_date, appellate_court, appellate_id, appellate_date, region, city, judgment_text, appeal, Verdict]\n",
       "Index: []"
      ]
     },
     "execution_count": 63,
     "metadata": {},
     "output_type": "execute_result"
    }
   ],
   "source": [
    "data[data['Verdict'].isnull()]"
   ]
  },
  {
   "cell_type": "code",
   "execution_count": 48,
   "id": "ba55503b",
   "metadata": {},
   "outputs": [
    {
     "data": {
      "text/plain": [
       "\"\\nfor col in data['Verdict']:\\n    data['Verdict'].to_csv('Verdict.csv')\\n    \""
      ]
     },
     "execution_count": 48,
     "metadata": {},
     "output_type": "execute_result"
    }
   ],
   "source": [
    "'''\n",
    "for col in data['Verdict']:\n",
    "    data['Verdict'].to_csv('Verdict.csv')\n",
    "    '''"
   ]
  },
  {
   "cell_type": "code",
   "execution_count": 50,
   "id": "bd0af260",
   "metadata": {},
   "outputs": [
    {
     "data": {
      "text/plain": [
       "\"\\nfor col in data['judgment_text']:\\n    data['judgment_text'].to_csv('judgment_csv')\\n    \""
      ]
     },
     "execution_count": 50,
     "metadata": {},
     "output_type": "execute_result"
    }
   ],
   "source": [
    "'''\n",
    "for col in data['judgment_text']:\n",
    "    data['judgment_text'].to_csv('judgment_csv')\n",
    "    '''"
   ]
  },
  {
   "cell_type": "code",
   "execution_count": 51,
   "id": "cef17c8a",
   "metadata": {},
   "outputs": [
    {
     "data": {
      "text/plain": [
       "'\\nwith open(\"judgment_csv\") as f1:\\n    set1 = set(f1.readlines())\\nwith open(\"Verdict.csv\") as f2:\\n    set2 = set(f2.readlines())\\n\\nnondups = set1 - set2\\n\\nwith open(\"file1.csv\", \"w\") as out:\\n    out.writelines(nondups)\\n    '"
      ]
     },
     "execution_count": 51,
     "metadata": {},
     "output_type": "execute_result"
    }
   ],
   "source": [
    "'''\n",
    "with open(\"judgment_csv\") as f1:\n",
    "    set1 = set(f1.readlines())\n",
    "with open(\"Verdict.csv\") as f2:\n",
    "    set2 = set(f2.readlines())\n",
    "\n",
    "nondups = set1 - set2\n",
    "\n",
    "with open(\"file1.csv\", \"w\") as out:\n",
    "    out.writelines(nondups)\n",
    "    '''"
   ]
  },
  {
   "cell_type": "code",
   "execution_count": null,
   "id": "4fc57ba1",
   "metadata": {},
   "outputs": [],
   "source": [
    "#txt = pd.read_csv('file1.csv')"
   ]
  },
  {
   "cell_type": "code",
   "execution_count": 60,
   "id": "f8da289b",
   "metadata": {},
   "outputs": [
    {
     "data": {
      "text/plain": [
       "'الحمد لله والصلاه والسلام علي رسول ﷲ اما بعد فلدي الدائره التجاريه الاولي وبناءً علي القضيه رقم    لعام   ه  المقامه من صاحبه السمو الملكي الاميره ريم بنت فيصل بن سعود بن عبدالعزيز ال سعود هويه وطنيه   ضد سعيد احمد سعيد المساعدي الشهري هويه وطنيه      القاضي ابراهيم بن محمد الفالح رئيسا القاضي عبدﷲ بن محمد البدر عضوا القاضي ناصر بن عبدﷲ بن مبرد عضوا   الوقائع  تتحصل وقائع هذه القضيه بالقدر اللازم لاصدار هذا الحكم بان وكيل المدعيه تقدم بلائحه دعوي الي المحكمه التجاريه بالرياض جاء فيها ما نصه  ان المدعي عليه تقدم للمحكمه التجاريه بدعوي ضد موكلتي صاحبه مؤسسه اميره الخليج الدعائيه لاقامه وتنظيم المعارض سجل تجاري رقم   وتتخلص وقائع الدعوي بمطالبته بمبلغ مائه وخمسون الف ريال واستند في دعواه علي العقد المؤرخ في   لمسابقه شاعر الوطن وسند القبض رقم   في تاريخ   واحيلت القضيه رقم   لعام   للدائره الثالثه عشر في تاريخ   وصدر فيها حكمًا في تاريخ   بمنطوقه فسخ الشراكه و الزام موكلتي بان تدفع للمدعي مبلغ مائه وخمسون الف ريال وتم تنفيذ الحكم من طرف موكلتي وطبقًا للماده الثانيه والعشرون بعد المائه من النظام التجاري فان موكلتي تطلب استرداد اصل العقد وسند القبض حيث انتهي الغرض من هذه المستندات بالنسبه للمدعو سعيد الشهري وذلك بصدور الحكم وتنفيذ مضمونه من قبل موكلتي ولتستطيع موكلتي من رفع دعوي ضد المدعو محمد ناصر عضرس الذي وقع العقد طرف مؤسسه موكلتي المتسبب في خسارتها وطبقًا للماده الثانيه والعشرون بعد المائه من النظام التجاري فانني اطلب من فضيلتكم الحكم بالزام المدعي عليه تسليم اصل هذه الوثائق واساس دعواه و التي بموجبها صدر الحكم ضد موكلتي وختم الدعوي بالطلب الاتي الزام المدعي عليه تسليم اصل العقد و سند القبض وقد تم قيد الدعوي قضيه بالرقم المشار اليه اعلاه واحيلت لهذه الدائره فاجرت ما هو لازم  لنظرها حيث احالت الاطراف الي الترافع الالكتروني بتاريخ   وطلبت الدائره من المدعي عليه الاجابه عن هذه الدعوي وبتاريخ   تقدم المدعي عليه باجابته الالكترونيه عبره الترافع الالكتروني جاء فيها ما نصه اشاره الي الاوراق المطلوبه محل الدعوي افيدكم انها قد فقدت مني خاصه وان التقاضي مع المدعيه قد طال لسنوات في المحاكم العامه والجزائيه والبحث الجنائي واخيراً المحكمه التجاريه ثم حددت الدائره جلسه اليوم للترافع فيها وفيه عقدت عبر الاتصال المرئي عن بعد بواسطه برنامج   جلسه وحضر فيها وكيل المدعيه شريف بن عبدﷲ الرويشد بموجب الوكاله رقم   وتاريخ   ووكيل المدعي عليه محمد بن مرشد المرشد بموجب الوكاله رقم   وتاريخ   وبعرض الصلح علي الاطراف تعذر الصلح وبسؤال وكيل المدعيه عن دعوي موكلته احال علي ما ورد في لائحه الدعوي وبسؤال وكيل المدعي عليه عن اجابه موكله عن هذه الدعوي ارفق في المكان المخصص للمحادثه في البرنامج المنعقد فيه هذه الجلسه وقد جاء اجابه موكله بما نصه نرفض تسليم العقد والسند اولاً لان المدعيه لديها نسخه من السند والعقد ثانيًا وكيلهم السابق محمد عضرس الذي وقع الاتفاقيه ويرغبون تقديم دعوي ضده مازال يهدد برفع شكوي ضد موكلنا ثالثًا هناك قضايا متعلقه بهذه الدعوي لم تنتهي بعد ومنها اتعاب المحاماه وقضيه رد اعتبار وقضيه تعويض عن اضرار وسنتحتاج للاصول في هذه القضايا علي الاقل قضيه التعويض فسالت الدائره وكيل المدعي عليه هل المستندات الاصليه محل المطالبه لاتزال بحوزه موكله حتي هذه الجلسه وانها لديه وليست مفقوده اجاب قائلاً بان المستندات الاصل لاتزال موجوده لدي موكلي وهي بحوزته وقد كانت مفقوده ثم وجدها وبسؤال الاطراف هل توجد دعوي مقامه في المحاكم ولاتزال منظوره وتخص السندات محل المطالبه  فافاد الاطراف بعدم وجود دعوي في حين اضاف وكيل المدعي عليه بان هناك دعوي اقيمت ضد المدعيه تتعلق باتعاب الترافع رقم   لعام   وقد فصل فيها بحكم ابتدائي تضمن الزام المدعيه باتعاب الترافع ثم قرر وكيل المدعيه الاكتفاء وبناء علي ما تقدم قررت الدائره اقفال باب المرافعه للمداوله والنطق بالحكم   الاسباب  تاسيسًا علي ما ورد في الواقعات سالفه الذكر وبما ان المدعيه تطالب في هذه الدعوي باسترداد اصلي السندين   العقد المعنون بعقد اتفاق المؤرخ في   والمكون من ثلاث صفحات   سند القبض رقم   وتاريخ   والوارد فيه واقعه استلام   ريال من قبل المدعي عليه وبما ان هذين السندين فصل في الحق الموضوعي بحكم قضائي مكتسب القطعيه وذلك بموجب الحكم الصادر من الدائره الثالثه عشر الابتدائيه بهذه المحكمه في القضيه رقم   لعام   والمؤيد من دائره الاستئناف الثانيه بهذه المحكمه حسب حكمها في القضيه رقم   لعام   وبما ان الماده رقم   من نظام المحاكم التجاريه الصادر بالمرسوم الملكي رقم   وتاريخ    منحت لذي المصلحه التقدم بطلب استرداد مستند حيث نصت علي  لكل ذي مصلحه ان يتقدم للمحكمه بطلب استرداد مستند يدعي انه له او طلب اثبات انقضاء الغرض منه وتامر المحكمه باسترداده وفق احكام الباب السابع من النظام وبما ان الماده رقم   من لائحه النظام الصادره بموجب قرار وزير العدل رقم   وتاريخ   والمنشور في جريده ام القري برقم العدد   وتاريخ   اشترطت لقبول طلب الاسترداد شرطين حيث نصت علي  يشترط لقبول طلب استرداد مستند او اثبات انقضاء الغرض منه  وفق الماده السابعه والاربعين من النظام  الاتي ا  ان يكون المستند المطلوب استرداده او اثبات انقضاء الغرض منه له علاقه بتعامل تجاري تختص بنظره المحكمه ب  الا ينازع الطرف الاخر في الحق الموضوعي المرتبط بالمستند ما لم يكن الحق ثابتاً بحكم نهائي وبما ان هذه المطالبه متعلقه بدعوي تختص المحكمه التجاريه بنظرها  الدعاوي المتعلقه بعقود المضاربه  وبما ان تلك الدعوي فصل فيها بحكم قطعي وبما ان هذه المطالبه استوفت للشروط المتعلقه بقبولها وبما ان وكيل المدعي عليه في جلسه اليوم قرر بان اصل المستندين بحوزه موكله وله وكاله تخوله حق الاقرار فان الدائره تنتهي الي الزام المدعي عليه بان يسلم للمدعيه اصل تلك المستندين محل الدعوي وتحكم بموجب ما تقدم حسب ما جاء في منطوق حكمها ادناه   منطوق الحكم لذا حكمت الدائره بالزام المدعي عليه سعيد بن احمد بن سعيد المساعدي الشهري هويه وطنيه رقم  بان يسلم للمدعيه ريم بنت فيصل بن سعود ال سعود هويه وطنيه رقم  السندين الاتيين   المؤرخ في   المعنون بعقد اتفاق   سند القبض رقم   وتاريخ   لما هو مبين بالاسباب وبﷲ التوفيق  عضو  عبدﷲ بن محمد البدر عضو  ناصر بن عبدﷲ بن مبرد رئيس الدائره  ابراهيم بن محمد الفالح'"
      ]
     },
     "execution_count": 60,
     "metadata": {},
     "output_type": "execute_result"
    }
   ],
   "source": [
    "data['judgment_text'][88]"
   ]
  },
  {
   "cell_type": "code",
   "execution_count": 64,
   "id": "68db014b",
   "metadata": {},
   "outputs": [
    {
     "data": {
      "text/plain": [
       "' الدائره بالزام المدعي عليه سعيد بن احمد بن سعيد المساعدي الشهري هويه وطنيه رقم  بان يسلم للمدعيه ريم بنت فيصل بن سعود ال سعود هويه وطنيه رقم  السندين الاتيين   المؤرخ في   المعنون بعقد اتفاق   سند القبض رقم   وتاريخ   لما هو مبين بالاسباب وبﷲ التوفيق  عضو  عبدﷲ بن محمد البدر عضو  ناصر بن عبدﷲ بن مبرد رئيس الدائره  ابراهيم بن محمد الفالح'"
      ]
     },
     "execution_count": 64,
     "metadata": {},
     "output_type": "execute_result"
    }
   ],
   "source": [
    "data['Verdict'][88]"
   ]
  },
  {
   "cell_type": "code",
   "execution_count": 65,
   "id": "2467f370",
   "metadata": {},
   "outputs": [],
   "source": [
    " def get_incident(incident):\n",
    "        \n",
    "    if \"حكمت\"  in incident:\n",
    "         return str.split(incident, \"حكمت\",1)[0]\n",
    "    #if \"حـكمـت\"  in incident:\n",
    "        # return str.split(incident, \"حـكمـت\",1)[0]\n",
    "    if \"قررت\"  in incident:\n",
    "         return str.split(incident, \"قررت\",1)[0]\n",
    "    if \"منطوق\"  in incident:\n",
    "         return str.split(incident, \"منطوق\",1)[0]\n",
    "    if \"منطوف\"  in incident:\n",
    "         return str.split(incident, \"منطوف\",1)[0]\n",
    "    return None\n",
    "data['incident'] =data['judgment_text'].map(get_incident)"
   ]
  },
  {
   "cell_type": "code",
   "execution_count": 66,
   "id": "5427a5c2",
   "metadata": {},
   "outputs": [
    {
     "data": {
      "text/plain": [
       "'الحمد لله والصلاه والسلام علي رسول ﷲ اما بعد فلدي الدائره التجاريه الاولي وبناءً علي القضيه رقم    لعام   ه  المقامه من صاحبه السمو الملكي الاميره ريم بنت فيصل بن سعود بن عبدالعزيز ال سعود هويه وطنيه   ضد سعيد احمد سعيد المساعدي الشهري هويه وطنيه      القاضي ابراهيم بن محمد الفالح رئيسا القاضي عبدﷲ بن محمد البدر عضوا القاضي ناصر بن عبدﷲ بن مبرد عضوا   الوقائع  تتحصل وقائع هذه القضيه بالقدر اللازم لاصدار هذا الحكم بان وكيل المدعيه تقدم بلائحه دعوي الي المحكمه التجاريه بالرياض جاء فيها ما نصه  ان المدعي عليه تقدم للمحكمه التجاريه بدعوي ضد موكلتي صاحبه مؤسسه اميره الخليج الدعائيه لاقامه وتنظيم المعارض سجل تجاري رقم   وتتخلص وقائع الدعوي بمطالبته بمبلغ مائه وخمسون الف ريال واستند في دعواه علي العقد المؤرخ في   لمسابقه شاعر الوطن وسند القبض رقم   في تاريخ   واحيلت القضيه رقم   لعام   للدائره الثالثه عشر في تاريخ   وصدر فيها حكمًا في تاريخ   بمنطوقه فسخ الشراكه و الزام موكلتي بان تدفع للمدعي مبلغ مائه وخمسون الف ريال وتم تنفيذ الحكم من طرف موكلتي وطبقًا للماده الثانيه والعشرون بعد المائه من النظام التجاري فان موكلتي تطلب استرداد اصل العقد وسند القبض حيث انتهي الغرض من هذه المستندات بالنسبه للمدعو سعيد الشهري وذلك بصدور الحكم وتنفيذ مضمونه من قبل موكلتي ولتستطيع موكلتي من رفع دعوي ضد المدعو محمد ناصر عضرس الذي وقع العقد طرف مؤسسه موكلتي المتسبب في خسارتها وطبقًا للماده الثانيه والعشرون بعد المائه من النظام التجاري فانني اطلب من فضيلتكم الحكم بالزام المدعي عليه تسليم اصل هذه الوثائق واساس دعواه و التي بموجبها صدر الحكم ضد موكلتي وختم الدعوي بالطلب الاتي الزام المدعي عليه تسليم اصل العقد و سند القبض وقد تم قيد الدعوي قضيه بالرقم المشار اليه اعلاه واحيلت لهذه الدائره فاجرت ما هو لازم  لنظرها حيث احالت الاطراف الي الترافع الالكتروني بتاريخ   وطلبت الدائره من المدعي عليه الاجابه عن هذه الدعوي وبتاريخ   تقدم المدعي عليه باجابته الالكترونيه عبره الترافع الالكتروني جاء فيها ما نصه اشاره الي الاوراق المطلوبه محل الدعوي افيدكم انها قد فقدت مني خاصه وان التقاضي مع المدعيه قد طال لسنوات في المحاكم العامه والجزائيه والبحث الجنائي واخيراً المحكمه التجاريه ثم حددت الدائره جلسه اليوم للترافع فيها وفيه عقدت عبر الاتصال المرئي عن بعد بواسطه برنامج   جلسه وحضر فيها وكيل المدعيه شريف بن عبدﷲ الرويشد بموجب الوكاله رقم   وتاريخ   ووكيل المدعي عليه محمد بن مرشد المرشد بموجب الوكاله رقم   وتاريخ   وبعرض الصلح علي الاطراف تعذر الصلح وبسؤال وكيل المدعيه عن دعوي موكلته احال علي ما ورد في لائحه الدعوي وبسؤال وكيل المدعي عليه عن اجابه موكله عن هذه الدعوي ارفق في المكان المخصص للمحادثه في البرنامج المنعقد فيه هذه الجلسه وقد جاء اجابه موكله بما نصه نرفض تسليم العقد والسند اولاً لان المدعيه لديها نسخه من السند والعقد ثانيًا وكيلهم السابق محمد عضرس الذي وقع الاتفاقيه ويرغبون تقديم دعوي ضده مازال يهدد برفع شكوي ضد موكلنا ثالثًا هناك قضايا متعلقه بهذه الدعوي لم تنتهي بعد ومنها اتعاب المحاماه وقضيه رد اعتبار وقضيه تعويض عن اضرار وسنتحتاج للاصول في هذه القضايا علي الاقل قضيه التعويض فسالت الدائره وكيل المدعي عليه هل المستندات الاصليه محل المطالبه لاتزال بحوزه موكله حتي هذه الجلسه وانها لديه وليست مفقوده اجاب قائلاً بان المستندات الاصل لاتزال موجوده لدي موكلي وهي بحوزته وقد كانت مفقوده ثم وجدها وبسؤال الاطراف هل توجد دعوي مقامه في المحاكم ولاتزال منظوره وتخص السندات محل المطالبه  فافاد الاطراف بعدم وجود دعوي في حين اضاف وكيل المدعي عليه بان هناك دعوي اقيمت ضد المدعيه تتعلق باتعاب الترافع رقم   لعام   وقد فصل فيها بحكم ابتدائي تضمن الزام المدعيه باتعاب الترافع ثم قرر وكيل المدعيه الاكتفاء وبناء علي ما تقدم قررت الدائره اقفال باب المرافعه للمداوله والنطق بالحكم   الاسباب  تاسيسًا علي ما ورد في الواقعات سالفه الذكر وبما ان المدعيه تطالب في هذه الدعوي باسترداد اصلي السندين   العقد المعنون بعقد اتفاق المؤرخ في   والمكون من ثلاث صفحات   سند القبض رقم   وتاريخ   والوارد فيه واقعه استلام   ريال من قبل المدعي عليه وبما ان هذين السندين فصل في الحق الموضوعي بحكم قضائي مكتسب القطعيه وذلك بموجب الحكم الصادر من الدائره الثالثه عشر الابتدائيه بهذه المحكمه في القضيه رقم   لعام   والمؤيد من دائره الاستئناف الثانيه بهذه المحكمه حسب حكمها في القضيه رقم   لعام   وبما ان الماده رقم   من نظام المحاكم التجاريه الصادر بالمرسوم الملكي رقم   وتاريخ    منحت لذي المصلحه التقدم بطلب استرداد مستند حيث نصت علي  لكل ذي مصلحه ان يتقدم للمحكمه بطلب استرداد مستند يدعي انه له او طلب اثبات انقضاء الغرض منه وتامر المحكمه باسترداده وفق احكام الباب السابع من النظام وبما ان الماده رقم   من لائحه النظام الصادره بموجب قرار وزير العدل رقم   وتاريخ   والمنشور في جريده ام القري برقم العدد   وتاريخ   اشترطت لقبول طلب الاسترداد شرطين حيث نصت علي  يشترط لقبول طلب استرداد مستند او اثبات انقضاء الغرض منه  وفق الماده السابعه والاربعين من النظام  الاتي ا  ان يكون المستند المطلوب استرداده او اثبات انقضاء الغرض منه له علاقه بتعامل تجاري تختص بنظره المحكمه ب  الا ينازع الطرف الاخر في الحق الموضوعي المرتبط بالمستند ما لم يكن الحق ثابتاً بحكم نهائي وبما ان هذه المطالبه متعلقه بدعوي تختص المحكمه التجاريه بنظرها  الدعاوي المتعلقه بعقود المضاربه  وبما ان تلك الدعوي فصل فيها بحكم قطعي وبما ان هذه المطالبه استوفت للشروط المتعلقه بقبولها وبما ان وكيل المدعي عليه في جلسه اليوم قرر بان اصل المستندين بحوزه موكله وله وكاله تخوله حق الاقرار فان الدائره تنتهي الي الزام المدعي عليه بان يسلم للمدعيه اصل تلك المستندين محل الدعوي وتحكم بموجب ما تقدم حسب ما جاء في منطوق حكمها ادناه   منطوق الحكم لذا '"
      ]
     },
     "execution_count": 66,
     "metadata": {},
     "output_type": "execute_result"
    }
   ],
   "source": [
    "data['incident'][88]"
   ]
  },
  {
   "cell_type": "code",
   "execution_count": 67,
   "id": "246f8656",
   "metadata": {},
   "outputs": [
    {
     "data": {
      "text/html": [
       "<div>\n",
       "<style scoped>\n",
       "    .dataframe tbody tr th:only-of-type {\n",
       "        vertical-align: middle;\n",
       "    }\n",
       "\n",
       "    .dataframe tbody tr th {\n",
       "        vertical-align: top;\n",
       "    }\n",
       "\n",
       "    .dataframe thead th {\n",
       "        text-align: right;\n",
       "    }\n",
       "</style>\n",
       "<table border=\"1\" class=\"dataframe\">\n",
       "  <thead>\n",
       "    <tr style=\"text-align: right;\">\n",
       "      <th></th>\n",
       "      <th>web-scraper-order</th>\n",
       "      <th>web-scraper-start-url</th>\n",
       "      <th>links</th>\n",
       "      <th>links-href</th>\n",
       "      <th>court</th>\n",
       "      <th>case_number</th>\n",
       "      <th>case_date</th>\n",
       "      <th>appellate_court</th>\n",
       "      <th>appellate_id</th>\n",
       "      <th>appellate_date</th>\n",
       "      <th>region</th>\n",
       "      <th>city</th>\n",
       "      <th>judgment_text</th>\n",
       "      <th>appeal</th>\n",
       "      <th>Verdict</th>\n",
       "      <th>incident</th>\n",
       "    </tr>\n",
       "  </thead>\n",
       "  <tbody>\n",
       "  </tbody>\n",
       "</table>\n",
       "</div>"
      ],
      "text/plain": [
       "Empty DataFrame\n",
       "Columns: [web-scraper-order, web-scraper-start-url, links, links-href, court, case_number, case_date, appellate_court, appellate_id, appellate_date, region, city, judgment_text, appeal, Verdict, incident]\n",
       "Index: []"
      ]
     },
     "execution_count": 67,
     "metadata": {},
     "output_type": "execute_result"
    }
   ],
   "source": [
    "data[data['incident'].isnull()]"
   ]
  },
  {
   "cell_type": "markdown",
   "id": "6683f37c",
   "metadata": {},
   "source": [
    "# Stop words "
   ]
  }
 ],
 "metadata": {
  "kernelspec": {
   "display_name": "Python 3",
   "language": "python",
   "name": "python3"
  },
  "language_info": {
   "codemirror_mode": {
    "name": "ipython",
    "version": 3
   },
   "file_extension": ".py",
   "mimetype": "text/x-python",
   "name": "python",
   "nbconvert_exporter": "python",
   "pygments_lexer": "ipython3",
   "version": "3.8.8"
  }
 },
 "nbformat": 4,
 "nbformat_minor": 5
}
