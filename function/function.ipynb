{
 "cells": [
  {
   "cell_type": "code",
   "execution_count": 1,
   "id": "8bbc947d",
   "metadata": {},
   "outputs": [],
   "source": [
    "import numpy as np\n",
    "import pandas as pd\n",
    "import nltk\n",
    "from nltk.corpus import stopwords\n",
    "from textblob import TextBlob\n",
    "import re\n",
    "import matplotlib.pyplot as plt\n",
    "import seaborn as sns\n",
    "from bidi.algorithm import get_display\n",
    "import arabic_reshaper\n",
    "from nltk.tag import pos_tag\n",
    "from nltk.chunk import ne_chunk\n",
    "from nltk.stem.lancaster import LancasterStemmer\n",
    "from nltk.stem import SnowballStemmer\n",
    "from nltk.stem.isri import ISRIStemmer\n",
    "\n",
    "from sklearn.model_selection import train_test_split\n",
    "from sklearn.linear_model import LinearRegression, Ridge \n",
    "from sklearn.model_selection import cross_val_score\n",
    "from sklearn.neighbors import KNeighborsClassifier\n",
    "from sklearn.linear_model import LogisticRegression\n",
    "from imblearn.over_sampling import SMOTE\n",
    "\n",
    "from sklearn.preprocessing import LabelEncoder  \n"
   ]
  },
  {
   "cell_type": "code",
   "execution_count": 2,
   "id": "ffcf5535",
   "metadata": {},
   "outputs": [],
   "source": [
    "import warnings\n",
    "warnings.filterwarnings('ignore')"
   ]
  },
  {
   "cell_type": "code",
   "execution_count": 3,
   "id": "11617280",
   "metadata": {},
   "outputs": [],
   "source": [
    "data = pd.read_csv('court_project', index_col=0)"
   ]
  },
  {
   "cell_type": "code",
   "execution_count": 4,
   "id": "573a9801",
   "metadata": {
    "scrolled": true
   },
   "outputs": [
    {
     "data": {
      "text/html": [
       "<div>\n",
       "<style scoped>\n",
       "    .dataframe tbody tr th:only-of-type {\n",
       "        vertical-align: middle;\n",
       "    }\n",
       "\n",
       "    .dataframe tbody tr th {\n",
       "        vertical-align: top;\n",
       "    }\n",
       "\n",
       "    .dataframe thead th {\n",
       "        text-align: right;\n",
       "    }\n",
       "</style>\n",
       "<table border=\"1\" class=\"dataframe\">\n",
       "  <thead>\n",
       "    <tr style=\"text-align: right;\">\n",
       "      <th></th>\n",
       "      <th>web-scraper-order</th>\n",
       "      <th>web-scraper-start-url</th>\n",
       "      <th>links</th>\n",
       "      <th>links-href</th>\n",
       "      <th>court</th>\n",
       "      <th>case_number</th>\n",
       "      <th>case_date</th>\n",
       "      <th>appellate_court</th>\n",
       "      <th>appellate_id</th>\n",
       "      <th>appellate_date</th>\n",
       "      <th>...</th>\n",
       "      <th>appeal_id</th>\n",
       "      <th>appeal_date</th>\n",
       "      <th>appeal_text</th>\n",
       "      <th>links1</th>\n",
       "      <th>links1-href</th>\n",
       "      <th>القضايا</th>\n",
       "      <th>القضايا-href</th>\n",
       "      <th>نص الحكم</th>\n",
       "      <th>الصفحات</th>\n",
       "      <th>الصفحات-href</th>\n",
       "    </tr>\n",
       "  </thead>\n",
       "  <tbody>\n",
       "    <tr>\n",
       "      <th>0</th>\n",
       "      <td>1640298117-87</td>\n",
       "      <td>https://sjp.moj.gov.sa/Filter?isFilterButtonCl...</td>\n",
       "      <td>القضية رقم  ٤٦٤٦ لعام ١٤٤٢ هـ</td>\n",
       "      <td>https://sjp.moj.gov.sa/Filter/AhkamDetails/38991</td>\n",
       "      <td>المحكمة: المحكمة التجارية</td>\n",
       "      <td>رقم القضية - القرار: ٤٦٤٦</td>\n",
       "      <td>تاريخها: ٩/١/١٤٤٣</td>\n",
       "      <td>محكمة الاستئناف: المحكمة التجارية</td>\n",
       "      <td>رقم القرار: ٧٨٥</td>\n",
       "      <td>تاريخه: ٧/٣/١٤٤٣</td>\n",
       "      <td>...</td>\n",
       "      <td>NaN</td>\n",
       "      <td>NaN</td>\n",
       "      <td>NaN</td>\n",
       "      <td>NaN</td>\n",
       "      <td>NaN</td>\n",
       "      <td>NaN</td>\n",
       "      <td>NaN</td>\n",
       "      <td>NaN</td>\n",
       "      <td>NaN</td>\n",
       "      <td>NaN</td>\n",
       "    </tr>\n",
       "    <tr>\n",
       "      <th>1</th>\n",
       "      <td>1640297824-62</td>\n",
       "      <td>https://sjp.moj.gov.sa/Filter?isFilterButtonCl...</td>\n",
       "      <td>القضية رقم  ٦٩٥٨ لعام ١٤٤٢ هـ</td>\n",
       "      <td>https://sjp.moj.gov.sa/Filter/AhkamDetails/38903</td>\n",
       "      <td>المحكمة: المحكمة التجارية</td>\n",
       "      <td>رقم القضية - القرار: ٦٩٥٨</td>\n",
       "      <td>تاريخها: ٢٥/١٢/١٤٤٢</td>\n",
       "      <td>محكمة الاستئناف: المحكمة التجارية</td>\n",
       "      <td>رقم القرار: ٥٤٦</td>\n",
       "      <td>تاريخه: ٦/٣/١٤٤٣</td>\n",
       "      <td>...</td>\n",
       "      <td>NaN</td>\n",
       "      <td>NaN</td>\n",
       "      <td>NaN</td>\n",
       "      <td>NaN</td>\n",
       "      <td>NaN</td>\n",
       "      <td>NaN</td>\n",
       "      <td>NaN</td>\n",
       "      <td>NaN</td>\n",
       "      <td>NaN</td>\n",
       "      <td>NaN</td>\n",
       "    </tr>\n",
       "    <tr>\n",
       "      <th>2</th>\n",
       "      <td>1640298107-86</td>\n",
       "      <td>https://sjp.moj.gov.sa/Filter?isFilterButtonCl...</td>\n",
       "      <td>القضية رقم  ٦٦٠٧ لعام ١٤٤٢ هـ</td>\n",
       "      <td>https://sjp.moj.gov.sa/Filter/AhkamDetails/38992</td>\n",
       "      <td>المحكمة: المحكمة التجارية</td>\n",
       "      <td>رقم القضية - القرار: ٦٦٠٧</td>\n",
       "      <td>تاريخها: ٩/١/١٤٤٣</td>\n",
       "      <td>محكمة الاستئناف: المحكمة التجارية</td>\n",
       "      <td>رقم القرار: ٧٩٠</td>\n",
       "      <td>تاريخه: ٧/٣/١٤٤٣</td>\n",
       "      <td>...</td>\n",
       "      <td>NaN</td>\n",
       "      <td>NaN</td>\n",
       "      <td>NaN</td>\n",
       "      <td>NaN</td>\n",
       "      <td>NaN</td>\n",
       "      <td>NaN</td>\n",
       "      <td>NaN</td>\n",
       "      <td>NaN</td>\n",
       "      <td>NaN</td>\n",
       "      <td>NaN</td>\n",
       "    </tr>\n",
       "  </tbody>\n",
       "</table>\n",
       "<p>3 rows × 31 columns</p>\n",
       "</div>"
      ],
      "text/plain": [
       "  web-scraper-order                              web-scraper-start-url  \\\n",
       "0     1640298117-87  https://sjp.moj.gov.sa/Filter?isFilterButtonCl...   \n",
       "1     1640297824-62  https://sjp.moj.gov.sa/Filter?isFilterButtonCl...   \n",
       "2     1640298107-86  https://sjp.moj.gov.sa/Filter?isFilterButtonCl...   \n",
       "\n",
       "                           links  \\\n",
       "0  القضية رقم  ٤٦٤٦ لعام ١٤٤٢ هـ   \n",
       "1  القضية رقم  ٦٩٥٨ لعام ١٤٤٢ هـ   \n",
       "2  القضية رقم  ٦٦٠٧ لعام ١٤٤٢ هـ   \n",
       "\n",
       "                                         links-href  \\\n",
       "0  https://sjp.moj.gov.sa/Filter/AhkamDetails/38991   \n",
       "1  https://sjp.moj.gov.sa/Filter/AhkamDetails/38903   \n",
       "2  https://sjp.moj.gov.sa/Filter/AhkamDetails/38992   \n",
       "\n",
       "                       court                case_number            case_date  \\\n",
       "0  المحكمة: المحكمة التجارية  رقم القضية - القرار: ٤٦٤٦    تاريخها: ٩/١/١٤٤٣   \n",
       "1  المحكمة: المحكمة التجارية  رقم القضية - القرار: ٦٩٥٨  تاريخها: ٢٥/١٢/١٤٤٢   \n",
       "2  المحكمة: المحكمة التجارية  رقم القضية - القرار: ٦٦٠٧    تاريخها: ٩/١/١٤٤٣   \n",
       "\n",
       "                     appellate_court     appellate_id    appellate_date  ...  \\\n",
       "0  محكمة الاستئناف: المحكمة التجارية  رقم القرار: ٧٨٥  تاريخه: ٧/٣/١٤٤٣  ...   \n",
       "1  محكمة الاستئناف: المحكمة التجارية  رقم القرار: ٥٤٦  تاريخه: ٦/٣/١٤٤٣  ...   \n",
       "2  محكمة الاستئناف: المحكمة التجارية  رقم القرار: ٧٩٠  تاريخه: ٧/٣/١٤٤٣  ...   \n",
       "\n",
       "  appeal_id appeal_date appeal_text links1 links1-href القضايا القضايا-href  \\\n",
       "0       NaN         NaN         NaN    NaN         NaN     NaN          NaN   \n",
       "1       NaN         NaN         NaN    NaN         NaN     NaN          NaN   \n",
       "2       NaN         NaN         NaN    NaN         NaN     NaN          NaN   \n",
       "\n",
       "  نص الحكم الصفحات الصفحات-href  \n",
       "0      NaN     NaN          NaN  \n",
       "1      NaN     NaN          NaN  \n",
       "2      NaN     NaN          NaN  \n",
       "\n",
       "[3 rows x 31 columns]"
      ]
     },
     "execution_count": 4,
     "metadata": {},
     "output_type": "execute_result"
    }
   ],
   "source": [
    "data.head(3)"
   ]
  },
  {
   "cell_type": "code",
   "execution_count": 5,
   "id": "b62dc933",
   "metadata": {},
   "outputs": [
    {
     "data": {
      "text/plain": [
       "المحكمة: المحكمة التجارية                    113\n",
       "المحكمة: المحكمة العليا -  الهيئة الدائمة     44\n",
       "المحكمة: المحكمة العامة                       35\n",
       "Name: court, dtype: int64"
      ]
     },
     "execution_count": 5,
     "metadata": {},
     "output_type": "execute_result"
    }
   ],
   "source": [
    "data.court.value_counts()"
   ]
  },
  {
   "cell_type": "code",
   "execution_count": 6,
   "id": "b1387a8f",
   "metadata": {},
   "outputs": [],
   "source": [
    "data['court'] =data['court'].str.replace('المحكمة: المحكمة التجارية', 'التجارية')\n",
    "data['court'] =data['court'].str.replace('المحكمة: المحكمة العليا -  الهيئة الدائمة', 'العليا')\n",
    "data['court'] =data['court'].str.replace('المحكمة: المحكمة العامة', 'العامة')"
   ]
  },
  {
   "cell_type": "code",
   "execution_count": 7,
   "id": "f1b47a41",
   "metadata": {},
   "outputs": [
    {
     "data": {
      "text/plain": [
       "التجارية    113\n",
       "العليا       44\n",
       "العامة       35\n",
       "Name: court, dtype: int64"
      ]
     },
     "execution_count": 7,
     "metadata": {},
     "output_type": "execute_result"
    }
   ],
   "source": [
    "data.court.value_counts()"
   ]
  },
  {
   "cell_type": "code",
   "execution_count": 8,
   "id": "f6b7750c",
   "metadata": {},
   "outputs": [
    {
     "data": {
      "text/html": [
       "<div>\n",
       "<style scoped>\n",
       "    .dataframe tbody tr th:only-of-type {\n",
       "        vertical-align: middle;\n",
       "    }\n",
       "\n",
       "    .dataframe tbody tr th {\n",
       "        vertical-align: top;\n",
       "    }\n",
       "\n",
       "    .dataframe thead th {\n",
       "        text-align: right;\n",
       "    }\n",
       "</style>\n",
       "<table border=\"1\" class=\"dataframe\">\n",
       "  <thead>\n",
       "    <tr style=\"text-align: right;\">\n",
       "      <th></th>\n",
       "      <th>web-scraper-order</th>\n",
       "      <th>web-scraper-start-url</th>\n",
       "      <th>links</th>\n",
       "      <th>links-href</th>\n",
       "      <th>court</th>\n",
       "      <th>case_number</th>\n",
       "      <th>case_date</th>\n",
       "      <th>appellate_court</th>\n",
       "      <th>appellate_id</th>\n",
       "      <th>appellate_date</th>\n",
       "      <th>...</th>\n",
       "      <th>appeal_id</th>\n",
       "      <th>appeal_date</th>\n",
       "      <th>appeal_text</th>\n",
       "      <th>links1</th>\n",
       "      <th>links1-href</th>\n",
       "      <th>القضايا</th>\n",
       "      <th>القضايا-href</th>\n",
       "      <th>نص الحكم</th>\n",
       "      <th>الصفحات</th>\n",
       "      <th>الصفحات-href</th>\n",
       "    </tr>\n",
       "  </thead>\n",
       "  <tbody>\n",
       "    <tr>\n",
       "      <th>152</th>\n",
       "      <td>1640286767-5</td>\n",
       "      <td>https://sjp.moj.gov.sa/Filter/Index?subIDS=600...</td>\n",
       "      <td>NaN</td>\n",
       "      <td>NaN</td>\n",
       "      <td>NaN</td>\n",
       "      <td>NaN</td>\n",
       "      <td>NaN</td>\n",
       "      <td>NaN</td>\n",
       "      <td>NaN</td>\n",
       "      <td>NaN</td>\n",
       "      <td>...</td>\n",
       "      <td>NaN</td>\n",
       "      <td>NaN</td>\n",
       "      <td>NaN</td>\n",
       "      <td>NaN</td>\n",
       "      <td>NaN</td>\n",
       "      <td>القضية رقم  ٨٧٨٠ لعام ١٤٤٢ هـ</td>\n",
       "      <td>https://sjp.moj.gov.sa/Filter/AhkamDetails/39114</td>\n",
       "      <td>الحمد لله والصلاة والسلام على رسول ﷲ أما بعد:\\...</td>\n",
       "      <td>10</td>\n",
       "      <td>https://sjp.moj.gov.sa/Filter/FilterDataPager?...</td>\n",
       "    </tr>\n",
       "    <tr>\n",
       "      <th>153</th>\n",
       "      <td>1640286772-7</td>\n",
       "      <td>https://sjp.moj.gov.sa/Filter/Index?subIDS=600...</td>\n",
       "      <td>NaN</td>\n",
       "      <td>NaN</td>\n",
       "      <td>NaN</td>\n",
       "      <td>NaN</td>\n",
       "      <td>NaN</td>\n",
       "      <td>NaN</td>\n",
       "      <td>NaN</td>\n",
       "      <td>NaN</td>\n",
       "      <td>...</td>\n",
       "      <td>NaN</td>\n",
       "      <td>NaN</td>\n",
       "      <td>NaN</td>\n",
       "      <td>NaN</td>\n",
       "      <td>NaN</td>\n",
       "      <td>القضية رقم  ٣١٤٥ لعام ١٤٤١ هـ</td>\n",
       "      <td>https://sjp.moj.gov.sa/Filter/AhkamDetails/39022</td>\n",
       "      <td>الحمد لله والصلاة والسلام على رسول ﷲ أما بعد:\\...</td>\n",
       "      <td>10</td>\n",
       "      <td>https://sjp.moj.gov.sa/Filter/FilterDataPager?...</td>\n",
       "    </tr>\n",
       "    <tr>\n",
       "      <th>154</th>\n",
       "      <td>1640286803-18</td>\n",
       "      <td>https://sjp.moj.gov.sa/Filter/Index?subIDS=600...</td>\n",
       "      <td>NaN</td>\n",
       "      <td>NaN</td>\n",
       "      <td>NaN</td>\n",
       "      <td>NaN</td>\n",
       "      <td>NaN</td>\n",
       "      <td>NaN</td>\n",
       "      <td>NaN</td>\n",
       "      <td>NaN</td>\n",
       "      <td>...</td>\n",
       "      <td>NaN</td>\n",
       "      <td>NaN</td>\n",
       "      <td>NaN</td>\n",
       "      <td>NaN</td>\n",
       "      <td>NaN</td>\n",
       "      <td>القضية رقم  ١٦٥٦٣ لعام ١٤٤٠ هـ</td>\n",
       "      <td>https://sjp.moj.gov.sa/Filter/AhkamDetails/38911</td>\n",
       "      <td>الحمد لله والصلاة والسلام على رسول ﷲ أما بعد:\\...</td>\n",
       "      <td>9</td>\n",
       "      <td>https://sjp.moj.gov.sa/Filter/FilterDataPager?...</td>\n",
       "    </tr>\n",
       "    <tr>\n",
       "      <th>155</th>\n",
       "      <td>1640286790-13</td>\n",
       "      <td>https://sjp.moj.gov.sa/Filter/Index?subIDS=600...</td>\n",
       "      <td>NaN</td>\n",
       "      <td>NaN</td>\n",
       "      <td>NaN</td>\n",
       "      <td>NaN</td>\n",
       "      <td>NaN</td>\n",
       "      <td>NaN</td>\n",
       "      <td>NaN</td>\n",
       "      <td>NaN</td>\n",
       "      <td>...</td>\n",
       "      <td>NaN</td>\n",
       "      <td>NaN</td>\n",
       "      <td>NaN</td>\n",
       "      <td>NaN</td>\n",
       "      <td>NaN</td>\n",
       "      <td>القضية رقم  ٣١٤ لعام ١٤٤٢ هـ</td>\n",
       "      <td>https://sjp.moj.gov.sa/Filter/AhkamDetails/38927</td>\n",
       "      <td>الحمد لله والصلاة والسلام على رسول ﷲ أما بعد:\\...</td>\n",
       "      <td>9</td>\n",
       "      <td>https://sjp.moj.gov.sa/Filter/FilterDataPager?...</td>\n",
       "    </tr>\n",
       "    <tr>\n",
       "      <th>156</th>\n",
       "      <td>1640286777-9</td>\n",
       "      <td>https://sjp.moj.gov.sa/Filter/Index?subIDS=600...</td>\n",
       "      <td>NaN</td>\n",
       "      <td>NaN</td>\n",
       "      <td>NaN</td>\n",
       "      <td>NaN</td>\n",
       "      <td>NaN</td>\n",
       "      <td>NaN</td>\n",
       "      <td>NaN</td>\n",
       "      <td>NaN</td>\n",
       "      <td>...</td>\n",
       "      <td>NaN</td>\n",
       "      <td>NaN</td>\n",
       "      <td>NaN</td>\n",
       "      <td>NaN</td>\n",
       "      <td>NaN</td>\n",
       "      <td>القضية رقم  ٥٨٥٧ لعام ١٤٤٠ هـ</td>\n",
       "      <td>https://sjp.moj.gov.sa/Filter/AhkamDetails/39013</td>\n",
       "      <td>الحمد لله والصلاة والسلام على رسول ﷲ أما بعد:\\...</td>\n",
       "      <td>10</td>\n",
       "      <td>https://sjp.moj.gov.sa/Filter/FilterDataPager?...</td>\n",
       "    </tr>\n",
       "    <tr>\n",
       "      <th>157</th>\n",
       "      <td>1640286770-6</td>\n",
       "      <td>https://sjp.moj.gov.sa/Filter/Index?subIDS=600...</td>\n",
       "      <td>NaN</td>\n",
       "      <td>NaN</td>\n",
       "      <td>NaN</td>\n",
       "      <td>NaN</td>\n",
       "      <td>NaN</td>\n",
       "      <td>NaN</td>\n",
       "      <td>NaN</td>\n",
       "      <td>NaN</td>\n",
       "      <td>...</td>\n",
       "      <td>NaN</td>\n",
       "      <td>NaN</td>\n",
       "      <td>NaN</td>\n",
       "      <td>NaN</td>\n",
       "      <td>NaN</td>\n",
       "      <td>القضية رقم  ٥٣٢٧ لعام ١٤٤٢ هـ</td>\n",
       "      <td>https://sjp.moj.gov.sa/Filter/AhkamDetails/39105</td>\n",
       "      <td>الحمد لله والصلاة والسلام على رسول ﷲ أما بعد:\\...</td>\n",
       "      <td>10</td>\n",
       "      <td>https://sjp.moj.gov.sa/Filter/FilterDataPager?...</td>\n",
       "    </tr>\n",
       "    <tr>\n",
       "      <th>158</th>\n",
       "      <td>1640286782-11</td>\n",
       "      <td>https://sjp.moj.gov.sa/Filter/Index?subIDS=600...</td>\n",
       "      <td>NaN</td>\n",
       "      <td>NaN</td>\n",
       "      <td>NaN</td>\n",
       "      <td>NaN</td>\n",
       "      <td>NaN</td>\n",
       "      <td>NaN</td>\n",
       "      <td>NaN</td>\n",
       "      <td>NaN</td>\n",
       "      <td>...</td>\n",
       "      <td>NaN</td>\n",
       "      <td>NaN</td>\n",
       "      <td>NaN</td>\n",
       "      <td>NaN</td>\n",
       "      <td>NaN</td>\n",
       "      <td>القضية رقم  ٥٥٨٤ لعام ١٤٤٢ هـ</td>\n",
       "      <td>https://sjp.moj.gov.sa/Filter/AhkamDetails/38999</td>\n",
       "      <td>الحمد لله والصلاة والسلام على رسول ﷲ أما بعد:\\...</td>\n",
       "      <td>10</td>\n",
       "      <td>https://sjp.moj.gov.sa/Filter/FilterDataPager?...</td>\n",
       "    </tr>\n",
       "    <tr>\n",
       "      <th>159</th>\n",
       "      <td>1640286812-21</td>\n",
       "      <td>https://sjp.moj.gov.sa/Filter/Index?subIDS=600...</td>\n",
       "      <td>NaN</td>\n",
       "      <td>NaN</td>\n",
       "      <td>NaN</td>\n",
       "      <td>NaN</td>\n",
       "      <td>NaN</td>\n",
       "      <td>NaN</td>\n",
       "      <td>NaN</td>\n",
       "      <td>NaN</td>\n",
       "      <td>...</td>\n",
       "      <td>NaN</td>\n",
       "      <td>NaN</td>\n",
       "      <td>NaN</td>\n",
       "      <td>NaN</td>\n",
       "      <td>NaN</td>\n",
       "      <td>القضية رقم  ٨٧٩٧ لعام ١٤٤٢ هـ</td>\n",
       "      <td>https://sjp.moj.gov.sa/Filter/AhkamDetails/38870</td>\n",
       "      <td>الحمد لله والصلاة والسلام على رسول ﷲ أما بعد:\\...</td>\n",
       "      <td>9</td>\n",
       "      <td>https://sjp.moj.gov.sa/Filter/FilterDataPager?...</td>\n",
       "    </tr>\n",
       "    <tr>\n",
       "      <th>160</th>\n",
       "      <td>1640286757-2</td>\n",
       "      <td>https://sjp.moj.gov.sa/Filter/Index?subIDS=600...</td>\n",
       "      <td>NaN</td>\n",
       "      <td>NaN</td>\n",
       "      <td>NaN</td>\n",
       "      <td>NaN</td>\n",
       "      <td>NaN</td>\n",
       "      <td>NaN</td>\n",
       "      <td>NaN</td>\n",
       "      <td>NaN</td>\n",
       "      <td>...</td>\n",
       "      <td>NaN</td>\n",
       "      <td>NaN</td>\n",
       "      <td>NaN</td>\n",
       "      <td>NaN</td>\n",
       "      <td>NaN</td>\n",
       "      <td>القضية رقم  ٧٦٥١ لعام ١٤٤١ هـ</td>\n",
       "      <td>https://sjp.moj.gov.sa/Filter/AhkamDetails/32005</td>\n",
       "      <td>الحمد لله والصلاة والسلام على رسول ﷲ أما بعد:\\...</td>\n",
       "      <td>»»</td>\n",
       "      <td>https://sjp.moj.gov.sa/Filter/FilterDataPager?...</td>\n",
       "    </tr>\n",
       "    <tr>\n",
       "      <th>161</th>\n",
       "      <td>1640286780-10</td>\n",
       "      <td>https://sjp.moj.gov.sa/Filter/Index?subIDS=600...</td>\n",
       "      <td>NaN</td>\n",
       "      <td>NaN</td>\n",
       "      <td>NaN</td>\n",
       "      <td>NaN</td>\n",
       "      <td>NaN</td>\n",
       "      <td>NaN</td>\n",
       "      <td>NaN</td>\n",
       "      <td>NaN</td>\n",
       "      <td>...</td>\n",
       "      <td>NaN</td>\n",
       "      <td>NaN</td>\n",
       "      <td>NaN</td>\n",
       "      <td>NaN</td>\n",
       "      <td>NaN</td>\n",
       "      <td>القضية رقم  ٢١٨٦ لعام ١٤٤١ هـ</td>\n",
       "      <td>https://sjp.moj.gov.sa/Filter/AhkamDetails/39012</td>\n",
       "      <td>الحمد لله والصلاة والسلام على رسول ﷲ أما بعد:\\...</td>\n",
       "      <td>10</td>\n",
       "      <td>https://sjp.moj.gov.sa/Filter/FilterDataPager?...</td>\n",
       "    </tr>\n",
       "    <tr>\n",
       "      <th>162</th>\n",
       "      <td>1640286765-4</td>\n",
       "      <td>https://sjp.moj.gov.sa/Filter/Index?subIDS=600...</td>\n",
       "      <td>NaN</td>\n",
       "      <td>NaN</td>\n",
       "      <td>NaN</td>\n",
       "      <td>NaN</td>\n",
       "      <td>NaN</td>\n",
       "      <td>NaN</td>\n",
       "      <td>NaN</td>\n",
       "      <td>NaN</td>\n",
       "      <td>...</td>\n",
       "      <td>NaN</td>\n",
       "      <td>NaN</td>\n",
       "      <td>NaN</td>\n",
       "      <td>NaN</td>\n",
       "      <td>NaN</td>\n",
       "      <td>القضية رقم  ٨٧٩٧ لعام ١٤٤٢ هـ</td>\n",
       "      <td>https://sjp.moj.gov.sa/Filter/AhkamDetails/39115</td>\n",
       "      <td>الحمد لله والصلاة والسلام على رسول ﷲ أما بعد:\\...</td>\n",
       "      <td>10</td>\n",
       "      <td>https://sjp.moj.gov.sa/Filter/FilterDataPager?...</td>\n",
       "    </tr>\n",
       "    <tr>\n",
       "      <th>163</th>\n",
       "      <td>1640286793-14</td>\n",
       "      <td>https://sjp.moj.gov.sa/Filter/Index?subIDS=600...</td>\n",
       "      <td>NaN</td>\n",
       "      <td>NaN</td>\n",
       "      <td>NaN</td>\n",
       "      <td>NaN</td>\n",
       "      <td>NaN</td>\n",
       "      <td>NaN</td>\n",
       "      <td>NaN</td>\n",
       "      <td>NaN</td>\n",
       "      <td>...</td>\n",
       "      <td>NaN</td>\n",
       "      <td>NaN</td>\n",
       "      <td>NaN</td>\n",
       "      <td>NaN</td>\n",
       "      <td>NaN</td>\n",
       "      <td>القضية رقم  ٣٨٩٥ لعام ١٤٤٢ هـ</td>\n",
       "      <td>https://sjp.moj.gov.sa/Filter/AhkamDetails/38926</td>\n",
       "      <td>الحمد لله والصلاة والسلام على رسول ﷲ أما بعد:\\...</td>\n",
       "      <td>9</td>\n",
       "      <td>https://sjp.moj.gov.sa/Filter/FilterDataPager?...</td>\n",
       "    </tr>\n",
       "    <tr>\n",
       "      <th>164</th>\n",
       "      <td>1640286754-1</td>\n",
       "      <td>https://sjp.moj.gov.sa/Filter/Index?subIDS=600...</td>\n",
       "      <td>NaN</td>\n",
       "      <td>NaN</td>\n",
       "      <td>NaN</td>\n",
       "      <td>NaN</td>\n",
       "      <td>NaN</td>\n",
       "      <td>NaN</td>\n",
       "      <td>NaN</td>\n",
       "      <td>NaN</td>\n",
       "      <td>...</td>\n",
       "      <td>NaN</td>\n",
       "      <td>NaN</td>\n",
       "      <td>NaN</td>\n",
       "      <td>NaN</td>\n",
       "      <td>NaN</td>\n",
       "      <td>القضية رقم  ٥١٨٦ لعام ١٤٤٢ ه</td>\n",
       "      <td>https://sjp.moj.gov.sa/Filter/AhkamDetails/40797</td>\n",
       "      <td>الحمد لله والصلاة والسلام على رسول ﷲ أما بعد:\\...</td>\n",
       "      <td>»»</td>\n",
       "      <td>https://sjp.moj.gov.sa/Filter/FilterDataPager?...</td>\n",
       "    </tr>\n",
       "    <tr>\n",
       "      <th>165</th>\n",
       "      <td>1640286806-19</td>\n",
       "      <td>https://sjp.moj.gov.sa/Filter/Index?subIDS=600...</td>\n",
       "      <td>NaN</td>\n",
       "      <td>NaN</td>\n",
       "      <td>NaN</td>\n",
       "      <td>NaN</td>\n",
       "      <td>NaN</td>\n",
       "      <td>NaN</td>\n",
       "      <td>NaN</td>\n",
       "      <td>NaN</td>\n",
       "      <td>...</td>\n",
       "      <td>NaN</td>\n",
       "      <td>NaN</td>\n",
       "      <td>NaN</td>\n",
       "      <td>NaN</td>\n",
       "      <td>NaN</td>\n",
       "      <td>القضية رقم  ٧٩٢٨ لعام ١٤٤٢ هـ</td>\n",
       "      <td>https://sjp.moj.gov.sa/Filter/AhkamDetails/38909</td>\n",
       "      <td>الحمد لله والصلاة والسلام على رسول ﷲ أما بعد:\\...</td>\n",
       "      <td>9</td>\n",
       "      <td>https://sjp.moj.gov.sa/Filter/FilterDataPager?...</td>\n",
       "    </tr>\n",
       "    <tr>\n",
       "      <th>166</th>\n",
       "      <td>1640286798-16</td>\n",
       "      <td>https://sjp.moj.gov.sa/Filter/Index?subIDS=600...</td>\n",
       "      <td>NaN</td>\n",
       "      <td>NaN</td>\n",
       "      <td>NaN</td>\n",
       "      <td>NaN</td>\n",
       "      <td>NaN</td>\n",
       "      <td>NaN</td>\n",
       "      <td>NaN</td>\n",
       "      <td>NaN</td>\n",
       "      <td>...</td>\n",
       "      <td>NaN</td>\n",
       "      <td>NaN</td>\n",
       "      <td>NaN</td>\n",
       "      <td>NaN</td>\n",
       "      <td>NaN</td>\n",
       "      <td>القضية رقم  ١٧٧٤ لعام ١٤٤٢ هـ</td>\n",
       "      <td>https://sjp.moj.gov.sa/Filter/AhkamDetails/38916</td>\n",
       "      <td>الحمد لله والصلاة والسلام على رسول ﷲ أما بعد:\\...</td>\n",
       "      <td>9</td>\n",
       "      <td>https://sjp.moj.gov.sa/Filter/FilterDataPager?...</td>\n",
       "    </tr>\n",
       "    <tr>\n",
       "      <th>167</th>\n",
       "      <td>1640286775-8</td>\n",
       "      <td>https://sjp.moj.gov.sa/Filter/Index?subIDS=600...</td>\n",
       "      <td>NaN</td>\n",
       "      <td>NaN</td>\n",
       "      <td>NaN</td>\n",
       "      <td>NaN</td>\n",
       "      <td>NaN</td>\n",
       "      <td>NaN</td>\n",
       "      <td>NaN</td>\n",
       "      <td>NaN</td>\n",
       "      <td>...</td>\n",
       "      <td>NaN</td>\n",
       "      <td>NaN</td>\n",
       "      <td>NaN</td>\n",
       "      <td>NaN</td>\n",
       "      <td>NaN</td>\n",
       "      <td>القضية رقم  ٨٣١٦ لعام ١٤٤١ هـ</td>\n",
       "      <td>https://sjp.moj.gov.sa/Filter/AhkamDetails/39020</td>\n",
       "      <td>الحمد لله والصلاة والسلام على رسول ﷲ أما بعد:\\...</td>\n",
       "      <td>10</td>\n",
       "      <td>https://sjp.moj.gov.sa/Filter/FilterDataPager?...</td>\n",
       "    </tr>\n",
       "    <tr>\n",
       "      <th>168</th>\n",
       "      <td>1640286795-15</td>\n",
       "      <td>https://sjp.moj.gov.sa/Filter/Index?subIDS=600...</td>\n",
       "      <td>NaN</td>\n",
       "      <td>NaN</td>\n",
       "      <td>NaN</td>\n",
       "      <td>NaN</td>\n",
       "      <td>NaN</td>\n",
       "      <td>NaN</td>\n",
       "      <td>NaN</td>\n",
       "      <td>NaN</td>\n",
       "      <td>...</td>\n",
       "      <td>NaN</td>\n",
       "      <td>NaN</td>\n",
       "      <td>NaN</td>\n",
       "      <td>NaN</td>\n",
       "      <td>NaN</td>\n",
       "      <td>القضية رقم  ٦٨٣٦ لعام ١٤٤٢ هـ</td>\n",
       "      <td>https://sjp.moj.gov.sa/Filter/AhkamDetails/38925</td>\n",
       "      <td>الحمد لله والصلاة والسلام على رسول ﷲ أما بعد:\\...</td>\n",
       "      <td>9</td>\n",
       "      <td>https://sjp.moj.gov.sa/Filter/FilterDataPager?...</td>\n",
       "    </tr>\n",
       "    <tr>\n",
       "      <th>169</th>\n",
       "      <td>1640286762-3</td>\n",
       "      <td>https://sjp.moj.gov.sa/Filter/Index?subIDS=600...</td>\n",
       "      <td>NaN</td>\n",
       "      <td>NaN</td>\n",
       "      <td>NaN</td>\n",
       "      <td>NaN</td>\n",
       "      <td>NaN</td>\n",
       "      <td>NaN</td>\n",
       "      <td>NaN</td>\n",
       "      <td>NaN</td>\n",
       "      <td>...</td>\n",
       "      <td>NaN</td>\n",
       "      <td>NaN</td>\n",
       "      <td>NaN</td>\n",
       "      <td>NaN</td>\n",
       "      <td>NaN</td>\n",
       "      <td>القضية رقم  ٣٠٢ لعام ١٤٤٢ هـ</td>\n",
       "      <td>https://sjp.moj.gov.sa/Filter/AhkamDetails/39149</td>\n",
       "      <td>الحمد لله والصلاة والسلام على رسول ﷲ أما بعد:\\...</td>\n",
       "      <td>10</td>\n",
       "      <td>https://sjp.moj.gov.sa/Filter/FilterDataPager?...</td>\n",
       "    </tr>\n",
       "    <tr>\n",
       "      <th>170</th>\n",
       "      <td>1640286800-17</td>\n",
       "      <td>https://sjp.moj.gov.sa/Filter/Index?subIDS=600...</td>\n",
       "      <td>NaN</td>\n",
       "      <td>NaN</td>\n",
       "      <td>NaN</td>\n",
       "      <td>NaN</td>\n",
       "      <td>NaN</td>\n",
       "      <td>NaN</td>\n",
       "      <td>NaN</td>\n",
       "      <td>NaN</td>\n",
       "      <td>...</td>\n",
       "      <td>NaN</td>\n",
       "      <td>NaN</td>\n",
       "      <td>NaN</td>\n",
       "      <td>NaN</td>\n",
       "      <td>NaN</td>\n",
       "      <td>القضية رقم  ٨١٣٣ لعام ١٤٤٢ هـ</td>\n",
       "      <td>https://sjp.moj.gov.sa/Filter/AhkamDetails/38912</td>\n",
       "      <td>الحمد لله والصلاة والسلام على رسول ﷲ أما بعد:\\...</td>\n",
       "      <td>9</td>\n",
       "      <td>https://sjp.moj.gov.sa/Filter/FilterDataPager?...</td>\n",
       "    </tr>\n",
       "    <tr>\n",
       "      <th>171</th>\n",
       "      <td>1640286809-20</td>\n",
       "      <td>https://sjp.moj.gov.sa/Filter/Index?subIDS=600...</td>\n",
       "      <td>NaN</td>\n",
       "      <td>NaN</td>\n",
       "      <td>NaN</td>\n",
       "      <td>NaN</td>\n",
       "      <td>NaN</td>\n",
       "      <td>NaN</td>\n",
       "      <td>NaN</td>\n",
       "      <td>NaN</td>\n",
       "      <td>...</td>\n",
       "      <td>NaN</td>\n",
       "      <td>NaN</td>\n",
       "      <td>NaN</td>\n",
       "      <td>NaN</td>\n",
       "      <td>NaN</td>\n",
       "      <td>القضية رقم  ٣٠٢ لعام ١٤٤٢ هـ</td>\n",
       "      <td>https://sjp.moj.gov.sa/Filter/AhkamDetails/38904</td>\n",
       "      <td>الحمد لله والصلاة والسلام على رسول ﷲ أما بعد:\\...</td>\n",
       "      <td>9</td>\n",
       "      <td>https://sjp.moj.gov.sa/Filter/FilterDataPager?...</td>\n",
       "    </tr>\n",
       "    <tr>\n",
       "      <th>172</th>\n",
       "      <td>1640286784-12</td>\n",
       "      <td>https://sjp.moj.gov.sa/Filter/Index?subIDS=600...</td>\n",
       "      <td>NaN</td>\n",
       "      <td>NaN</td>\n",
       "      <td>NaN</td>\n",
       "      <td>NaN</td>\n",
       "      <td>NaN</td>\n",
       "      <td>NaN</td>\n",
       "      <td>NaN</td>\n",
       "      <td>NaN</td>\n",
       "      <td>...</td>\n",
       "      <td>NaN</td>\n",
       "      <td>NaN</td>\n",
       "      <td>NaN</td>\n",
       "      <td>NaN</td>\n",
       "      <td>NaN</td>\n",
       "      <td>القضية رقم  ٧٦٣٥ لعام ١٤٤٢ هـ</td>\n",
       "      <td>https://sjp.moj.gov.sa/Filter/AhkamDetails/38994</td>\n",
       "      <td>الحمد لله والصلاة والسلام على رسول ﷲ أما بعد:\\...</td>\n",
       "      <td>10</td>\n",
       "      <td>https://sjp.moj.gov.sa/Filter/FilterDataPager?...</td>\n",
       "    </tr>\n",
       "    <tr>\n",
       "      <th>173</th>\n",
       "      <td>1640286814-22</td>\n",
       "      <td>https://sjp.moj.gov.sa/Filter/Index?subIDS=600...</td>\n",
       "      <td>NaN</td>\n",
       "      <td>NaN</td>\n",
       "      <td>NaN</td>\n",
       "      <td>NaN</td>\n",
       "      <td>NaN</td>\n",
       "      <td>NaN</td>\n",
       "      <td>NaN</td>\n",
       "      <td>NaN</td>\n",
       "      <td>...</td>\n",
       "      <td>NaN</td>\n",
       "      <td>NaN</td>\n",
       "      <td>NaN</td>\n",
       "      <td>NaN</td>\n",
       "      <td>NaN</td>\n",
       "      <td>القضية رقم  ٨٧٨٠ لعام ١٤٤٢ هـ</td>\n",
       "      <td>https://sjp.moj.gov.sa/Filter/AhkamDetails/38869</td>\n",
       "      <td>الحمد لله والصلاة والسلام على رسول ﷲ أما بعد:\\...</td>\n",
       "      <td>9</td>\n",
       "      <td>https://sjp.moj.gov.sa/Filter/FilterDataPager?...</td>\n",
       "    </tr>\n",
       "  </tbody>\n",
       "</table>\n",
       "<p>22 rows × 31 columns</p>\n",
       "</div>"
      ],
      "text/plain": [
       "    web-scraper-order                              web-scraper-start-url  \\\n",
       "152      1640286767-5  https://sjp.moj.gov.sa/Filter/Index?subIDS=600...   \n",
       "153      1640286772-7  https://sjp.moj.gov.sa/Filter/Index?subIDS=600...   \n",
       "154     1640286803-18  https://sjp.moj.gov.sa/Filter/Index?subIDS=600...   \n",
       "155     1640286790-13  https://sjp.moj.gov.sa/Filter/Index?subIDS=600...   \n",
       "156      1640286777-9  https://sjp.moj.gov.sa/Filter/Index?subIDS=600...   \n",
       "157      1640286770-6  https://sjp.moj.gov.sa/Filter/Index?subIDS=600...   \n",
       "158     1640286782-11  https://sjp.moj.gov.sa/Filter/Index?subIDS=600...   \n",
       "159     1640286812-21  https://sjp.moj.gov.sa/Filter/Index?subIDS=600...   \n",
       "160      1640286757-2  https://sjp.moj.gov.sa/Filter/Index?subIDS=600...   \n",
       "161     1640286780-10  https://sjp.moj.gov.sa/Filter/Index?subIDS=600...   \n",
       "162      1640286765-4  https://sjp.moj.gov.sa/Filter/Index?subIDS=600...   \n",
       "163     1640286793-14  https://sjp.moj.gov.sa/Filter/Index?subIDS=600...   \n",
       "164      1640286754-1  https://sjp.moj.gov.sa/Filter/Index?subIDS=600...   \n",
       "165     1640286806-19  https://sjp.moj.gov.sa/Filter/Index?subIDS=600...   \n",
       "166     1640286798-16  https://sjp.moj.gov.sa/Filter/Index?subIDS=600...   \n",
       "167      1640286775-8  https://sjp.moj.gov.sa/Filter/Index?subIDS=600...   \n",
       "168     1640286795-15  https://sjp.moj.gov.sa/Filter/Index?subIDS=600...   \n",
       "169      1640286762-3  https://sjp.moj.gov.sa/Filter/Index?subIDS=600...   \n",
       "170     1640286800-17  https://sjp.moj.gov.sa/Filter/Index?subIDS=600...   \n",
       "171     1640286809-20  https://sjp.moj.gov.sa/Filter/Index?subIDS=600...   \n",
       "172     1640286784-12  https://sjp.moj.gov.sa/Filter/Index?subIDS=600...   \n",
       "173     1640286814-22  https://sjp.moj.gov.sa/Filter/Index?subIDS=600...   \n",
       "\n",
       "    links links-href court case_number case_date appellate_court appellate_id  \\\n",
       "152   NaN        NaN   NaN         NaN       NaN             NaN          NaN   \n",
       "153   NaN        NaN   NaN         NaN       NaN             NaN          NaN   \n",
       "154   NaN        NaN   NaN         NaN       NaN             NaN          NaN   \n",
       "155   NaN        NaN   NaN         NaN       NaN             NaN          NaN   \n",
       "156   NaN        NaN   NaN         NaN       NaN             NaN          NaN   \n",
       "157   NaN        NaN   NaN         NaN       NaN             NaN          NaN   \n",
       "158   NaN        NaN   NaN         NaN       NaN             NaN          NaN   \n",
       "159   NaN        NaN   NaN         NaN       NaN             NaN          NaN   \n",
       "160   NaN        NaN   NaN         NaN       NaN             NaN          NaN   \n",
       "161   NaN        NaN   NaN         NaN       NaN             NaN          NaN   \n",
       "162   NaN        NaN   NaN         NaN       NaN             NaN          NaN   \n",
       "163   NaN        NaN   NaN         NaN       NaN             NaN          NaN   \n",
       "164   NaN        NaN   NaN         NaN       NaN             NaN          NaN   \n",
       "165   NaN        NaN   NaN         NaN       NaN             NaN          NaN   \n",
       "166   NaN        NaN   NaN         NaN       NaN             NaN          NaN   \n",
       "167   NaN        NaN   NaN         NaN       NaN             NaN          NaN   \n",
       "168   NaN        NaN   NaN         NaN       NaN             NaN          NaN   \n",
       "169   NaN        NaN   NaN         NaN       NaN             NaN          NaN   \n",
       "170   NaN        NaN   NaN         NaN       NaN             NaN          NaN   \n",
       "171   NaN        NaN   NaN         NaN       NaN             NaN          NaN   \n",
       "172   NaN        NaN   NaN         NaN       NaN             NaN          NaN   \n",
       "173   NaN        NaN   NaN         NaN       NaN             NaN          NaN   \n",
       "\n",
       "    appellate_date  ... appeal_id appeal_date appeal_text links1 links1-href  \\\n",
       "152            NaN  ...       NaN         NaN         NaN    NaN         NaN   \n",
       "153            NaN  ...       NaN         NaN         NaN    NaN         NaN   \n",
       "154            NaN  ...       NaN         NaN         NaN    NaN         NaN   \n",
       "155            NaN  ...       NaN         NaN         NaN    NaN         NaN   \n",
       "156            NaN  ...       NaN         NaN         NaN    NaN         NaN   \n",
       "157            NaN  ...       NaN         NaN         NaN    NaN         NaN   \n",
       "158            NaN  ...       NaN         NaN         NaN    NaN         NaN   \n",
       "159            NaN  ...       NaN         NaN         NaN    NaN         NaN   \n",
       "160            NaN  ...       NaN         NaN         NaN    NaN         NaN   \n",
       "161            NaN  ...       NaN         NaN         NaN    NaN         NaN   \n",
       "162            NaN  ...       NaN         NaN         NaN    NaN         NaN   \n",
       "163            NaN  ...       NaN         NaN         NaN    NaN         NaN   \n",
       "164            NaN  ...       NaN         NaN         NaN    NaN         NaN   \n",
       "165            NaN  ...       NaN         NaN         NaN    NaN         NaN   \n",
       "166            NaN  ...       NaN         NaN         NaN    NaN         NaN   \n",
       "167            NaN  ...       NaN         NaN         NaN    NaN         NaN   \n",
       "168            NaN  ...       NaN         NaN         NaN    NaN         NaN   \n",
       "169            NaN  ...       NaN         NaN         NaN    NaN         NaN   \n",
       "170            NaN  ...       NaN         NaN         NaN    NaN         NaN   \n",
       "171            NaN  ...       NaN         NaN         NaN    NaN         NaN   \n",
       "172            NaN  ...       NaN         NaN         NaN    NaN         NaN   \n",
       "173            NaN  ...       NaN         NaN         NaN    NaN         NaN   \n",
       "\n",
       "                            القضايا  \\\n",
       "152   القضية رقم  ٨٧٨٠ لعام ١٤٤٢ هـ   \n",
       "153   القضية رقم  ٣١٤٥ لعام ١٤٤١ هـ   \n",
       "154  القضية رقم  ١٦٥٦٣ لعام ١٤٤٠ هـ   \n",
       "155    القضية رقم  ٣١٤ لعام ١٤٤٢ هـ   \n",
       "156   القضية رقم  ٥٨٥٧ لعام ١٤٤٠ هـ   \n",
       "157   القضية رقم  ٥٣٢٧ لعام ١٤٤٢ هـ   \n",
       "158   القضية رقم  ٥٥٨٤ لعام ١٤٤٢ هـ   \n",
       "159   القضية رقم  ٨٧٩٧ لعام ١٤٤٢ هـ   \n",
       "160   القضية رقم  ٧٦٥١ لعام ١٤٤١ هـ   \n",
       "161   القضية رقم  ٢١٨٦ لعام ١٤٤١ هـ   \n",
       "162   القضية رقم  ٨٧٩٧ لعام ١٤٤٢ هـ   \n",
       "163   القضية رقم  ٣٨٩٥ لعام ١٤٤٢ هـ   \n",
       "164    القضية رقم  ٥١٨٦ لعام ١٤٤٢ ه   \n",
       "165   القضية رقم  ٧٩٢٨ لعام ١٤٤٢ هـ   \n",
       "166   القضية رقم  ١٧٧٤ لعام ١٤٤٢ هـ   \n",
       "167   القضية رقم  ٨٣١٦ لعام ١٤٤١ هـ   \n",
       "168   القضية رقم  ٦٨٣٦ لعام ١٤٤٢ هـ   \n",
       "169    القضية رقم  ٣٠٢ لعام ١٤٤٢ هـ   \n",
       "170   القضية رقم  ٨١٣٣ لعام ١٤٤٢ هـ   \n",
       "171    القضية رقم  ٣٠٢ لعام ١٤٤٢ هـ   \n",
       "172   القضية رقم  ٧٦٣٥ لعام ١٤٤٢ هـ   \n",
       "173   القضية رقم  ٨٧٨٠ لعام ١٤٤٢ هـ   \n",
       "\n",
       "                                         القضايا-href  \\\n",
       "152  https://sjp.moj.gov.sa/Filter/AhkamDetails/39114   \n",
       "153  https://sjp.moj.gov.sa/Filter/AhkamDetails/39022   \n",
       "154  https://sjp.moj.gov.sa/Filter/AhkamDetails/38911   \n",
       "155  https://sjp.moj.gov.sa/Filter/AhkamDetails/38927   \n",
       "156  https://sjp.moj.gov.sa/Filter/AhkamDetails/39013   \n",
       "157  https://sjp.moj.gov.sa/Filter/AhkamDetails/39105   \n",
       "158  https://sjp.moj.gov.sa/Filter/AhkamDetails/38999   \n",
       "159  https://sjp.moj.gov.sa/Filter/AhkamDetails/38870   \n",
       "160  https://sjp.moj.gov.sa/Filter/AhkamDetails/32005   \n",
       "161  https://sjp.moj.gov.sa/Filter/AhkamDetails/39012   \n",
       "162  https://sjp.moj.gov.sa/Filter/AhkamDetails/39115   \n",
       "163  https://sjp.moj.gov.sa/Filter/AhkamDetails/38926   \n",
       "164  https://sjp.moj.gov.sa/Filter/AhkamDetails/40797   \n",
       "165  https://sjp.moj.gov.sa/Filter/AhkamDetails/38909   \n",
       "166  https://sjp.moj.gov.sa/Filter/AhkamDetails/38916   \n",
       "167  https://sjp.moj.gov.sa/Filter/AhkamDetails/39020   \n",
       "168  https://sjp.moj.gov.sa/Filter/AhkamDetails/38925   \n",
       "169  https://sjp.moj.gov.sa/Filter/AhkamDetails/39149   \n",
       "170  https://sjp.moj.gov.sa/Filter/AhkamDetails/38912   \n",
       "171  https://sjp.moj.gov.sa/Filter/AhkamDetails/38904   \n",
       "172  https://sjp.moj.gov.sa/Filter/AhkamDetails/38994   \n",
       "173  https://sjp.moj.gov.sa/Filter/AhkamDetails/38869   \n",
       "\n",
       "                                              نص الحكم الصفحات  \\\n",
       "152  الحمد لله والصلاة والسلام على رسول ﷲ أما بعد:\\...      10   \n",
       "153  الحمد لله والصلاة والسلام على رسول ﷲ أما بعد:\\...      10   \n",
       "154  الحمد لله والصلاة والسلام على رسول ﷲ أما بعد:\\...       9   \n",
       "155  الحمد لله والصلاة والسلام على رسول ﷲ أما بعد:\\...       9   \n",
       "156  الحمد لله والصلاة والسلام على رسول ﷲ أما بعد:\\...      10   \n",
       "157  الحمد لله والصلاة والسلام على رسول ﷲ أما بعد:\\...      10   \n",
       "158  الحمد لله والصلاة والسلام على رسول ﷲ أما بعد:\\...      10   \n",
       "159  الحمد لله والصلاة والسلام على رسول ﷲ أما بعد:\\...       9   \n",
       "160  الحمد لله والصلاة والسلام على رسول ﷲ أما بعد:\\...      »»   \n",
       "161  الحمد لله والصلاة والسلام على رسول ﷲ أما بعد:\\...      10   \n",
       "162  الحمد لله والصلاة والسلام على رسول ﷲ أما بعد:\\...      10   \n",
       "163  الحمد لله والصلاة والسلام على رسول ﷲ أما بعد:\\...       9   \n",
       "164  الحمد لله والصلاة والسلام على رسول ﷲ أما بعد:\\...      »»   \n",
       "165  الحمد لله والصلاة والسلام على رسول ﷲ أما بعد:\\...       9   \n",
       "166  الحمد لله والصلاة والسلام على رسول ﷲ أما بعد:\\...       9   \n",
       "167  الحمد لله والصلاة والسلام على رسول ﷲ أما بعد:\\...      10   \n",
       "168  الحمد لله والصلاة والسلام على رسول ﷲ أما بعد:\\...       9   \n",
       "169  الحمد لله والصلاة والسلام على رسول ﷲ أما بعد:\\...      10   \n",
       "170  الحمد لله والصلاة والسلام على رسول ﷲ أما بعد:\\...       9   \n",
       "171  الحمد لله والصلاة والسلام على رسول ﷲ أما بعد:\\...       9   \n",
       "172  الحمد لله والصلاة والسلام على رسول ﷲ أما بعد:\\...      10   \n",
       "173  الحمد لله والصلاة والسلام على رسول ﷲ أما بعد:\\...       9   \n",
       "\n",
       "                                          الصفحات-href  \n",
       "152  https://sjp.moj.gov.sa/Filter/FilterDataPager?...  \n",
       "153  https://sjp.moj.gov.sa/Filter/FilterDataPager?...  \n",
       "154  https://sjp.moj.gov.sa/Filter/FilterDataPager?...  \n",
       "155  https://sjp.moj.gov.sa/Filter/FilterDataPager?...  \n",
       "156  https://sjp.moj.gov.sa/Filter/FilterDataPager?...  \n",
       "157  https://sjp.moj.gov.sa/Filter/FilterDataPager?...  \n",
       "158  https://sjp.moj.gov.sa/Filter/FilterDataPager?...  \n",
       "159  https://sjp.moj.gov.sa/Filter/FilterDataPager?...  \n",
       "160  https://sjp.moj.gov.sa/Filter/FilterDataPager?...  \n",
       "161  https://sjp.moj.gov.sa/Filter/FilterDataPager?...  \n",
       "162  https://sjp.moj.gov.sa/Filter/FilterDataPager?...  \n",
       "163  https://sjp.moj.gov.sa/Filter/FilterDataPager?...  \n",
       "164  https://sjp.moj.gov.sa/Filter/FilterDataPager?...  \n",
       "165  https://sjp.moj.gov.sa/Filter/FilterDataPager?...  \n",
       "166  https://sjp.moj.gov.sa/Filter/FilterDataPager?...  \n",
       "167  https://sjp.moj.gov.sa/Filter/FilterDataPager?...  \n",
       "168  https://sjp.moj.gov.sa/Filter/FilterDataPager?...  \n",
       "169  https://sjp.moj.gov.sa/Filter/FilterDataPager?...  \n",
       "170  https://sjp.moj.gov.sa/Filter/FilterDataPager?...  \n",
       "171  https://sjp.moj.gov.sa/Filter/FilterDataPager?...  \n",
       "172  https://sjp.moj.gov.sa/Filter/FilterDataPager?...  \n",
       "173  https://sjp.moj.gov.sa/Filter/FilterDataPager?...  \n",
       "\n",
       "[22 rows x 31 columns]"
      ]
     },
     "execution_count": 8,
     "metadata": {},
     "output_type": "execute_result"
    }
   ],
   "source": [
    "data[data['judgment_text'].isnull()]"
   ]
  },
  {
   "cell_type": "code",
   "execution_count": 9,
   "id": "4466923d",
   "metadata": {},
   "outputs": [],
   "source": [
    "data.dropna(subset=[\"judgment_text\"],inplace = True)"
   ]
  },
  {
   "cell_type": "code",
   "execution_count": 10,
   "id": "c26b84dd",
   "metadata": {},
   "outputs": [
    {
     "name": "stdout",
     "output_type": "stream",
     "text": [
      "<class 'pandas.core.frame.DataFrame'>\n",
      "Int64Index: 192 entries, 0 to 213\n",
      "Data columns (total 31 columns):\n",
      " #   Column                 Non-Null Count  Dtype \n",
      "---  ------                 --------------  ----- \n",
      " 0   web-scraper-order      192 non-null    object\n",
      " 1   web-scraper-start-url  192 non-null    object\n",
      " 2   links                  102 non-null    object\n",
      " 3   links-href             102 non-null    object\n",
      " 4   court                  192 non-null    object\n",
      " 5   case_number            102 non-null    object\n",
      " 6   case_date              102 non-null    object\n",
      " 7   appellate_court        89 non-null     object\n",
      " 8   appellate_id           89 non-null     object\n",
      " 9   appellate_date         89 non-null     object\n",
      " 10  region                 116 non-null    object\n",
      " 11  city                   192 non-null    object\n",
      " 12  judgment_text          192 non-null    object\n",
      " 13  appeal                 89 non-null     object\n",
      " 14  pages                  92 non-null     object\n",
      " 15  pages-href             92 non-null     object\n",
      " 16  links0                 10 non-null     object\n",
      " 17  links0-href            10 non-null     object\n",
      " 18  court_id               90 non-null     object\n",
      " 19  court_date             90 non-null     object\n",
      " 20  appeal_court           27 non-null     object\n",
      " 21  appeal_id              27 non-null     object\n",
      " 22  appeal_date            27 non-null     object\n",
      " 23  appeal_text            27 non-null     object\n",
      " 24  links1                 80 non-null     object\n",
      " 25  links1-href            80 non-null     object\n",
      " 26  القضايا                0 non-null      object\n",
      " 27  القضايا-href           0 non-null      object\n",
      " 28  نص الحكم               0 non-null      object\n",
      " 29  الصفحات                0 non-null      object\n",
      " 30  الصفحات-href           0 non-null      object\n",
      "dtypes: object(31)\n",
      "memory usage: 48.0+ KB\n"
     ]
    }
   ],
   "source": [
    "data.info()"
   ]
  },
  {
   "cell_type": "code",
   "execution_count": 11,
   "id": "120ba6e3",
   "metadata": {},
   "outputs": [],
   "source": [
    "data.drop(['نص الحكم','links1','links0-href','links0','appeal_text','appeal_date','appeal_id','appeal_court','court_date',\n",
    "          'court_id','links1-href'], axis = 1,inplace=True)"
   ]
  },
  {
   "cell_type": "code",
   "execution_count": 12,
   "id": "1da8305a",
   "metadata": {
    "scrolled": false
   },
   "outputs": [
    {
     "name": "stdout",
     "output_type": "stream",
     "text": [
      "<class 'pandas.core.frame.DataFrame'>\n",
      "Int64Index: 192 entries, 0 to 213\n",
      "Data columns (total 20 columns):\n",
      " #   Column                 Non-Null Count  Dtype \n",
      "---  ------                 --------------  ----- \n",
      " 0   web-scraper-order      192 non-null    object\n",
      " 1   web-scraper-start-url  192 non-null    object\n",
      " 2   links                  102 non-null    object\n",
      " 3   links-href             102 non-null    object\n",
      " 4   court                  192 non-null    object\n",
      " 5   case_number            102 non-null    object\n",
      " 6   case_date              102 non-null    object\n",
      " 7   appellate_court        89 non-null     object\n",
      " 8   appellate_id           89 non-null     object\n",
      " 9   appellate_date         89 non-null     object\n",
      " 10  region                 116 non-null    object\n",
      " 11  city                   192 non-null    object\n",
      " 12  judgment_text          192 non-null    object\n",
      " 13  appeal                 89 non-null     object\n",
      " 14  pages                  92 non-null     object\n",
      " 15  pages-href             92 non-null     object\n",
      " 16  القضايا                0 non-null      object\n",
      " 17  القضايا-href           0 non-null      object\n",
      " 18  الصفحات                0 non-null      object\n",
      " 19  الصفحات-href           0 non-null      object\n",
      "dtypes: object(20)\n",
      "memory usage: 31.5+ KB\n"
     ]
    }
   ],
   "source": [
    "data.info()"
   ]
  },
  {
   "cell_type": "code",
   "execution_count": 13,
   "id": "51ff6992",
   "metadata": {},
   "outputs": [
    {
     "data": {
      "text/plain": [
       "192"
      ]
     },
     "execution_count": 13,
     "metadata": {},
     "output_type": "execute_result"
    }
   ],
   "source": [
    "data['الصفحات-href'].isnull().sum()"
   ]
  },
  {
   "cell_type": "code",
   "execution_count": 14,
   "id": "6f2c8617",
   "metadata": {},
   "outputs": [
    {
     "data": {
      "text/plain": [
       "192"
      ]
     },
     "execution_count": 14,
     "metadata": {},
     "output_type": "execute_result"
    }
   ],
   "source": [
    "data['القضايا-href'].isnull().sum()"
   ]
  },
  {
   "cell_type": "code",
   "execution_count": 15,
   "id": "a8dec16d",
   "metadata": {},
   "outputs": [
    {
     "data": {
      "text/plain": [
       "100"
      ]
     },
     "execution_count": 15,
     "metadata": {},
     "output_type": "execute_result"
    }
   ],
   "source": [
    "data['pages-href'].isnull().sum()"
   ]
  },
  {
   "cell_type": "code",
   "execution_count": 16,
   "id": "11a93a70",
   "metadata": {
    "scrolled": true
   },
   "outputs": [
    {
     "data": {
      "text/plain": [
       "100"
      ]
     },
     "execution_count": 16,
     "metadata": {},
     "output_type": "execute_result"
    }
   ],
   "source": [
    "data['pages'].isnull().sum()"
   ]
  },
  {
   "cell_type": "code",
   "execution_count": 17,
   "id": "aa05a3d1",
   "metadata": {},
   "outputs": [],
   "source": [
    "data.drop(['pages','pages-href','القضايا-href','الصفحات-href'], axis = 1,inplace=True)"
   ]
  },
  {
   "cell_type": "code",
   "execution_count": 18,
   "id": "91e82330",
   "metadata": {
    "scrolled": true
   },
   "outputs": [
    {
     "name": "stdout",
     "output_type": "stream",
     "text": [
      "<class 'pandas.core.frame.DataFrame'>\n",
      "Int64Index: 192 entries, 0 to 213\n",
      "Data columns (total 16 columns):\n",
      " #   Column                 Non-Null Count  Dtype \n",
      "---  ------                 --------------  ----- \n",
      " 0   web-scraper-order      192 non-null    object\n",
      " 1   web-scraper-start-url  192 non-null    object\n",
      " 2   links                  102 non-null    object\n",
      " 3   links-href             102 non-null    object\n",
      " 4   court                  192 non-null    object\n",
      " 5   case_number            102 non-null    object\n",
      " 6   case_date              102 non-null    object\n",
      " 7   appellate_court        89 non-null     object\n",
      " 8   appellate_id           89 non-null     object\n",
      " 9   appellate_date         89 non-null     object\n",
      " 10  region                 116 non-null    object\n",
      " 11  city                   192 non-null    object\n",
      " 12  judgment_text          192 non-null    object\n",
      " 13  appeal                 89 non-null     object\n",
      " 14  القضايا                0 non-null      object\n",
      " 15  الصفحات                0 non-null      object\n",
      "dtypes: object(16)\n",
      "memory usage: 25.5+ KB\n"
     ]
    }
   ],
   "source": [
    "data.info()"
   ]
  },
  {
   "cell_type": "code",
   "execution_count": 19,
   "id": "dfb895ea",
   "metadata": {},
   "outputs": [
    {
     "data": {
      "text/plain": [
       "192"
      ]
     },
     "execution_count": 19,
     "metadata": {},
     "output_type": "execute_result"
    }
   ],
   "source": [
    "data['القضايا'].isnull().sum()"
   ]
  },
  {
   "cell_type": "code",
   "execution_count": 20,
   "id": "1b711703",
   "metadata": {
    "scrolled": true
   },
   "outputs": [
    {
     "data": {
      "text/plain": [
       "192"
      ]
     },
     "execution_count": 20,
     "metadata": {},
     "output_type": "execute_result"
    }
   ],
   "source": [
    "data['الصفحات'].isnull().sum()"
   ]
  },
  {
   "cell_type": "code",
   "execution_count": 21,
   "id": "37b53f9b",
   "metadata": {},
   "outputs": [],
   "source": [
    "data.drop(['القضايا','الصفحات'], axis = 1,inplace=True)"
   ]
  },
  {
   "cell_type": "code",
   "execution_count": 22,
   "id": "27fcf05b",
   "metadata": {
    "scrolled": false
   },
   "outputs": [
    {
     "name": "stdout",
     "output_type": "stream",
     "text": [
      "<class 'pandas.core.frame.DataFrame'>\n",
      "Int64Index: 192 entries, 0 to 213\n",
      "Data columns (total 14 columns):\n",
      " #   Column                 Non-Null Count  Dtype \n",
      "---  ------                 --------------  ----- \n",
      " 0   web-scraper-order      192 non-null    object\n",
      " 1   web-scraper-start-url  192 non-null    object\n",
      " 2   links                  102 non-null    object\n",
      " 3   links-href             102 non-null    object\n",
      " 4   court                  192 non-null    object\n",
      " 5   case_number            102 non-null    object\n",
      " 6   case_date              102 non-null    object\n",
      " 7   appellate_court        89 non-null     object\n",
      " 8   appellate_id           89 non-null     object\n",
      " 9   appellate_date         89 non-null     object\n",
      " 10  region                 116 non-null    object\n",
      " 11  city                   192 non-null    object\n",
      " 12  judgment_text          192 non-null    object\n",
      " 13  appeal                 89 non-null     object\n",
      "dtypes: object(14)\n",
      "memory usage: 22.5+ KB\n"
     ]
    }
   ],
   "source": [
    "data.info()"
   ]
  },
  {
   "cell_type": "code",
   "execution_count": 23,
   "id": "21e72b9a",
   "metadata": {
    "scrolled": true
   },
   "outputs": [
    {
     "data": {
      "text/html": [
       "<div>\n",
       "<style scoped>\n",
       "    .dataframe tbody tr th:only-of-type {\n",
       "        vertical-align: middle;\n",
       "    }\n",
       "\n",
       "    .dataframe tbody tr th {\n",
       "        vertical-align: top;\n",
       "    }\n",
       "\n",
       "    .dataframe thead th {\n",
       "        text-align: right;\n",
       "    }\n",
       "</style>\n",
       "<table border=\"1\" class=\"dataframe\">\n",
       "  <thead>\n",
       "    <tr style=\"text-align: right;\">\n",
       "      <th></th>\n",
       "      <th>web-scraper-order</th>\n",
       "      <th>web-scraper-start-url</th>\n",
       "      <th>links</th>\n",
       "      <th>links-href</th>\n",
       "      <th>court</th>\n",
       "      <th>case_number</th>\n",
       "      <th>case_date</th>\n",
       "      <th>appellate_court</th>\n",
       "      <th>appellate_id</th>\n",
       "      <th>appellate_date</th>\n",
       "      <th>region</th>\n",
       "      <th>city</th>\n",
       "      <th>judgment_text</th>\n",
       "      <th>appeal</th>\n",
       "    </tr>\n",
       "  </thead>\n",
       "  <tbody>\n",
       "    <tr>\n",
       "      <th>0</th>\n",
       "      <td>1640298117-87</td>\n",
       "      <td>https://sjp.moj.gov.sa/Filter?isFilterButtonCl...</td>\n",
       "      <td>القضية رقم  ٤٦٤٦ لعام ١٤٤٢ هـ</td>\n",
       "      <td>https://sjp.moj.gov.sa/Filter/AhkamDetails/38991</td>\n",
       "      <td>التجارية</td>\n",
       "      <td>رقم القضية - القرار: ٤٦٤٦</td>\n",
       "      <td>تاريخها: ٩/١/١٤٤٣</td>\n",
       "      <td>محكمة الاستئناف: المحكمة التجارية</td>\n",
       "      <td>رقم القرار: ٧٨٥</td>\n",
       "      <td>تاريخه: ٧/٣/١٤٤٣</td>\n",
       "      <td>المدينة: منطقة الرياض</td>\n",
       "      <td>المدينه: الرياض</td>\n",
       "      <td>الحمد لله والصلاة والسلام على رسول ﷲ أما بعد:\\...</td>\n",
       "      <td>الحمد لله والصلاة والسلام على رسول ﷲ أما بعد:\\...</td>\n",
       "    </tr>\n",
       "    <tr>\n",
       "      <th>1</th>\n",
       "      <td>1640297824-62</td>\n",
       "      <td>https://sjp.moj.gov.sa/Filter?isFilterButtonCl...</td>\n",
       "      <td>القضية رقم  ٦٩٥٨ لعام ١٤٤٢ هـ</td>\n",
       "      <td>https://sjp.moj.gov.sa/Filter/AhkamDetails/38903</td>\n",
       "      <td>التجارية</td>\n",
       "      <td>رقم القضية - القرار: ٦٩٥٨</td>\n",
       "      <td>تاريخها: ٢٥/١٢/١٤٤٢</td>\n",
       "      <td>محكمة الاستئناف: المحكمة التجارية</td>\n",
       "      <td>رقم القرار: ٥٤٦</td>\n",
       "      <td>تاريخه: ٦/٣/١٤٤٣</td>\n",
       "      <td>المدينة: منطقة الرياض</td>\n",
       "      <td>المدينه: الرياض</td>\n",
       "      <td>الحمد لله والصلاة والسلام على رسول ﷲ أما بعد:\\...</td>\n",
       "      <td>الحمد لله والصلاة والسلام على رسول ﷲ أما بعد:\\...</td>\n",
       "    </tr>\n",
       "    <tr>\n",
       "      <th>2</th>\n",
       "      <td>1640298107-86</td>\n",
       "      <td>https://sjp.moj.gov.sa/Filter?isFilterButtonCl...</td>\n",
       "      <td>القضية رقم  ٦٦٠٧ لعام ١٤٤٢ هـ</td>\n",
       "      <td>https://sjp.moj.gov.sa/Filter/AhkamDetails/38992</td>\n",
       "      <td>التجارية</td>\n",
       "      <td>رقم القضية - القرار: ٦٦٠٧</td>\n",
       "      <td>تاريخها: ٩/١/١٤٤٣</td>\n",
       "      <td>محكمة الاستئناف: المحكمة التجارية</td>\n",
       "      <td>رقم القرار: ٧٩٠</td>\n",
       "      <td>تاريخه: ٧/٣/١٤٤٣</td>\n",
       "      <td>المدينة: منطقة الرياض</td>\n",
       "      <td>المدينه: الرياض</td>\n",
       "      <td>الحمد لله والصلاة والسلام على رسول ﷲ أما بعد:\\...</td>\n",
       "      <td>الحمد لله والصلاة والسلام على رسول ﷲ أما بعد:\\...</td>\n",
       "    </tr>\n",
       "    <tr>\n",
       "      <th>3</th>\n",
       "      <td>1640297908-69</td>\n",
       "      <td>https://sjp.moj.gov.sa/Filter?isFilterButtonCl...</td>\n",
       "      <td>القضية رقم  ٤٣٣١ لعام ١٤٤٢ هـ</td>\n",
       "      <td>https://sjp.moj.gov.sa/Filter/AhkamDetails/39268</td>\n",
       "      <td>التجارية</td>\n",
       "      <td>رقم القضية - القرار: ٤٣٣١</td>\n",
       "      <td>تاريخها: ١٨/١١/١٤٤٢</td>\n",
       "      <td>محكمة الاستئناف: المحكمة التجارية</td>\n",
       "      <td>رقم القرار: ٣٧</td>\n",
       "      <td>تاريخه: ٧/٣/١٤٤٣</td>\n",
       "      <td>المدينة: منطقة الرياض</td>\n",
       "      <td>المدينه: الرياض</td>\n",
       "      <td>الحمد لله والصلاة والسلام على رسول ﷲ أما بعد:\\...</td>\n",
       "      <td>الحمد لله والصلاة والسلام على رسول ﷲ أما بعد:\\...</td>\n",
       "    </tr>\n",
       "  </tbody>\n",
       "</table>\n",
       "</div>"
      ],
      "text/plain": [
       "  web-scraper-order                              web-scraper-start-url  \\\n",
       "0     1640298117-87  https://sjp.moj.gov.sa/Filter?isFilterButtonCl...   \n",
       "1     1640297824-62  https://sjp.moj.gov.sa/Filter?isFilterButtonCl...   \n",
       "2     1640298107-86  https://sjp.moj.gov.sa/Filter?isFilterButtonCl...   \n",
       "3     1640297908-69  https://sjp.moj.gov.sa/Filter?isFilterButtonCl...   \n",
       "\n",
       "                           links  \\\n",
       "0  القضية رقم  ٤٦٤٦ لعام ١٤٤٢ هـ   \n",
       "1  القضية رقم  ٦٩٥٨ لعام ١٤٤٢ هـ   \n",
       "2  القضية رقم  ٦٦٠٧ لعام ١٤٤٢ هـ   \n",
       "3  القضية رقم  ٤٣٣١ لعام ١٤٤٢ هـ   \n",
       "\n",
       "                                         links-href     court  \\\n",
       "0  https://sjp.moj.gov.sa/Filter/AhkamDetails/38991  التجارية   \n",
       "1  https://sjp.moj.gov.sa/Filter/AhkamDetails/38903  التجارية   \n",
       "2  https://sjp.moj.gov.sa/Filter/AhkamDetails/38992  التجارية   \n",
       "3  https://sjp.moj.gov.sa/Filter/AhkamDetails/39268  التجارية   \n",
       "\n",
       "                 case_number            case_date  \\\n",
       "0  رقم القضية - القرار: ٤٦٤٦    تاريخها: ٩/١/١٤٤٣   \n",
       "1  رقم القضية - القرار: ٦٩٥٨  تاريخها: ٢٥/١٢/١٤٤٢   \n",
       "2  رقم القضية - القرار: ٦٦٠٧    تاريخها: ٩/١/١٤٤٣   \n",
       "3  رقم القضية - القرار: ٤٣٣١  تاريخها: ١٨/١١/١٤٤٢   \n",
       "\n",
       "                     appellate_court     appellate_id    appellate_date  \\\n",
       "0  محكمة الاستئناف: المحكمة التجارية  رقم القرار: ٧٨٥  تاريخه: ٧/٣/١٤٤٣   \n",
       "1  محكمة الاستئناف: المحكمة التجارية  رقم القرار: ٥٤٦  تاريخه: ٦/٣/١٤٤٣   \n",
       "2  محكمة الاستئناف: المحكمة التجارية  رقم القرار: ٧٩٠  تاريخه: ٧/٣/١٤٤٣   \n",
       "3  محكمة الاستئناف: المحكمة التجارية   رقم القرار: ٣٧  تاريخه: ٧/٣/١٤٤٣   \n",
       "\n",
       "                  region             city  \\\n",
       "0  المدينة: منطقة الرياض  المدينه: الرياض   \n",
       "1  المدينة: منطقة الرياض  المدينه: الرياض   \n",
       "2  المدينة: منطقة الرياض  المدينه: الرياض   \n",
       "3  المدينة: منطقة الرياض  المدينه: الرياض   \n",
       "\n",
       "                                       judgment_text  \\\n",
       "0  الحمد لله والصلاة والسلام على رسول ﷲ أما بعد:\\...   \n",
       "1  الحمد لله والصلاة والسلام على رسول ﷲ أما بعد:\\...   \n",
       "2  الحمد لله والصلاة والسلام على رسول ﷲ أما بعد:\\...   \n",
       "3  الحمد لله والصلاة والسلام على رسول ﷲ أما بعد:\\...   \n",
       "\n",
       "                                              appeal  \n",
       "0  الحمد لله والصلاة والسلام على رسول ﷲ أما بعد:\\...  \n",
       "1  الحمد لله والصلاة والسلام على رسول ﷲ أما بعد:\\...  \n",
       "2  الحمد لله والصلاة والسلام على رسول ﷲ أما بعد:\\...  \n",
       "3  الحمد لله والصلاة والسلام على رسول ﷲ أما بعد:\\...  "
      ]
     },
     "execution_count": 23,
     "metadata": {},
     "output_type": "execute_result"
    }
   ],
   "source": [
    "data.head(4)"
   ]
  },
  {
   "cell_type": "markdown",
   "id": "4ce618e6",
   "metadata": {},
   "source": [
    "## remove ponctuations"
   ]
  },
  {
   "cell_type": "code",
   "execution_count": 24,
   "id": "a4d64ae3",
   "metadata": {},
   "outputs": [],
   "source": [
    "arabic_punctuations = '''`÷×؛<>_()*&^%][ـ،/:\"؟.,'{}~¦+|\"!”…“–ـ'''"
   ]
  },
  {
   "cell_type": "code",
   "execution_count": 25,
   "id": "e979aafa",
   "metadata": {},
   "outputs": [],
   "source": [
    "def remove_punctuations(text):\n",
    "    translator = str.maketrans(' ', ' ', arabic_punctuations)\n",
    "    return text.translate(translator)\n",
    "data['judgment_text'] =data['judgment_text'].map(remove_punctuations)"
   ]
  },
  {
   "cell_type": "code",
   "execution_count": 26,
   "id": "a7bc6f43",
   "metadata": {},
   "outputs": [],
   "source": [
    "#data.judgment_text = data.judgment_text.replace('\\n','')"
   ]
  },
  {
   "cell_type": "markdown",
   "id": "41f4bf00",
   "metadata": {},
   "source": [
    "## normalize_arabic"
   ]
  },
  {
   "cell_type": "code",
   "execution_count": 27,
   "id": "c9b7485f",
   "metadata": {},
   "outputs": [],
   "source": [
    "def normalize_arabic(text):\n",
    "    text = re.sub(\"[إأآا]\", \"ا\", text)\n",
    "    text = re.sub(\"ى\", \"ي\", text)\n",
    "    text = re.sub(\"ة\", \"ه\", text)\n",
    "    text = re.sub(\"گ\", \"ك\", text)\n",
    "    return text"
   ]
  },
  {
   "cell_type": "code",
   "execution_count": 28,
   "id": "0c4dfca1",
   "metadata": {},
   "outputs": [],
   "source": [
    "data['judgment_text'] =data['judgment_text'].map(normalize_arabic)"
   ]
  },
  {
   "cell_type": "markdown",
   "id": "ee5506d3",
   "metadata": {},
   "source": [
    "## remove numbers"
   ]
  },
  {
   "cell_type": "code",
   "execution_count": 29,
   "id": "0c564369",
   "metadata": {},
   "outputs": [],
   "source": [
    "data['judgment_text'] =data['judgment_text'].str.replace('\\w*\\d\\w*', ' ')"
   ]
  },
  {
   "cell_type": "code",
   "execution_count": 30,
   "id": "50acdb1f",
   "metadata": {},
   "outputs": [],
   "source": [
    "data['judgment_text'] =data['judgment_text'].str.replace('\\\\', ' ')"
   ]
  },
  {
   "cell_type": "markdown",
   "id": "511dceef",
   "metadata": {},
   "source": [
    "## remove \\n"
   ]
  },
  {
   "cell_type": "code",
   "execution_count": 31,
   "id": "42149d84",
   "metadata": {},
   "outputs": [],
   "source": [
    "data['judgment_text'] =data['judgment_text'].str.replace(r'\\s', ' ')"
   ]
  },
  {
   "cell_type": "code",
   "execution_count": 32,
   "id": "33402453",
   "metadata": {},
   "outputs": [],
   "source": [
    "data['judgment_text'] =data['judgment_text'].str.replace(r'\\s*[A-Za-z]+\\b', ' ')"
   ]
  },
  {
   "cell_type": "code",
   "execution_count": 33,
   "id": "9ce76ab5",
   "metadata": {},
   "outputs": [],
   "source": [
    "data['judgment_text'] =data['judgment_text'].str.replace('-', ' ')"
   ]
  },
  {
   "cell_type": "code",
   "execution_count": 34,
   "id": "416a24f3",
   "metadata": {},
   "outputs": [],
   "source": [
    "data['judgment_text'] =data['judgment_text'].str.replace('\\u200c', ' ')"
   ]
  },
  {
   "cell_type": "code",
   "execution_count": 35,
   "id": "55d14321",
   "metadata": {},
   "outputs": [
    {
     "data": {
      "text/plain": [
       "'الحمد لله والصلاه والسلام علي رسول ﷲ اما بعد فلدي الدائره التجاريه الثانيه عشره وبناءً علي القضيه رقم    لعام   ه  المقامه من شركه شبال للتجاره مساهمه مقفله سجل تجاري   ضد عبدﷲ محمد عبدﷲ فلاته هويه وطنيه    القاضي بندر بن صالح الحميد رئيسا القاضي بكر بن خلف العنزي عضوا القاضي عبدالرحمن بن سعد السعد عضوا   الوقائع  تتحصل وقائع هذه الدعوي بالقدر اللازم لاصدار هذا الحكم وحسبما يتبين من اوراقها بتقدم وكيل المدعي نايف بدر غازي المرشدي هويه رقم  بصفته وكيلا عن شركه شبال للتجاره مساهمه مقفله بوكاله رقم    بلائحه دعوي ضد المدعي عليها مؤسسه اثير الصفوه للتجاره سجل رقم  تضمنت ما يلي    بتاريخ       م قامت المدعي عليها بفتح حساب شراء بضاعه بالاجل لدي موكلتي علي ان توفر موكلتي للمدعي عليها الاقمشه المطلوبه بالاجل وتقوم المدعي عليها بالسداد خلال العام نفسه ولا يتم تجاوز نفس العام    استمرت العلاقه التعاقديه طيله الفتره الماضيه بناءً علي الاتفاق نفسه مع تغيير المؤسسه المباشره للتعاملات الي مؤسسه اثير الصفوه للتجاره والعائده جميعها للمالك نفسه عبدﷲ محمد عبدﷲ فلاته    اشترت المدعي عليها اقمشه رجاله صيفيه نوع ريتشي موديل صيفي من موكلتي للفتره من       حتي       وذلك بمبلغ وقدره   مليون وسبعمائه وخمسه وسبعين الف و اربعمائه وتسعه وثلاثين ريال سعودي    استلمت المدعي عليها البضاعه المحدده وتصرفت بها    طالبت موكلتي المدعي عليها بالسداد وردت المدعي عليها بخطاب بالوعد بالسداد و جدوله المبلغ علي دفعات متفرقه    لم تفِ المدعي عليها بالوعد بالسداد حتي الان جميع المبالغ حاله الوفاء بتاريخ       م  وانتهي وكيل المدعيه الي طلب الزام المدعي عليها بان يدفع لموكلته مبلغاً قدره   مليون وسبعمائه وخمسه وسبعين الف و اربعمائه وتسعه وثلاثين ريال سعودي بالاضافه الي اتعاب المحاماه وقد قدمت بيناتها علي دعواها تمثلت في عقد التوريد علي ورقه بيضاء تضمن الاتفاق يوم الاحد بتاريخ    بين الطرف الاول شركه شبال للتجاره المحدوده اقمشه ريتشي العالميه والطرف الثاني اثير الصفوه للخياطه الرجاليه عبد ﷲ فلاته بقيام الطرف الاول بتوريد البضاعه التي يحتاج اليها الطرف الثاني من اقمشه ريتشي العالميه وذلك حسب رغبه واختيار الطرف الثاني مذيل بتوقيع وختم الطرفين شركه شبال المحدوده ومكتب عبد ﷲ فلاته للخدمات التجاريه كما قدمت المدعيه فواتير علي مطبوعات ريتشي بتاريخ   بمجموع كلي مقداره   ريال وقد اقيم لنظر هذه القضيه جلستان ففي الجلسه الاولي بتاريخ   حضر طرفا الدعوي وكاله وبسؤال المدعي وكاله عن الدعوي احال علي لائحه الدعوي وبعرضها علي المدعي عليه اجاب قائلا اطلب مهله للرد وافهم طرفا الدعوي بتبادل المذكرات ورفعت الجلسه ثم قدم المدعي عليه مذكرته بتاريخ   تضمنت اولاً اقيمت الدعوي ضد مؤسسه اثير الصفوه للتجاره وارفق بها عقد مكتوب في عام   وعليه ختم مكتب عبدﷲ ابراهيم فلاته للخدمات التجاريه وهذا العقد مكتوب في مقدمته انه بين المدعي واثير الصفوه للخياطه الرجاليه وعليه ختم ورقم السجل التجاري للمكتب المذكور ثانياً السجل التجاري للمكتب المذكور قد انتهي العمل به واغلقت مؤسسه الخدمات التجاريه وانتهي التعامل بين المؤسسه والمدعي ثالثا ويؤيد ذلك ما ارفقته المدعيه من فواتير تؤكد ذلك وتبين ان التعامل كان مع شركه اخري وباتفاق اخر غير ما ورد في الدعوي و هذه الشركه لها شخصيه اعتباريه وذمه ماليه مستقله ويملكها شخصان ولا ترتبط بالمدعي عليه مكتب عبدﷲ فلاته للخدمات التجاريه  المنتهي منذ سنوات   وبجلسه   المنعقده عن بعد حضر اطراف الدعوي ورات الجلسه صلاحيه الدعوي للفصل فيها وعليه قررت الدائره رفع الجلسه للمداوله   الاسباب  لما كان من اللازم قبل الولوج في موضوع النزاع النظر في صحه قيد الدعوي وحسب ما جاء في نظام المحاكم التجاريه الصادر بالمرسوم الملكي رقم   وتاريخ   الماده العشرون   يجب ان تتضمن صحيفه الدعوي الاتي ا        بيانات الاطراف وممثليهم وصفاتهم وعناوينهم والبيانات والوثائق التي تحددها اللائحه ب        حصر الطلبات وتحديد جميع اسانيد الدعوي وحيث ذكرت المدعيه في دعواها ان اثير الصفوه هي والاسم التجاري مكتب عبدﷲ فلاته هما لنفس الشخص بدليل ان السجل واحد لم يتغير ولم تقدم البينات والوثائق المطلوبه لاثبات هذا الادعاء مع وجوب ارفاقها بلائحه الدعوي فالدعوي والامر ما سبق حريه بعدم القبول كما ان الدائره باطلاعها علي العقد المرفق من المدعيه ضعت بجانب اسم مؤسسه اثير الصفوه عبدﷲ بن ابراهيم فلاته وليس عبدلله بن محمد بن عبدﷲ فلاته وعلي المدعيه تبيين سبب الاختلاف في حال رغبت في اقامه الدعوي مره اخري وبناء عليه   منطوق الحكم  حكمت الدائره بعدم قبول هذه الدعوي وﷲ الموفق وصلي ﷲ وسلم علي نبينا محمد وعلي اله وصحبه اجمعين   عضو  بكر بن خلف العنزي عضو  عبدالرحمن بن سعد السعد رئيس الدائره  بندر بن صالح الحميد'"
      ]
     },
     "execution_count": 35,
     "metadata": {},
     "output_type": "execute_result"
    }
   ],
   "source": [
    "data['judgment_text'][1]"
   ]
  },
  {
   "cell_type": "markdown",
   "id": "4fb6b0a3",
   "metadata": {},
   "source": [
    "Strip tatweel from a text and return a result text"
   ]
  },
  {
   "cell_type": "code",
   "execution_count": 36,
   "id": "70235af1",
   "metadata": {},
   "outputs": [
    {
     "name": "stdout",
     "output_type": "stream",
     "text": [
      "حكمتِ\n",
      "حكمت\n"
     ]
    }
   ],
   "source": [
    "text=\"حَكَمَتِ\"\n",
    "a = text.replace('\\u064E', '')# َ\n",
    "print(a)\n",
    "a=a.replace('\\u0650', '')#ِ\n",
    "print(a)"
   ]
  },
  {
   "cell_type": "code",
   "execution_count": 37,
   "id": "c7db9989",
   "metadata": {},
   "outputs": [],
   "source": [
    "import pyarabic.araby as araby\n",
    "import pyarabic.number as number"
   ]
  },
  {
   "cell_type": "code",
   "execution_count": 38,
   "id": "9834dd79",
   "metadata": {},
   "outputs": [
    {
     "data": {
      "text/plain": [
       "'حكمت'"
      ]
     },
     "execution_count": 38,
     "metadata": {},
     "output_type": "execute_result"
    }
   ],
   "source": [
    "araby.strip_tashkeel('حَكَمَتِ')"
   ]
  },
  {
   "cell_type": "code",
   "execution_count": 39,
   "id": "905b444c",
   "metadata": {
    "scrolled": true
   },
   "outputs": [],
   "source": [
    "#araby.strip_tashkeel(data['judgment_text'])"
   ]
  },
  {
   "cell_type": "code",
   "execution_count": 40,
   "id": "7e98e5f5",
   "metadata": {},
   "outputs": [
    {
     "data": {
      "text/plain": [
       "\"\\ndef converter(x):\\n    try:\\n        return ([araby.strip_tashkeel(x) for i in x])\\n    except AttributeError:\\n        return None  # or some other value\\ndata['judgment_text'] = data['judgment_text'].str.apply(converter)\\n\""
      ]
     },
     "execution_count": 40,
     "metadata": {},
     "output_type": "execute_result"
    }
   ],
   "source": [
    "'''\n",
    "def converter(x):\n",
    "    try:\n",
    "        return ([araby.strip_tashkeel(x) for i in x])\n",
    "    except AttributeError:\n",
    "        return None  # or some other value\n",
    "data['judgment_text'] = data['judgment_text'].str.apply(converter)\n",
    "'''"
   ]
  },
  {
   "cell_type": "code",
   "execution_count": 41,
   "id": "fb389341",
   "metadata": {},
   "outputs": [
    {
     "data": {
      "text/plain": [
       "\"\\ndef remove_tashkeel(f):\\n    return araby.strip_tashkeel(f)\\ndata['judgment_text'] = data.judgment_text.map(remove_tashkeel)\\n\""
      ]
     },
     "execution_count": 41,
     "metadata": {},
     "output_type": "execute_result"
    }
   ],
   "source": [
    "'''\n",
    "def remove_tashkeel(f):\n",
    "    return araby.strip_tashkeel(f)\n",
    "data['judgment_text'] = data.judgment_text.map(remove_tashkeel)\n",
    "'''"
   ]
  },
  {
   "cell_type": "code",
   "execution_count": 42,
   "id": "575d194b",
   "metadata": {},
   "outputs": [],
   "source": [
    "data.judgment_text = data.judgment_text.str.replace('\\u0640', '')"
   ]
  },
  {
   "cell_type": "code",
   "execution_count": 43,
   "id": "d37b0b53",
   "metadata": {},
   "outputs": [],
   "source": [
    "data.judgment_text= data.judgment_text.str.replace('\\u064E', '')# َ"
   ]
  },
  {
   "cell_type": "code",
   "execution_count": 44,
   "id": "e7d3239c",
   "metadata": {},
   "outputs": [],
   "source": [
    "data.judgment_text= data.judgment_text.str.replace('\\u0650', '')# َ"
   ]
  },
  {
   "cell_type": "code",
   "execution_count": 45,
   "id": "3d0c3171",
   "metadata": {},
   "outputs": [],
   "source": [
    " def get_Verdict(Verdict):\n",
    "        \n",
    "    if \"حكمت\"  in Verdict:\n",
    "         return str.split(Verdict, \"حكمت\",1)[1]\n",
    "    #if \"حـكمـت\"  in Verdict:\n",
    "        # return str.split(Verdict, \"حـكمـت\",1)[1]\n",
    "    if \"قررت\"  in Verdict:\n",
    "         return str.split(Verdict, \"قررت\",1)[1]\n",
    "    if \"منطوق\"  in Verdict:\n",
    "         return str.split(Verdict, \"منطوق\",1)[1]\n",
    "    if \"منطوف\"  in Verdict:\n",
    "         return str.split(Verdict, \"منطوف\",1)[1]\n",
    "    return None\n",
    "data['Verdict'] =data['judgment_text'].map(get_Verdict)"
   ]
  },
  {
   "cell_type": "code",
   "execution_count": 46,
   "id": "3edf42af",
   "metadata": {},
   "outputs": [
    {
     "data": {
      "text/plain": [
       "' الدائره بعدم اختصاص المحكمه التجاريه نوعيًا بنظر الدعوي رقم   لعام   والمقامه من المدعي قاسم بن حسين بن علي المكحل ذي الهويه الوطنيه رقم ضد المدعي عليها فاطمه بنت حسين الشيخ ذي الهويه الوطنيه رقم  وﷲ الموفق والهادي الي سواء السبيل وصلي ﷲ وسلم علي نبينا محمد وعلي اله وصحبه اجمعين  عضو فيصل بن احمد الزهراني  عضو عبدالعزيز بن عبدالرحمن بن صالح الراجح  رئيس الدائره عبدﷲ بن عبدالرحمن اليابس'"
      ]
     },
     "execution_count": 46,
     "metadata": {},
     "output_type": "execute_result"
    }
   ],
   "source": [
    "data['Verdict'][200]"
   ]
  },
  {
   "cell_type": "code",
   "execution_count": 47,
   "id": "5a4f7f7e",
   "metadata": {},
   "outputs": [],
   "source": [
    "#data['judgment_text'][29]"
   ]
  },
  {
   "cell_type": "code",
   "execution_count": 48,
   "id": "e09719d0",
   "metadata": {},
   "outputs": [
    {
     "name": "stdout",
     "output_type": "stream",
     "text": [
      "منطوف\n"
     ]
    }
   ],
   "source": [
    "blob = TextBlob(\"منطوف\")\n",
    "print(blob.correct())"
   ]
  },
  {
   "cell_type": "code",
   "execution_count": 49,
   "id": "fbe91796",
   "metadata": {},
   "outputs": [
    {
     "data": {
      "text/html": [
       "<div>\n",
       "<style scoped>\n",
       "    .dataframe tbody tr th:only-of-type {\n",
       "        vertical-align: middle;\n",
       "    }\n",
       "\n",
       "    .dataframe tbody tr th {\n",
       "        vertical-align: top;\n",
       "    }\n",
       "\n",
       "    .dataframe thead th {\n",
       "        text-align: right;\n",
       "    }\n",
       "</style>\n",
       "<table border=\"1\" class=\"dataframe\">\n",
       "  <thead>\n",
       "    <tr style=\"text-align: right;\">\n",
       "      <th></th>\n",
       "      <th>web-scraper-order</th>\n",
       "      <th>web-scraper-start-url</th>\n",
       "      <th>links</th>\n",
       "      <th>links-href</th>\n",
       "      <th>court</th>\n",
       "      <th>case_number</th>\n",
       "      <th>case_date</th>\n",
       "      <th>appellate_court</th>\n",
       "      <th>appellate_id</th>\n",
       "      <th>appellate_date</th>\n",
       "      <th>region</th>\n",
       "      <th>city</th>\n",
       "      <th>judgment_text</th>\n",
       "      <th>appeal</th>\n",
       "      <th>Verdict</th>\n",
       "    </tr>\n",
       "  </thead>\n",
       "  <tbody>\n",
       "  </tbody>\n",
       "</table>\n",
       "</div>"
      ],
      "text/plain": [
       "Empty DataFrame\n",
       "Columns: [web-scraper-order, web-scraper-start-url, links, links-href, court, case_number, case_date, appellate_court, appellate_id, appellate_date, region, city, judgment_text, appeal, Verdict]\n",
       "Index: []"
      ]
     },
     "execution_count": 49,
     "metadata": {},
     "output_type": "execute_result"
    }
   ],
   "source": [
    "data[data['Verdict'].isnull()]"
   ]
  },
  {
   "cell_type": "code",
   "execution_count": 50,
   "id": "11ffe34e",
   "metadata": {},
   "outputs": [
    {
     "data": {
      "text/plain": [
       "\"\\nfor col in data['Verdict']:\\n    data['Verdict'].to_csv('Verdict.csv')\\n    \""
      ]
     },
     "execution_count": 50,
     "metadata": {},
     "output_type": "execute_result"
    }
   ],
   "source": [
    "'''\n",
    "for col in data['Verdict']:\n",
    "    data['Verdict'].to_csv('Verdict.csv')\n",
    "    '''"
   ]
  },
  {
   "cell_type": "code",
   "execution_count": 51,
   "id": "86b8640f",
   "metadata": {},
   "outputs": [
    {
     "data": {
      "text/plain": [
       "\"\\nfor col in data['judgment_text']:\\n    data['judgment_text'].to_csv('judgment_csv')\\n    \""
      ]
     },
     "execution_count": 51,
     "metadata": {},
     "output_type": "execute_result"
    }
   ],
   "source": [
    "'''\n",
    "for col in data['judgment_text']:\n",
    "    data['judgment_text'].to_csv('judgment_csv')\n",
    "    '''"
   ]
  },
  {
   "cell_type": "code",
   "execution_count": 52,
   "id": "5f779f76",
   "metadata": {},
   "outputs": [
    {
     "data": {
      "text/plain": [
       "'\\nwith open(\"judgment_csv\") as f1:\\n    set1 = set(f1.readlines())\\nwith open(\"Verdict.csv\") as f2:\\n    set2 = set(f2.readlines())\\n\\nnondups = set1 - set2\\n\\nwith open(\"file1.csv\", \"w\") as out:\\n    out.writelines(nondups)\\n    '"
      ]
     },
     "execution_count": 52,
     "metadata": {},
     "output_type": "execute_result"
    }
   ],
   "source": [
    "'''\n",
    "with open(\"judgment_csv\") as f1:\n",
    "    set1 = set(f1.readlines())\n",
    "with open(\"Verdict.csv\") as f2:\n",
    "    set2 = set(f2.readlines())\n",
    "\n",
    "nondups = set1 - set2\n",
    "\n",
    "with open(\"file1.csv\", \"w\") as out:\n",
    "    out.writelines(nondups)\n",
    "    '''"
   ]
  },
  {
   "cell_type": "code",
   "execution_count": null,
   "id": "b8d90f65",
   "metadata": {},
   "outputs": [],
   "source": []
  },
  {
   "cell_type": "code",
   "execution_count": 53,
   "id": "341d361f",
   "metadata": {},
   "outputs": [],
   "source": [
    "#txt = pd.read_csv('file1.csv')"
   ]
  },
  {
   "cell_type": "code",
   "execution_count": 54,
   "id": "c2903ce9",
   "metadata": {},
   "outputs": [
    {
     "data": {
      "text/plain": [
       "'الحمد لله والصلاه والسلام علي رسول ﷲ اما بعد فلدي الدائره التجاريه الاولي وبناءً علي القضيه رقم    لعام   ه  المقامه من صاحبه السمو الملكي الاميره ريم بنت فيصل بن سعود بن عبدالعزيز ال سعود هويه وطنيه   ضد سعيد احمد سعيد المساعدي الشهري هويه وطنيه      القاضي ابراهيم بن محمد الفالح رئيسا القاضي عبدﷲ بن محمد البدر عضوا القاضي ناصر بن عبدﷲ بن مبرد عضوا   الوقائع  تتحصل وقائع هذه القضيه بالقدر اللازم لاصدار هذا الحكم بان وكيل المدعيه تقدم بلائحه دعوي الي المحكمه التجاريه بالرياض جاء فيها ما نصه  ان المدعي عليه تقدم للمحكمه التجاريه بدعوي ضد موكلتي صاحبه مؤسسه اميره الخليج الدعائيه لاقامه وتنظيم المعارض سجل تجاري رقم   وتتخلص وقائع الدعوي بمطالبته بمبلغ مائه وخمسون الف ريال واستند في دعواه علي العقد المؤرخ في   لمسابقه شاعر الوطن وسند القبض رقم   في تاريخ   واحيلت القضيه رقم   لعام   للدائره الثالثه عشر في تاريخ   وصدر فيها حكمًا في تاريخ   بمنطوقه فسخ الشراكه و الزام موكلتي بان تدفع للمدعي مبلغ مائه وخمسون الف ريال وتم تنفيذ الحكم من طرف موكلتي وطبقًا للماده الثانيه والعشرون بعد المائه من النظام التجاري فان موكلتي تطلب استرداد اصل العقد وسند القبض حيث انتهي الغرض من هذه المستندات بالنسبه للمدعو سعيد الشهري وذلك بصدور الحكم وتنفيذ مضمونه من قبل موكلتي ولتستطيع موكلتي من رفع دعوي ضد المدعو محمد ناصر عضرس الذي وقع العقد طرف مؤسسه موكلتي المتسبب في خسارتها وطبقًا للماده الثانيه والعشرون بعد المائه من النظام التجاري فانني اطلب من فضيلتكم الحكم بالزام المدعي عليه تسليم اصل هذه الوثائق واساس دعواه و التي بموجبها صدر الحكم ضد موكلتي وختم الدعوي بالطلب الاتي الزام المدعي عليه تسليم اصل العقد و سند القبض وقد تم قيد الدعوي قضيه بالرقم المشار اليه اعلاه واحيلت لهذه الدائره فاجرت ما هو لازم  لنظرها حيث احالت الاطراف الي الترافع الالكتروني بتاريخ   وطلبت الدائره من المدعي عليه الاجابه عن هذه الدعوي وبتاريخ   تقدم المدعي عليه باجابته الالكترونيه عبره الترافع الالكتروني جاء فيها ما نصه اشاره الي الاوراق المطلوبه محل الدعوي افيدكم انها قد فقدت مني خاصه وان التقاضي مع المدعيه قد طال لسنوات في المحاكم العامه والجزائيه والبحث الجنائي واخيراً المحكمه التجاريه ثم حددت الدائره جلسه اليوم للترافع فيها وفيه عقدت عبر الاتصال المرئي عن بعد بواسطه برنامج   جلسه وحضر فيها وكيل المدعيه شريف بن عبدﷲ الرويشد بموجب الوكاله رقم   وتاريخ   ووكيل المدعي عليه محمد بن مرشد المرشد بموجب الوكاله رقم   وتاريخ   وبعرض الصلح علي الاطراف تعذر الصلح وبسؤال وكيل المدعيه عن دعوي موكلته احال علي ما ورد في لائحه الدعوي وبسؤال وكيل المدعي عليه عن اجابه موكله عن هذه الدعوي ارفق في المكان المخصص للمحادثه في البرنامج المنعقد فيه هذه الجلسه وقد جاء اجابه موكله بما نصه نرفض تسليم العقد والسند اولاً لان المدعيه لديها نسخه من السند والعقد ثانيًا وكيلهم السابق محمد عضرس الذي وقع الاتفاقيه ويرغبون تقديم دعوي ضده مازال يهدد برفع شكوي ضد موكلنا ثالثًا هناك قضايا متعلقه بهذه الدعوي لم تنتهي بعد ومنها اتعاب المحاماه وقضيه رد اعتبار وقضيه تعويض عن اضرار وسنتحتاج للاصول في هذه القضايا علي الاقل قضيه التعويض فسالت الدائره وكيل المدعي عليه هل المستندات الاصليه محل المطالبه لاتزال بحوزه موكله حتي هذه الجلسه وانها لديه وليست مفقوده اجاب قائلاً بان المستندات الاصل لاتزال موجوده لدي موكلي وهي بحوزته وقد كانت مفقوده ثم وجدها وبسؤال الاطراف هل توجد دعوي مقامه في المحاكم ولاتزال منظوره وتخص السندات محل المطالبه  فافاد الاطراف بعدم وجود دعوي في حين اضاف وكيل المدعي عليه بان هناك دعوي اقيمت ضد المدعيه تتعلق باتعاب الترافع رقم   لعام   وقد فصل فيها بحكم ابتدائي تضمن الزام المدعيه باتعاب الترافع ثم قرر وكيل المدعيه الاكتفاء وبناء علي ما تقدم قررت الدائره اقفال باب المرافعه للمداوله والنطق بالحكم   الاسباب  تاسيسًا علي ما ورد في الواقعات سالفه الذكر وبما ان المدعيه تطالب في هذه الدعوي باسترداد اصلي السندين   العقد المعنون بعقد اتفاق المؤرخ في   والمكون من ثلاث صفحات   سند القبض رقم   وتاريخ   والوارد فيه واقعه استلام   ريال من قبل المدعي عليه وبما ان هذين السندين فصل في الحق الموضوعي بحكم قضائي مكتسب القطعيه وذلك بموجب الحكم الصادر من الدائره الثالثه عشر الابتدائيه بهذه المحكمه في القضيه رقم   لعام   والمؤيد من دائره الاستئناف الثانيه بهذه المحكمه حسب حكمها في القضيه رقم   لعام   وبما ان الماده رقم   من نظام المحاكم التجاريه الصادر بالمرسوم الملكي رقم   وتاريخ    منحت لذي المصلحه التقدم بطلب استرداد مستند حيث نصت علي  لكل ذي مصلحه ان يتقدم للمحكمه بطلب استرداد مستند يدعي انه له او طلب اثبات انقضاء الغرض منه وتامر المحكمه باسترداده وفق احكام الباب السابع من النظام وبما ان الماده رقم   من لائحه النظام الصادره بموجب قرار وزير العدل رقم   وتاريخ   والمنشور في جريده ام القري برقم العدد   وتاريخ   اشترطت لقبول طلب الاسترداد شرطين حيث نصت علي  يشترط لقبول طلب استرداد مستند او اثبات انقضاء الغرض منه  وفق الماده السابعه والاربعين من النظام  الاتي ا  ان يكون المستند المطلوب استرداده او اثبات انقضاء الغرض منه له علاقه بتعامل تجاري تختص بنظره المحكمه ب  الا ينازع الطرف الاخر في الحق الموضوعي المرتبط بالمستند ما لم يكن الحق ثابتاً بحكم نهائي وبما ان هذه المطالبه متعلقه بدعوي تختص المحكمه التجاريه بنظرها  الدعاوي المتعلقه بعقود المضاربه  وبما ان تلك الدعوي فصل فيها بحكم قطعي وبما ان هذه المطالبه استوفت للشروط المتعلقه بقبولها وبما ان وكيل المدعي عليه في جلسه اليوم قرر بان اصل المستندين بحوزه موكله وله وكاله تخوله حق الاقرار فان الدائره تنتهي الي الزام المدعي عليه بان يسلم للمدعيه اصل تلك المستندين محل الدعوي وتحكم بموجب ما تقدم حسب ما جاء في منطوق حكمها ادناه   منطوق الحكم لذا حكمت الدائره بالزام المدعي عليه سعيد بن احمد بن سعيد المساعدي الشهري هويه وطنيه رقم  بان يسلم للمدعيه ريم بنت فيصل بن سعود ال سعود هويه وطنيه رقم  السندين الاتيين   المؤرخ في   المعنون بعقد اتفاق   سند القبض رقم   وتاريخ   لما هو مبين بالاسباب وبﷲ التوفيق  عضو  عبدﷲ بن محمد البدر عضو  ناصر بن عبدﷲ بن مبرد رئيس الدائره  ابراهيم بن محمد الفالح'"
      ]
     },
     "execution_count": 54,
     "metadata": {},
     "output_type": "execute_result"
    }
   ],
   "source": [
    "data['judgment_text'][88]"
   ]
  },
  {
   "cell_type": "code",
   "execution_count": 55,
   "id": "4a04f47e",
   "metadata": {},
   "outputs": [
    {
     "data": {
      "text/plain": [
       "' الدائره بالزام المدعي عليه سعيد بن احمد بن سعيد المساعدي الشهري هويه وطنيه رقم  بان يسلم للمدعيه ريم بنت فيصل بن سعود ال سعود هويه وطنيه رقم  السندين الاتيين   المؤرخ في   المعنون بعقد اتفاق   سند القبض رقم   وتاريخ   لما هو مبين بالاسباب وبﷲ التوفيق  عضو  عبدﷲ بن محمد البدر عضو  ناصر بن عبدﷲ بن مبرد رئيس الدائره  ابراهيم بن محمد الفالح'"
      ]
     },
     "execution_count": 55,
     "metadata": {},
     "output_type": "execute_result"
    }
   ],
   "source": [
    "data['Verdict'][88]"
   ]
  },
  {
   "cell_type": "code",
   "execution_count": 56,
   "id": "282b9457",
   "metadata": {},
   "outputs": [],
   "source": [
    " def get_incident(incident):\n",
    "        \n",
    "    if \"حكمت\"  in incident:\n",
    "         return str.split(incident, \"حكمت\",1)[0]\n",
    "    #if \"حـكمـت\"  in incident:\n",
    "        # return str.split(incident, \"حـكمـت\",1)[0]\n",
    "    if \"قررت\"  in incident:\n",
    "         return str.split(incident, \"قررت\",1)[0]\n",
    "    if \"منطوق\"  in incident:\n",
    "         return str.split(incident, \"منطوق\",1)[0]\n",
    "    if \"منطوف\"  in incident:\n",
    "         return str.split(incident, \"منطوف\",1)[0]\n",
    "    return None\n",
    "data['incident'] =data['judgment_text'].map(get_incident)"
   ]
  },
  {
   "cell_type": "code",
   "execution_count": 57,
   "id": "f2a6c79b",
   "metadata": {},
   "outputs": [
    {
     "data": {
      "text/plain": [
       "'الحمد لله والصلاه والسلام علي رسول ﷲ اما بعد فلدي الدائره التجاريه الاولي وبناءً علي القضيه رقم    لعام   ه  المقامه من صاحبه السمو الملكي الاميره ريم بنت فيصل بن سعود بن عبدالعزيز ال سعود هويه وطنيه   ضد سعيد احمد سعيد المساعدي الشهري هويه وطنيه      القاضي ابراهيم بن محمد الفالح رئيسا القاضي عبدﷲ بن محمد البدر عضوا القاضي ناصر بن عبدﷲ بن مبرد عضوا   الوقائع  تتحصل وقائع هذه القضيه بالقدر اللازم لاصدار هذا الحكم بان وكيل المدعيه تقدم بلائحه دعوي الي المحكمه التجاريه بالرياض جاء فيها ما نصه  ان المدعي عليه تقدم للمحكمه التجاريه بدعوي ضد موكلتي صاحبه مؤسسه اميره الخليج الدعائيه لاقامه وتنظيم المعارض سجل تجاري رقم   وتتخلص وقائع الدعوي بمطالبته بمبلغ مائه وخمسون الف ريال واستند في دعواه علي العقد المؤرخ في   لمسابقه شاعر الوطن وسند القبض رقم   في تاريخ   واحيلت القضيه رقم   لعام   للدائره الثالثه عشر في تاريخ   وصدر فيها حكمًا في تاريخ   بمنطوقه فسخ الشراكه و الزام موكلتي بان تدفع للمدعي مبلغ مائه وخمسون الف ريال وتم تنفيذ الحكم من طرف موكلتي وطبقًا للماده الثانيه والعشرون بعد المائه من النظام التجاري فان موكلتي تطلب استرداد اصل العقد وسند القبض حيث انتهي الغرض من هذه المستندات بالنسبه للمدعو سعيد الشهري وذلك بصدور الحكم وتنفيذ مضمونه من قبل موكلتي ولتستطيع موكلتي من رفع دعوي ضد المدعو محمد ناصر عضرس الذي وقع العقد طرف مؤسسه موكلتي المتسبب في خسارتها وطبقًا للماده الثانيه والعشرون بعد المائه من النظام التجاري فانني اطلب من فضيلتكم الحكم بالزام المدعي عليه تسليم اصل هذه الوثائق واساس دعواه و التي بموجبها صدر الحكم ضد موكلتي وختم الدعوي بالطلب الاتي الزام المدعي عليه تسليم اصل العقد و سند القبض وقد تم قيد الدعوي قضيه بالرقم المشار اليه اعلاه واحيلت لهذه الدائره فاجرت ما هو لازم  لنظرها حيث احالت الاطراف الي الترافع الالكتروني بتاريخ   وطلبت الدائره من المدعي عليه الاجابه عن هذه الدعوي وبتاريخ   تقدم المدعي عليه باجابته الالكترونيه عبره الترافع الالكتروني جاء فيها ما نصه اشاره الي الاوراق المطلوبه محل الدعوي افيدكم انها قد فقدت مني خاصه وان التقاضي مع المدعيه قد طال لسنوات في المحاكم العامه والجزائيه والبحث الجنائي واخيراً المحكمه التجاريه ثم حددت الدائره جلسه اليوم للترافع فيها وفيه عقدت عبر الاتصال المرئي عن بعد بواسطه برنامج   جلسه وحضر فيها وكيل المدعيه شريف بن عبدﷲ الرويشد بموجب الوكاله رقم   وتاريخ   ووكيل المدعي عليه محمد بن مرشد المرشد بموجب الوكاله رقم   وتاريخ   وبعرض الصلح علي الاطراف تعذر الصلح وبسؤال وكيل المدعيه عن دعوي موكلته احال علي ما ورد في لائحه الدعوي وبسؤال وكيل المدعي عليه عن اجابه موكله عن هذه الدعوي ارفق في المكان المخصص للمحادثه في البرنامج المنعقد فيه هذه الجلسه وقد جاء اجابه موكله بما نصه نرفض تسليم العقد والسند اولاً لان المدعيه لديها نسخه من السند والعقد ثانيًا وكيلهم السابق محمد عضرس الذي وقع الاتفاقيه ويرغبون تقديم دعوي ضده مازال يهدد برفع شكوي ضد موكلنا ثالثًا هناك قضايا متعلقه بهذه الدعوي لم تنتهي بعد ومنها اتعاب المحاماه وقضيه رد اعتبار وقضيه تعويض عن اضرار وسنتحتاج للاصول في هذه القضايا علي الاقل قضيه التعويض فسالت الدائره وكيل المدعي عليه هل المستندات الاصليه محل المطالبه لاتزال بحوزه موكله حتي هذه الجلسه وانها لديه وليست مفقوده اجاب قائلاً بان المستندات الاصل لاتزال موجوده لدي موكلي وهي بحوزته وقد كانت مفقوده ثم وجدها وبسؤال الاطراف هل توجد دعوي مقامه في المحاكم ولاتزال منظوره وتخص السندات محل المطالبه  فافاد الاطراف بعدم وجود دعوي في حين اضاف وكيل المدعي عليه بان هناك دعوي اقيمت ضد المدعيه تتعلق باتعاب الترافع رقم   لعام   وقد فصل فيها بحكم ابتدائي تضمن الزام المدعيه باتعاب الترافع ثم قرر وكيل المدعيه الاكتفاء وبناء علي ما تقدم قررت الدائره اقفال باب المرافعه للمداوله والنطق بالحكم   الاسباب  تاسيسًا علي ما ورد في الواقعات سالفه الذكر وبما ان المدعيه تطالب في هذه الدعوي باسترداد اصلي السندين   العقد المعنون بعقد اتفاق المؤرخ في   والمكون من ثلاث صفحات   سند القبض رقم   وتاريخ   والوارد فيه واقعه استلام   ريال من قبل المدعي عليه وبما ان هذين السندين فصل في الحق الموضوعي بحكم قضائي مكتسب القطعيه وذلك بموجب الحكم الصادر من الدائره الثالثه عشر الابتدائيه بهذه المحكمه في القضيه رقم   لعام   والمؤيد من دائره الاستئناف الثانيه بهذه المحكمه حسب حكمها في القضيه رقم   لعام   وبما ان الماده رقم   من نظام المحاكم التجاريه الصادر بالمرسوم الملكي رقم   وتاريخ    منحت لذي المصلحه التقدم بطلب استرداد مستند حيث نصت علي  لكل ذي مصلحه ان يتقدم للمحكمه بطلب استرداد مستند يدعي انه له او طلب اثبات انقضاء الغرض منه وتامر المحكمه باسترداده وفق احكام الباب السابع من النظام وبما ان الماده رقم   من لائحه النظام الصادره بموجب قرار وزير العدل رقم   وتاريخ   والمنشور في جريده ام القري برقم العدد   وتاريخ   اشترطت لقبول طلب الاسترداد شرطين حيث نصت علي  يشترط لقبول طلب استرداد مستند او اثبات انقضاء الغرض منه  وفق الماده السابعه والاربعين من النظام  الاتي ا  ان يكون المستند المطلوب استرداده او اثبات انقضاء الغرض منه له علاقه بتعامل تجاري تختص بنظره المحكمه ب  الا ينازع الطرف الاخر في الحق الموضوعي المرتبط بالمستند ما لم يكن الحق ثابتاً بحكم نهائي وبما ان هذه المطالبه متعلقه بدعوي تختص المحكمه التجاريه بنظرها  الدعاوي المتعلقه بعقود المضاربه  وبما ان تلك الدعوي فصل فيها بحكم قطعي وبما ان هذه المطالبه استوفت للشروط المتعلقه بقبولها وبما ان وكيل المدعي عليه في جلسه اليوم قرر بان اصل المستندين بحوزه موكله وله وكاله تخوله حق الاقرار فان الدائره تنتهي الي الزام المدعي عليه بان يسلم للمدعيه اصل تلك المستندين محل الدعوي وتحكم بموجب ما تقدم حسب ما جاء في منطوق حكمها ادناه   منطوق الحكم لذا '"
      ]
     },
     "execution_count": 57,
     "metadata": {},
     "output_type": "execute_result"
    }
   ],
   "source": [
    "data['incident'][88]"
   ]
  },
  {
   "cell_type": "code",
   "execution_count": 58,
   "id": "be5d6f84",
   "metadata": {},
   "outputs": [
    {
     "data": {
      "text/html": [
       "<div>\n",
       "<style scoped>\n",
       "    .dataframe tbody tr th:only-of-type {\n",
       "        vertical-align: middle;\n",
       "    }\n",
       "\n",
       "    .dataframe tbody tr th {\n",
       "        vertical-align: top;\n",
       "    }\n",
       "\n",
       "    .dataframe thead th {\n",
       "        text-align: right;\n",
       "    }\n",
       "</style>\n",
       "<table border=\"1\" class=\"dataframe\">\n",
       "  <thead>\n",
       "    <tr style=\"text-align: right;\">\n",
       "      <th></th>\n",
       "      <th>web-scraper-order</th>\n",
       "      <th>web-scraper-start-url</th>\n",
       "      <th>links</th>\n",
       "      <th>links-href</th>\n",
       "      <th>court</th>\n",
       "      <th>case_number</th>\n",
       "      <th>case_date</th>\n",
       "      <th>appellate_court</th>\n",
       "      <th>appellate_id</th>\n",
       "      <th>appellate_date</th>\n",
       "      <th>region</th>\n",
       "      <th>city</th>\n",
       "      <th>judgment_text</th>\n",
       "      <th>appeal</th>\n",
       "      <th>Verdict</th>\n",
       "      <th>incident</th>\n",
       "    </tr>\n",
       "  </thead>\n",
       "  <tbody>\n",
       "  </tbody>\n",
       "</table>\n",
       "</div>"
      ],
      "text/plain": [
       "Empty DataFrame\n",
       "Columns: [web-scraper-order, web-scraper-start-url, links, links-href, court, case_number, case_date, appellate_court, appellate_id, appellate_date, region, city, judgment_text, appeal, Verdict, incident]\n",
       "Index: []"
      ]
     },
     "execution_count": 58,
     "metadata": {},
     "output_type": "execute_result"
    }
   ],
   "source": [
    "data[data['incident'].isnull()]"
   ]
  },
  {
   "cell_type": "markdown",
   "id": "3e1cb479",
   "metadata": {},
   "source": [
    "## Stemming"
   ]
  },
  {
   "cell_type": "code",
   "execution_count": 59,
   "id": "9120ec32",
   "metadata": {},
   "outputs": [],
   "source": [
    "st = ISRIStemmer()\n",
    "def streem(f):\n",
    "    return st.stem(f)\n",
    "#data['Verdict'] = data['Verdict'].map(streem)\n",
    "data['incident'] = data['incident'].map(streem)"
   ]
  },
  {
   "cell_type": "code",
   "execution_count": 60,
   "id": "2575571b",
   "metadata": {},
   "outputs": [
    {
     "data": {
      "text/plain": [
       "' الدائره  بعدم اختصاص المحاكم التجاريه نوعياً بنظر هذه الدعوي وهي من اختصاص المحكمه العامه  عضو يوسف بن محمد بن قاسم جعفري عضو بندر بن حمد بن علي التويجري رئيس الدائره عبدالعزيز بن سليمان الغيث'"
      ]
     },
     "execution_count": 60,
     "metadata": {},
     "output_type": "execute_result"
    }
   ],
   "source": [
    "data['Verdict'][10]"
   ]
  },
  {
   "cell_type": "markdown",
   "id": "a18cf0b2",
   "metadata": {},
   "source": [
    "# Stop words "
   ]
  },
  {
   "cell_type": "code",
   "execution_count": 61,
   "id": "d3a2fdb1",
   "metadata": {},
   "outputs": [],
   "source": [
    "stopwords = nltk.corpus.stopwords.words('arabic')"
   ]
  },
  {
   "cell_type": "code",
   "execution_count": 62,
   "id": "7c5059f4",
   "metadata": {},
   "outputs": [
    {
     "data": {
      "text/plain": [
       "True"
      ]
     },
     "execution_count": 62,
     "metadata": {},
     "output_type": "execute_result"
    }
   ],
   "source": [
    "'و' in stopwords"
   ]
  },
  {
   "cell_type": "code",
   "execution_count": 63,
   "id": "a6b5f054",
   "metadata": {},
   "outputs": [],
   "source": [
    "word_st = 'الحمد','لله','تعالي','التوفيق','وصلي','الله','وسلم','علي','نبينا','محمد','اله','وصحبه','اجمعين','عضو','رئيس','الدائره','المحكمه','المحاكم','الحمد','والصلاه','والسلام','القضيه','رقم','لعام','سجل','القاضي','الموافق','المدعي','وكيل','الوكاله','المحاماه','المحاكم','بن','محكمة'"
   ]
  },
  {
   "cell_type": "code",
   "execution_count": 64,
   "id": "69b08e4f",
   "metadata": {},
   "outputs": [],
   "source": [
    "for i in range(len(word_st)):\n",
    "    stopwords.append(word_st[i])"
   ]
  },
  {
   "cell_type": "code",
   "execution_count": 65,
   "id": "2f9bb5ca",
   "metadata": {},
   "outputs": [],
   "source": [
    "word_st2 = 'رسول','ﷲ','و','العقد','الحكم','الدعوي','للمحاكم','منطوقه','منطوق'"
   ]
  },
  {
   "cell_type": "code",
   "execution_count": 66,
   "id": "5445e2dc",
   "metadata": {},
   "outputs": [],
   "source": [
    "for i in range(len(word_st2)):\n",
    "    stopwords.append(word_st2[i])"
   ]
  },
  {
   "cell_type": "code",
   "execution_count": 67,
   "id": "f0a8286f",
   "metadata": {},
   "outputs": [],
   "source": [
    "#data['Verdict'] = data['Verdict'].apply(lambda t: \" \".join(word for word in t.split() if word not in stopwords))"
   ]
  },
  {
   "cell_type": "code",
   "execution_count": 68,
   "id": "3746c897",
   "metadata": {},
   "outputs": [
    {
     "data": {
      "text/plain": [
       "' الدائره  قبول الاعتراض شكلاً وفي الموضوع نقض الحكم الصادر من دائره الاستئناف الرابعه بالمحكمه التجاريه بالرياض في القضيه رقم   وتاريخ         واعاده الاوراق للمحكمه مصدرته للنظر في الدعوي من غير من نظرها علي ضوء ما ورد بهذا الحكم وبالله تعالي التوفيق  وصلي الله وسلم علي نبينا محمد وعلي اله وصحبه اجمعين   عضو محمد بن صالح اليحيي عضو فرحان بن يحيي الفيفي  رئيس الدائره عبدالوهاب بن محمد المنصوري'"
      ]
     },
     "execution_count": 68,
     "metadata": {},
     "output_type": "execute_result"
    }
   ],
   "source": [
    "data['Verdict'][100]"
   ]
  },
  {
   "cell_type": "code",
   "execution_count": 69,
   "id": "86cc38a2",
   "metadata": {},
   "outputs": [],
   "source": [
    "data['incident'] = data['incident'].apply(lambda t: \" \".join(word for word in t.split() if word not in stopwords))"
   ]
  },
  {
   "cell_type": "code",
   "execution_count": 70,
   "id": "92956555",
   "metadata": {
    "scrolled": false
   },
   "outputs": [
    {
     "data": {
      "text/plain": [
       "'حمد اما فلدي التجاريه الاولي وبناء المقامه سعيد عبدﷲ العمري هويه وطنيه ضد بندر القاسم هويه وطنيه ابراهيم الفالح رئيسا عبدﷲ سعد سعود العريفي عضوا عبدﷲ البدر عضوا الوقائع تتلخص وقائع ان وكاله عبدﷲ عبدﷲ الحارثي صاحب السجل المدني بموجب وتاريخ الصادره الخدمات الالكترونيه تقدم الي بصحيفه دعوي جاء مضمونها تم الاتفاق عقد شركه مضاربه بتاريخ اسلم مبلغ مائه الف ومده سنوات ونشاط الاستثمار مؤسسه للحام الحديد والالمنيوم باسم زوجته بنسبه ارباح المؤسسه التاريخ بدا بالعمل المتفق وكل نهايه سنه اطلب بيان الارباح وتاريخ نشوء الحق بتاريخ يوهمني دائما بعدم وجود الربح وعندما تاكد بعدم صحه يدعيه فقد اخبرني مدير المؤسسه ان ارباحها خلال الثلاثه سنوات الماضيه ثلاثمائه الف وحتي تاريخه الشراكه قائمه ولم تتم التصفيه ولذلك كله نطلب اثبات الشراكه وطالب دعواه اثبات شراكه تاريخ بنسبه وتوزيع الارباح وتقدر ارباح حصتي بمبلغ وقدره خمسمائه الف توزيع الارباح ونسبه حصته تقدر بمبلغ خمسمائه الف وبقيد قضيه واحالتها للدائره حددت لنظرها جلسه اليوم حضر عبدﷲ عبدﷲ الحارثي حضر اصاله بندر القاسم هويه وبسؤال المدعيه وكاله دعواه قال وردت لائحه سلم موكلي مبلغ وقدره للمدعي للمشاركه مؤسسه بيت اللحام المملوكه لزوجته وقد اعاد المبلغ عام ولم يسلم شيئا الارباح لذا اطلب اثبات الشراكه تحويل المبلغ وتسليم الارباح وبعرض قال ذكره صحيح والصحيح انني استلمت المبلغ كقرض حسن واعدته رفع وليس ذمتي شيئا وبسؤال وكاله لديه بينه دعواه الحواله قال وبسؤال وكاله يطلب نفي الشراكه قال وعليه رات صلاحيه للفصل الاسباب فبناء تقدم والاجابه ولما كانت دعوي تنحصر المطالبه باثبات الشراكه وتصفيتها ابتداء تاريخ الحواله ولان اقر باستلام المبلغ المذكور وانكر انه للشراكه ودفع بانه قرض حسن وتمت اعادته للمدعي بموجب الحواله المرفقه ولان لديه بينه الشراكه ورفض نفي الشراكه ووكالته تخوله حق طلب اليمين وردها ولانه وان الاصل ان القول صفه خروج المال قول باذل المال بيمينه الا ان الظاهر لعدد القرائن وهي ان يقم برفع الا رد كامل المبلغ يدعي انه للشراكه هربا دعوي المضارب الخساره بينما جرت العاده ان المضارب يعيد راس المال الا ارباحه او ناقصا بقدر الخساره انه يرفق يؤيد دعواه كعقد او شيك او حواله يبين سبب بذل المال والعاده جرت تدوين باي طريق الشركاء ولقوله صلي البينه واليمين انكر لذا فان تنتهي الي رفض دعوي'"
      ]
     },
     "execution_count": 70,
     "metadata": {},
     "output_type": "execute_result"
    }
   ],
   "source": [
    "data['incident'][70]"
   ]
  },
  {
   "cell_type": "code",
   "execution_count": 71,
   "id": "a211fe2e",
   "metadata": {},
   "outputs": [
    {
     "data": {
      "text/plain": [
       "' الدائره  بعدم اختصاص المحاكم التجاريه نوعياً بنظر هذه الدعوي وهي من اختصاص المحكمه العامه  عضو يوسف بن محمد بن قاسم جعفري عضو بندر بن حمد بن علي التويجري رئيس الدائره عبدالعزيز بن سليمان الغيث'"
      ]
     },
     "execution_count": 71,
     "metadata": {},
     "output_type": "execute_result"
    }
   ],
   "source": [
    "data['Verdict'][10]"
   ]
  },
  {
   "cell_type": "code",
   "execution_count": 72,
   "id": "4f739d61",
   "metadata": {},
   "outputs": [],
   "source": [
    "result = data['Verdict'].str.split('اختصاص المحكمه',expand=True)[1]"
   ]
  },
  {
   "cell_type": "code",
   "execution_count": 73,
   "id": "c76bcb47",
   "metadata": {},
   "outputs": [
    {
     "data": {
      "text/plain": [
       " التجاريه نوعيًا بنظر الدعوي رقم   لعام   والمقامه من المدعي قاسم بن حسين بن علي المكحل ذي الهويه الوطنيه رقم ضد المدعي عليها فاطمه بنت حسين الشيخ ذي الهويه الوطنيه رقم  وﷲ الموفق والهادي الي سواء السبيل وصلي ﷲ وسلم علي نبينا محمد وعلي اله وصحبه اجمعين  عضو فيصل بن احمد الزهراني  عضو عبدالعزيز بن عبدالرحمن بن صالح الراجح  رئيس الدائره عبدﷲ بن عبدالرحمن اليابس    10\n",
       " التجاريه بالرياض مكانياً بنظر هذه الدعوي وصلي ﷲ علي نبينا محمد وعلي اله وصحبه وسلم   عضو  عبدالعزيز بن سليمان الغيث عضو  يوسف بن محمد بن قاسم جعفري رئيس الدائره  جمال بن فاضل العمري                                                                                                                                                                                        2\n",
       " العامه  عضو يوسف بن محمد بن قاسم جعفري عضو بندر بن حمد بن علي التويجري رئيس الدائره عبدالعزيز بن سليمان الغيث                                                                                                                                                                                                                                                                2\n",
       " التجاريه نوعيًا بنظر هذه الدعوي رقم   لعام   وهي من                                                                                                                                                                                                                                                                                                                          2\n",
       " التجاريه بالرياض مكانياً بنظر هذه الدعوي   عضو  عبدالرحمن بن عبدﷲ بن سلامه عضو  فراس بن عبدﷲ بن عبدالرحمن العجلان رئيس الدائره  خالد بن عبدﷲ الشمراني                                                                                                                                                                                                                        1\n",
       "Name: 1, dtype: int64"
      ]
     },
     "execution_count": 73,
     "metadata": {},
     "output_type": "execute_result"
    }
   ],
   "source": [
    "result.value_counts()"
   ]
  },
  {
   "cell_type": "code",
   "execution_count": 74,
   "id": "b06c4b15",
   "metadata": {},
   "outputs": [
    {
     "data": {
      "text/plain": [
       "0       الدائره برفض الدعوي المقامه من شركه بيت الجزي...\n",
       "1       الدائره بعدم قبول هذه الدعوي وﷲ الموفق وصلي ﷲ...\n",
       "2       الدائره غيابيا بالزام خالد جمعه رضا حبش سجل م...\n",
       "3       الدائره  برفض هذه الدعوي   عضو عبدالعزيز بن س...\n",
       "4       الدائره بعدم جواز نظر هذه الدعوي لما هو مبين ...\n",
       "                             ...                        \n",
       "209     الدائره بالزام شركه ديبا العربيه السعوديه للم...\n",
       "210     الدائره  قبول الاعتراض شكلاً وفي الموضوع نقض ...\n",
       "211     الدائره رفع الجلسه للمداوله  الاسباب لما كانت...\n",
       "212    ه الانظمه ذات الصله كما ان تقرير الاستحقاق ينب...\n",
       "213     الدائره  قبول الاعتراض شكلاً وفي الموضوع نقض ...\n",
       "Name: Verdict, Length: 192, dtype: object"
      ]
     },
     "execution_count": 74,
     "metadata": {},
     "output_type": "execute_result"
    }
   ],
   "source": [
    "data['Verdict']"
   ]
  },
  {
   "cell_type": "code",
   "execution_count": 75,
   "id": "5cc67429",
   "metadata": {},
   "outputs": [
    {
     "data": {
      "text/plain": [
       "'التجارية'"
      ]
     },
     "execution_count": 75,
     "metadata": {},
     "output_type": "execute_result"
    }
   ],
   "source": [
    "data.court[3]"
   ]
  },
  {
   "cell_type": "code",
   "execution_count": 79,
   "id": "dcdaee48",
   "metadata": {},
   "outputs": [
    {
     "ename": "TypeError",
     "evalue": "argument of type 'builtin_function_or_method' is not iterable",
     "output_type": "error",
     "traceback": [
      "\u001b[0;31m---------------------------------------------------------------------------\u001b[0m",
      "\u001b[0;31mTypeError\u001b[0m                                 Traceback (most recent call last)",
      "\u001b[0;32m<ipython-input-79-ef31176e1ca9>\u001b[0m in \u001b[0;36m<module>\u001b[0;34m\u001b[0m\n\u001b[1;32m     12\u001b[0m \u001b[0;34m\u001b[0m\u001b[0m\n\u001b[1;32m     13\u001b[0m \u001b[0;34m\u001b[0m\u001b[0m\n\u001b[0;32m---> 14\u001b[0;31m \u001b[0mdata\u001b[0m\u001b[0;34m[\u001b[0m\u001b[0;34m'right_court'\u001b[0m\u001b[0;34m]\u001b[0m \u001b[0;34m=\u001b[0m\u001b[0mdata\u001b[0m\u001b[0;34m[\u001b[0m\u001b[0;34m'Verdict'\u001b[0m\u001b[0;34m]\u001b[0m\u001b[0;34m.\u001b[0m\u001b[0mapply\u001b[0m\u001b[0;34m(\u001b[0m\u001b[0;32mlambda\u001b[0m \u001b[0mp\u001b[0m\u001b[0;34m:\u001b[0m \u001b[0mget_right_court\u001b[0m\u001b[0;34m(\u001b[0m\u001b[0mp\u001b[0m\u001b[0;34m,\u001b[0m \u001b[0mp\u001b[0m\u001b[0;34m.\u001b[0m\u001b[0mindex\u001b[0m\u001b[0;34m)\u001b[0m\u001b[0;34m)\u001b[0m\u001b[0;34m\u001b[0m\u001b[0;34m\u001b[0m\u001b[0m\n\u001b[0m",
      "\u001b[0;32m~/opt/anaconda3/lib/python3.8/site-packages/pandas/core/series.py\u001b[0m in \u001b[0;36mapply\u001b[0;34m(self, func, convert_dtype, args, **kwds)\u001b[0m\n\u001b[1;32m   4136\u001b[0m             \u001b[0;32melse\u001b[0m\u001b[0;34m:\u001b[0m\u001b[0;34m\u001b[0m\u001b[0;34m\u001b[0m\u001b[0m\n\u001b[1;32m   4137\u001b[0m                 \u001b[0mvalues\u001b[0m \u001b[0;34m=\u001b[0m \u001b[0mself\u001b[0m\u001b[0;34m.\u001b[0m\u001b[0mastype\u001b[0m\u001b[0;34m(\u001b[0m\u001b[0mobject\u001b[0m\u001b[0;34m)\u001b[0m\u001b[0;34m.\u001b[0m\u001b[0m_values\u001b[0m\u001b[0;34m\u001b[0m\u001b[0;34m\u001b[0m\u001b[0m\n\u001b[0;32m-> 4138\u001b[0;31m                 \u001b[0mmapped\u001b[0m \u001b[0;34m=\u001b[0m \u001b[0mlib\u001b[0m\u001b[0;34m.\u001b[0m\u001b[0mmap_infer\u001b[0m\u001b[0;34m(\u001b[0m\u001b[0mvalues\u001b[0m\u001b[0;34m,\u001b[0m \u001b[0mf\u001b[0m\u001b[0;34m,\u001b[0m \u001b[0mconvert\u001b[0m\u001b[0;34m=\u001b[0m\u001b[0mconvert_dtype\u001b[0m\u001b[0;34m)\u001b[0m\u001b[0;34m\u001b[0m\u001b[0;34m\u001b[0m\u001b[0m\n\u001b[0m\u001b[1;32m   4139\u001b[0m \u001b[0;34m\u001b[0m\u001b[0m\n\u001b[1;32m   4140\u001b[0m         \u001b[0;32mif\u001b[0m \u001b[0mlen\u001b[0m\u001b[0;34m(\u001b[0m\u001b[0mmapped\u001b[0m\u001b[0;34m)\u001b[0m \u001b[0;32mand\u001b[0m \u001b[0misinstance\u001b[0m\u001b[0;34m(\u001b[0m\u001b[0mmapped\u001b[0m\u001b[0;34m[\u001b[0m\u001b[0;36m0\u001b[0m\u001b[0;34m]\u001b[0m\u001b[0;34m,\u001b[0m \u001b[0mSeries\u001b[0m\u001b[0;34m)\u001b[0m\u001b[0;34m:\u001b[0m\u001b[0;34m\u001b[0m\u001b[0;34m\u001b[0m\u001b[0m\n",
      "\u001b[0;32mpandas/_libs/lib.pyx\u001b[0m in \u001b[0;36mpandas._libs.lib.map_infer\u001b[0;34m()\u001b[0m\n",
      "\u001b[0;32m<ipython-input-79-ef31176e1ca9>\u001b[0m in \u001b[0;36m<lambda>\u001b[0;34m(p)\u001b[0m\n\u001b[1;32m     12\u001b[0m \u001b[0;34m\u001b[0m\u001b[0m\n\u001b[1;32m     13\u001b[0m \u001b[0;34m\u001b[0m\u001b[0m\n\u001b[0;32m---> 14\u001b[0;31m \u001b[0mdata\u001b[0m\u001b[0;34m[\u001b[0m\u001b[0;34m'right_court'\u001b[0m\u001b[0;34m]\u001b[0m \u001b[0;34m=\u001b[0m\u001b[0mdata\u001b[0m\u001b[0;34m[\u001b[0m\u001b[0;34m'Verdict'\u001b[0m\u001b[0;34m]\u001b[0m\u001b[0;34m.\u001b[0m\u001b[0mapply\u001b[0m\u001b[0;34m(\u001b[0m\u001b[0;32mlambda\u001b[0m \u001b[0mp\u001b[0m\u001b[0;34m:\u001b[0m \u001b[0mget_right_court\u001b[0m\u001b[0;34m(\u001b[0m\u001b[0mp\u001b[0m\u001b[0;34m,\u001b[0m \u001b[0mp\u001b[0m\u001b[0;34m.\u001b[0m\u001b[0mindex\u001b[0m\u001b[0;34m)\u001b[0m\u001b[0;34m)\u001b[0m\u001b[0;34m\u001b[0m\u001b[0;34m\u001b[0m\u001b[0m\n\u001b[0m",
      "\u001b[0;32m<ipython-input-79-ef31176e1ca9>\u001b[0m in \u001b[0;36mget_right_court\u001b[0;34m(index, i)\u001b[0m\n\u001b[1;32m      2\u001b[0m \u001b[0;34m\u001b[0m\u001b[0m\n\u001b[1;32m      3\u001b[0m     \u001b[0;31m#for i in data['Verdict']:\u001b[0m\u001b[0;34m\u001b[0m\u001b[0;34m\u001b[0m\u001b[0;34m\u001b[0m\u001b[0m\n\u001b[0;32m----> 4\u001b[0;31m     \u001b[0;32mif\u001b[0m \u001b[0;34m\"بعدم اختصاص\"\u001b[0m  \u001b[0;32min\u001b[0m \u001b[0mi\u001b[0m\u001b[0;34m:\u001b[0m\u001b[0;34m\u001b[0m\u001b[0;34m\u001b[0m\u001b[0m\n\u001b[0m\u001b[1;32m      5\u001b[0m             \u001b[0;31m#data['right_court'] = data['Verdict'].str.split(\"من اختصاص المحكمه\",1)[0]\u001b[0m\u001b[0;34m\u001b[0m\u001b[0;34m\u001b[0m\u001b[0;34m\u001b[0m\u001b[0m\n\u001b[1;32m      6\u001b[0m         \u001b[0;32mif\u001b[0m \u001b[0;34m\"من اختصاص المحكمه\"\u001b[0m \u001b[0;32min\u001b[0m \u001b[0mi\u001b[0m\u001b[0;34m:\u001b[0m\u001b[0;34m\u001b[0m\u001b[0;34m\u001b[0m\u001b[0m\n",
      "\u001b[0;31mTypeError\u001b[0m: argument of type 'builtin_function_or_method' is not iterable"
     ]
    }
   ],
   "source": [
    "\n",
    "def get_right_court(index, i):\n",
    "    \n",
    "    #for i in data['Verdict']:\n",
    "    if \"بعدم اختصاص\"  in i:\n",
    "            #data['right_court'] = data['Verdict'].str.split(\"من اختصاص المحكمه\",1)[0]  \n",
    "        if \"من اختصاص المحكمه\" in i:\n",
    "            return str.split(i, \"من اختصاص المحكمه\",0)[0]\n",
    "        else:\n",
    "            return 2#None\n",
    "    else:#if \"اختصاص\" not in i:\n",
    "        return  data.loc[data.court[index]]\n",
    "\n",
    "\n",
    "data['right_court'] =data['Verdict'].apply(lambda p: get_right_court(p, p.index))"
   ]
  },
  {
   "cell_type": "code",
   "execution_count": 80,
   "id": "18b494e7",
   "metadata": {
    "scrolled": true
   },
   "outputs": [
    {
     "ename": "TypeError",
     "evalue": "<lambda>() missing 1 required positional argument: 'index'",
     "output_type": "error",
     "traceback": [
      "\u001b[0;31m---------------------------------------------------------------------------\u001b[0m",
      "\u001b[0;31mTypeError\u001b[0m                                 Traceback (most recent call last)",
      "\u001b[0;32m<ipython-input-80-25f6bfdc2839>\u001b[0m in \u001b[0;36m<module>\u001b[0;34m\u001b[0m\n\u001b[1;32m     12\u001b[0m \u001b[0;34m\u001b[0m\u001b[0m\n\u001b[1;32m     13\u001b[0m \u001b[0;34m\u001b[0m\u001b[0m\n\u001b[0;32m---> 14\u001b[0;31m \u001b[0mdata\u001b[0m\u001b[0;34m[\u001b[0m\u001b[0;34m'right_court'\u001b[0m\u001b[0;34m]\u001b[0m \u001b[0;34m=\u001b[0m\u001b[0mdata\u001b[0m\u001b[0;34m[\u001b[0m\u001b[0;34m'Verdict'\u001b[0m\u001b[0;34m]\u001b[0m\u001b[0;34m.\u001b[0m\u001b[0mapply\u001b[0m\u001b[0;34m(\u001b[0m\u001b[0;32mlambda\u001b[0m \u001b[0mp\u001b[0m\u001b[0;34m,\u001b[0m\u001b[0mindex\u001b[0m\u001b[0;34m:\u001b[0m \u001b[0mget_right_court\u001b[0m\u001b[0;34m(\u001b[0m\u001b[0mp\u001b[0m\u001b[0;34m,\u001b[0m \u001b[0mp\u001b[0m\u001b[0;34m.\u001b[0m\u001b[0mindex\u001b[0m\u001b[0;34m)\u001b[0m\u001b[0;34m)\u001b[0m\u001b[0;34m\u001b[0m\u001b[0;34m\u001b[0m\u001b[0m\n\u001b[0m",
      "\u001b[0;32m~/opt/anaconda3/lib/python3.8/site-packages/pandas/core/series.py\u001b[0m in \u001b[0;36mapply\u001b[0;34m(self, func, convert_dtype, args, **kwds)\u001b[0m\n\u001b[1;32m   4136\u001b[0m             \u001b[0;32melse\u001b[0m\u001b[0;34m:\u001b[0m\u001b[0;34m\u001b[0m\u001b[0;34m\u001b[0m\u001b[0m\n\u001b[1;32m   4137\u001b[0m                 \u001b[0mvalues\u001b[0m \u001b[0;34m=\u001b[0m \u001b[0mself\u001b[0m\u001b[0;34m.\u001b[0m\u001b[0mastype\u001b[0m\u001b[0;34m(\u001b[0m\u001b[0mobject\u001b[0m\u001b[0;34m)\u001b[0m\u001b[0;34m.\u001b[0m\u001b[0m_values\u001b[0m\u001b[0;34m\u001b[0m\u001b[0;34m\u001b[0m\u001b[0m\n\u001b[0;32m-> 4138\u001b[0;31m                 \u001b[0mmapped\u001b[0m \u001b[0;34m=\u001b[0m \u001b[0mlib\u001b[0m\u001b[0;34m.\u001b[0m\u001b[0mmap_infer\u001b[0m\u001b[0;34m(\u001b[0m\u001b[0mvalues\u001b[0m\u001b[0;34m,\u001b[0m \u001b[0mf\u001b[0m\u001b[0;34m,\u001b[0m \u001b[0mconvert\u001b[0m\u001b[0;34m=\u001b[0m\u001b[0mconvert_dtype\u001b[0m\u001b[0;34m)\u001b[0m\u001b[0;34m\u001b[0m\u001b[0;34m\u001b[0m\u001b[0m\n\u001b[0m\u001b[1;32m   4139\u001b[0m \u001b[0;34m\u001b[0m\u001b[0m\n\u001b[1;32m   4140\u001b[0m         \u001b[0;32mif\u001b[0m \u001b[0mlen\u001b[0m\u001b[0;34m(\u001b[0m\u001b[0mmapped\u001b[0m\u001b[0;34m)\u001b[0m \u001b[0;32mand\u001b[0m \u001b[0misinstance\u001b[0m\u001b[0;34m(\u001b[0m\u001b[0mmapped\u001b[0m\u001b[0;34m[\u001b[0m\u001b[0;36m0\u001b[0m\u001b[0;34m]\u001b[0m\u001b[0;34m,\u001b[0m \u001b[0mSeries\u001b[0m\u001b[0;34m)\u001b[0m\u001b[0;34m:\u001b[0m\u001b[0;34m\u001b[0m\u001b[0;34m\u001b[0m\u001b[0m\n",
      "\u001b[0;32mpandas/_libs/lib.pyx\u001b[0m in \u001b[0;36mpandas._libs.lib.map_infer\u001b[0;34m()\u001b[0m\n",
      "\u001b[0;31mTypeError\u001b[0m: <lambda>() missing 1 required positional argument: 'index'"
     ]
    }
   ],
   "source": [
    "\n",
    "def get_right_court(index, i):\n",
    "    \n",
    "    #for i in data['Verdict']:\n",
    "    if \"بعدم اختصاص\"  in i:\n",
    "            #data['right_court'] = data['Verdict'].str.split(\"من اختصاص المحكمه\",1)[0]  \n",
    "        if \"من اختصاص المحكمه\" in i:\n",
    "            return str.split(i, \"من اختصاص المحكمه\",0)[0]\n",
    "        else:\n",
    "            return 2#None\n",
    "    else:#if \"اختصاص\" not in i:\n",
    "        return  data.loc[data.court[index]]\n",
    "\n",
    "\n",
    "data['right_court'] =data['Verdict'].apply(lambda p,index: get_right_court(p, p.index))\n"
   ]
  },
  {
   "cell_type": "code",
   "execution_count": 81,
   "id": "568e951b",
   "metadata": {},
   "outputs": [
    {
     "ename": "KeyError",
     "evalue": "'right_court'",
     "output_type": "error",
     "traceback": [
      "\u001b[0;31m---------------------------------------------------------------------------\u001b[0m",
      "\u001b[0;31mKeyError\u001b[0m                                  Traceback (most recent call last)",
      "\u001b[0;32m~/opt/anaconda3/lib/python3.8/site-packages/pandas/core/indexes/base.py\u001b[0m in \u001b[0;36mget_loc\u001b[0;34m(self, key, method, tolerance)\u001b[0m\n\u001b[1;32m   3079\u001b[0m             \u001b[0;32mtry\u001b[0m\u001b[0;34m:\u001b[0m\u001b[0;34m\u001b[0m\u001b[0;34m\u001b[0m\u001b[0m\n\u001b[0;32m-> 3080\u001b[0;31m                 \u001b[0;32mreturn\u001b[0m \u001b[0mself\u001b[0m\u001b[0;34m.\u001b[0m\u001b[0m_engine\u001b[0m\u001b[0;34m.\u001b[0m\u001b[0mget_loc\u001b[0m\u001b[0;34m(\u001b[0m\u001b[0mcasted_key\u001b[0m\u001b[0;34m)\u001b[0m\u001b[0;34m\u001b[0m\u001b[0;34m\u001b[0m\u001b[0m\n\u001b[0m\u001b[1;32m   3081\u001b[0m             \u001b[0;32mexcept\u001b[0m \u001b[0mKeyError\u001b[0m \u001b[0;32mas\u001b[0m \u001b[0merr\u001b[0m\u001b[0;34m:\u001b[0m\u001b[0;34m\u001b[0m\u001b[0;34m\u001b[0m\u001b[0m\n",
      "\u001b[0;32mpandas/_libs/index.pyx\u001b[0m in \u001b[0;36mpandas._libs.index.IndexEngine.get_loc\u001b[0;34m()\u001b[0m\n",
      "\u001b[0;32mpandas/_libs/index.pyx\u001b[0m in \u001b[0;36mpandas._libs.index.IndexEngine.get_loc\u001b[0;34m()\u001b[0m\n",
      "\u001b[0;32mpandas/_libs/hashtable_class_helper.pxi\u001b[0m in \u001b[0;36mpandas._libs.hashtable.PyObjectHashTable.get_item\u001b[0;34m()\u001b[0m\n",
      "\u001b[0;32mpandas/_libs/hashtable_class_helper.pxi\u001b[0m in \u001b[0;36mpandas._libs.hashtable.PyObjectHashTable.get_item\u001b[0;34m()\u001b[0m\n",
      "\u001b[0;31mKeyError\u001b[0m: 'right_court'",
      "\nThe above exception was the direct cause of the following exception:\n",
      "\u001b[0;31mKeyError\u001b[0m                                  Traceback (most recent call last)",
      "\u001b[0;32m<ipython-input-81-b0d3f14aafc9>\u001b[0m in \u001b[0;36m<module>\u001b[0;34m\u001b[0m\n\u001b[0;32m----> 1\u001b[0;31m \u001b[0mdata\u001b[0m\u001b[0;34m[\u001b[0m\u001b[0;34m'right_court'\u001b[0m\u001b[0;34m]\u001b[0m\u001b[0;34m.\u001b[0m\u001b[0mvalue_counts\u001b[0m\u001b[0;34m(\u001b[0m\u001b[0;34m)\u001b[0m\u001b[0;34m\u001b[0m\u001b[0;34m\u001b[0m\u001b[0m\n\u001b[0m",
      "\u001b[0;32m~/opt/anaconda3/lib/python3.8/site-packages/pandas/core/frame.py\u001b[0m in \u001b[0;36m__getitem__\u001b[0;34m(self, key)\u001b[0m\n\u001b[1;32m   3022\u001b[0m             \u001b[0;32mif\u001b[0m \u001b[0mself\u001b[0m\u001b[0;34m.\u001b[0m\u001b[0mcolumns\u001b[0m\u001b[0;34m.\u001b[0m\u001b[0mnlevels\u001b[0m \u001b[0;34m>\u001b[0m \u001b[0;36m1\u001b[0m\u001b[0;34m:\u001b[0m\u001b[0;34m\u001b[0m\u001b[0;34m\u001b[0m\u001b[0m\n\u001b[1;32m   3023\u001b[0m                 \u001b[0;32mreturn\u001b[0m \u001b[0mself\u001b[0m\u001b[0;34m.\u001b[0m\u001b[0m_getitem_multilevel\u001b[0m\u001b[0;34m(\u001b[0m\u001b[0mkey\u001b[0m\u001b[0;34m)\u001b[0m\u001b[0;34m\u001b[0m\u001b[0;34m\u001b[0m\u001b[0m\n\u001b[0;32m-> 3024\u001b[0;31m             \u001b[0mindexer\u001b[0m \u001b[0;34m=\u001b[0m \u001b[0mself\u001b[0m\u001b[0;34m.\u001b[0m\u001b[0mcolumns\u001b[0m\u001b[0;34m.\u001b[0m\u001b[0mget_loc\u001b[0m\u001b[0;34m(\u001b[0m\u001b[0mkey\u001b[0m\u001b[0;34m)\u001b[0m\u001b[0;34m\u001b[0m\u001b[0;34m\u001b[0m\u001b[0m\n\u001b[0m\u001b[1;32m   3025\u001b[0m             \u001b[0;32mif\u001b[0m \u001b[0mis_integer\u001b[0m\u001b[0;34m(\u001b[0m\u001b[0mindexer\u001b[0m\u001b[0;34m)\u001b[0m\u001b[0;34m:\u001b[0m\u001b[0;34m\u001b[0m\u001b[0;34m\u001b[0m\u001b[0m\n\u001b[1;32m   3026\u001b[0m                 \u001b[0mindexer\u001b[0m \u001b[0;34m=\u001b[0m \u001b[0;34m[\u001b[0m\u001b[0mindexer\u001b[0m\u001b[0;34m]\u001b[0m\u001b[0;34m\u001b[0m\u001b[0;34m\u001b[0m\u001b[0m\n",
      "\u001b[0;32m~/opt/anaconda3/lib/python3.8/site-packages/pandas/core/indexes/base.py\u001b[0m in \u001b[0;36mget_loc\u001b[0;34m(self, key, method, tolerance)\u001b[0m\n\u001b[1;32m   3080\u001b[0m                 \u001b[0;32mreturn\u001b[0m \u001b[0mself\u001b[0m\u001b[0;34m.\u001b[0m\u001b[0m_engine\u001b[0m\u001b[0;34m.\u001b[0m\u001b[0mget_loc\u001b[0m\u001b[0;34m(\u001b[0m\u001b[0mcasted_key\u001b[0m\u001b[0;34m)\u001b[0m\u001b[0;34m\u001b[0m\u001b[0;34m\u001b[0m\u001b[0m\n\u001b[1;32m   3081\u001b[0m             \u001b[0;32mexcept\u001b[0m \u001b[0mKeyError\u001b[0m \u001b[0;32mas\u001b[0m \u001b[0merr\u001b[0m\u001b[0;34m:\u001b[0m\u001b[0;34m\u001b[0m\u001b[0;34m\u001b[0m\u001b[0m\n\u001b[0;32m-> 3082\u001b[0;31m                 \u001b[0;32mraise\u001b[0m \u001b[0mKeyError\u001b[0m\u001b[0;34m(\u001b[0m\u001b[0mkey\u001b[0m\u001b[0;34m)\u001b[0m \u001b[0;32mfrom\u001b[0m \u001b[0merr\u001b[0m\u001b[0;34m\u001b[0m\u001b[0;34m\u001b[0m\u001b[0m\n\u001b[0m\u001b[1;32m   3083\u001b[0m \u001b[0;34m\u001b[0m\u001b[0m\n\u001b[1;32m   3084\u001b[0m         \u001b[0;32mif\u001b[0m \u001b[0mtolerance\u001b[0m \u001b[0;32mis\u001b[0m \u001b[0;32mnot\u001b[0m \u001b[0;32mNone\u001b[0m\u001b[0;34m:\u001b[0m\u001b[0;34m\u001b[0m\u001b[0;34m\u001b[0m\u001b[0m\n",
      "\u001b[0;31mKeyError\u001b[0m: 'right_court'"
     ]
    }
   ],
   "source": [
    "data['right_court'].value_counts()"
   ]
  },
  {
   "cell_type": "code",
   "execution_count": 82,
   "id": "998b872e",
   "metadata": {},
   "outputs": [
    {
     "data": {
      "text/plain": [
       "192"
      ]
     },
     "execution_count": 82,
     "metadata": {},
     "output_type": "execute_result"
    }
   ],
   "source": [
    "len(result)"
   ]
  },
  {
   "cell_type": "code",
   "execution_count": 83,
   "id": "7fe82790",
   "metadata": {},
   "outputs": [
    {
     "data": {
      "text/plain": [
       "0      التجارية\n",
       "1      التجارية\n",
       "2      التجارية\n",
       "3      التجارية\n",
       "4      التجارية\n",
       "         ...   \n",
       "209    التجارية\n",
       "210      العليا\n",
       "211      العامة\n",
       "212      العليا\n",
       "213      العليا\n",
       "Name: 1, Length: 192, dtype: object"
      ]
     },
     "execution_count": 83,
     "metadata": {},
     "output_type": "execute_result"
    }
   ],
   "source": [
    "result.fillna(data['court'])"
   ]
  },
  {
   "cell_type": "code",
   "execution_count": null,
   "id": "e3b2487b",
   "metadata": {},
   "outputs": [],
   "source": []
  },
  {
   "cell_type": "code",
   "execution_count": 84,
   "id": "60d24fcc",
   "metadata": {},
   "outputs": [
    {
     "data": {
      "text/plain": [
       "التجارية    113\n",
       "العليا       44\n",
       "العامة       35\n",
       "Name: court, dtype: int64"
      ]
     },
     "execution_count": 84,
     "metadata": {},
     "output_type": "execute_result"
    }
   ],
   "source": [
    "data['court'].value_counts()"
   ]
  },
  {
   "cell_type": "code",
   "execution_count": 85,
   "id": "e665c839",
   "metadata": {},
   "outputs": [
    {
     "name": "stdout",
     "output_type": "stream",
     "text": [
      "174    العليا\n",
      "Name: court, dtype: object\n"
     ]
    }
   ],
   "source": [
    "print(data['court'].iloc[[152]])"
   ]
  },
  {
   "cell_type": "code",
   "execution_count": 86,
   "id": "9b1080dc",
   "metadata": {},
   "outputs": [],
   "source": [
    "f = data['court']"
   ]
  },
  {
   "cell_type": "code",
   "execution_count": 87,
   "id": "4e41e58c",
   "metadata": {},
   "outputs": [
    {
     "ename": "KeyError",
     "evalue": "152",
     "output_type": "error",
     "traceback": [
      "\u001b[0;31m---------------------------------------------------------------------------\u001b[0m",
      "\u001b[0;31mKeyError\u001b[0m                                  Traceback (most recent call last)",
      "\u001b[0;32m~/opt/anaconda3/lib/python3.8/site-packages/pandas/core/indexes/base.py\u001b[0m in \u001b[0;36mget_loc\u001b[0;34m(self, key, method, tolerance)\u001b[0m\n\u001b[1;32m   3079\u001b[0m             \u001b[0;32mtry\u001b[0m\u001b[0;34m:\u001b[0m\u001b[0;34m\u001b[0m\u001b[0;34m\u001b[0m\u001b[0m\n\u001b[0;32m-> 3080\u001b[0;31m                 \u001b[0;32mreturn\u001b[0m \u001b[0mself\u001b[0m\u001b[0;34m.\u001b[0m\u001b[0m_engine\u001b[0m\u001b[0;34m.\u001b[0m\u001b[0mget_loc\u001b[0m\u001b[0;34m(\u001b[0m\u001b[0mcasted_key\u001b[0m\u001b[0;34m)\u001b[0m\u001b[0;34m\u001b[0m\u001b[0;34m\u001b[0m\u001b[0m\n\u001b[0m\u001b[1;32m   3081\u001b[0m             \u001b[0;32mexcept\u001b[0m \u001b[0mKeyError\u001b[0m \u001b[0;32mas\u001b[0m \u001b[0merr\u001b[0m\u001b[0;34m:\u001b[0m\u001b[0;34m\u001b[0m\u001b[0;34m\u001b[0m\u001b[0m\n",
      "\u001b[0;32mpandas/_libs/index.pyx\u001b[0m in \u001b[0;36mpandas._libs.index.IndexEngine.get_loc\u001b[0;34m()\u001b[0m\n",
      "\u001b[0;32mpandas/_libs/index.pyx\u001b[0m in \u001b[0;36mpandas._libs.index.IndexEngine.get_loc\u001b[0;34m()\u001b[0m\n",
      "\u001b[0;32mpandas/_libs/hashtable_class_helper.pxi\u001b[0m in \u001b[0;36mpandas._libs.hashtable.Int64HashTable.get_item\u001b[0;34m()\u001b[0m\n",
      "\u001b[0;32mpandas/_libs/hashtable_class_helper.pxi\u001b[0m in \u001b[0;36mpandas._libs.hashtable.Int64HashTable.get_item\u001b[0;34m()\u001b[0m\n",
      "\u001b[0;31mKeyError\u001b[0m: 152",
      "\nThe above exception was the direct cause of the following exception:\n",
      "\u001b[0;31mKeyError\u001b[0m                                  Traceback (most recent call last)",
      "\u001b[0;32m<ipython-input-87-03f4d28f88ed>\u001b[0m in \u001b[0;36m<module>\u001b[0;34m\u001b[0m\n\u001b[1;32m      1\u001b[0m \u001b[0;32mfor\u001b[0m \u001b[0mi\u001b[0m \u001b[0;32min\u001b[0m \u001b[0mrange\u001b[0m\u001b[0;34m(\u001b[0m\u001b[0mlen\u001b[0m\u001b[0;34m(\u001b[0m\u001b[0mf\u001b[0m\u001b[0;34m)\u001b[0m\u001b[0;34m)\u001b[0m\u001b[0;34m:\u001b[0m\u001b[0;34m\u001b[0m\u001b[0;34m\u001b[0m\u001b[0m\n\u001b[0;32m----> 2\u001b[0;31m     \u001b[0mresult\u001b[0m\u001b[0;34m.\u001b[0m\u001b[0mfillna\u001b[0m\u001b[0;34m(\u001b[0m\u001b[0mdata\u001b[0m\u001b[0;34m[\u001b[0m\u001b[0;34m'court'\u001b[0m\u001b[0;34m]\u001b[0m\u001b[0;34m[\u001b[0m\u001b[0mi\u001b[0m\u001b[0;34m]\u001b[0m\u001b[0;34m)\u001b[0m\u001b[0;34m\u001b[0m\u001b[0;34m\u001b[0m\u001b[0m\n\u001b[0m",
      "\u001b[0;32m~/opt/anaconda3/lib/python3.8/site-packages/pandas/core/series.py\u001b[0m in \u001b[0;36m__getitem__\u001b[0;34m(self, key)\u001b[0m\n\u001b[1;32m    851\u001b[0m \u001b[0;34m\u001b[0m\u001b[0m\n\u001b[1;32m    852\u001b[0m         \u001b[0;32melif\u001b[0m \u001b[0mkey_is_scalar\u001b[0m\u001b[0;34m:\u001b[0m\u001b[0;34m\u001b[0m\u001b[0;34m\u001b[0m\u001b[0m\n\u001b[0;32m--> 853\u001b[0;31m             \u001b[0;32mreturn\u001b[0m \u001b[0mself\u001b[0m\u001b[0;34m.\u001b[0m\u001b[0m_get_value\u001b[0m\u001b[0;34m(\u001b[0m\u001b[0mkey\u001b[0m\u001b[0;34m)\u001b[0m\u001b[0;34m\u001b[0m\u001b[0;34m\u001b[0m\u001b[0m\n\u001b[0m\u001b[1;32m    854\u001b[0m \u001b[0;34m\u001b[0m\u001b[0m\n\u001b[1;32m    855\u001b[0m         \u001b[0;32mif\u001b[0m \u001b[0mis_hashable\u001b[0m\u001b[0;34m(\u001b[0m\u001b[0mkey\u001b[0m\u001b[0;34m)\u001b[0m\u001b[0;34m:\u001b[0m\u001b[0;34m\u001b[0m\u001b[0;34m\u001b[0m\u001b[0m\n",
      "\u001b[0;32m~/opt/anaconda3/lib/python3.8/site-packages/pandas/core/series.py\u001b[0m in \u001b[0;36m_get_value\u001b[0;34m(self, label, takeable)\u001b[0m\n\u001b[1;32m    959\u001b[0m \u001b[0;34m\u001b[0m\u001b[0m\n\u001b[1;32m    960\u001b[0m         \u001b[0;31m# Similar to Index.get_value, but we do not fall back to positional\u001b[0m\u001b[0;34m\u001b[0m\u001b[0;34m\u001b[0m\u001b[0;34m\u001b[0m\u001b[0m\n\u001b[0;32m--> 961\u001b[0;31m         \u001b[0mloc\u001b[0m \u001b[0;34m=\u001b[0m \u001b[0mself\u001b[0m\u001b[0;34m.\u001b[0m\u001b[0mindex\u001b[0m\u001b[0;34m.\u001b[0m\u001b[0mget_loc\u001b[0m\u001b[0;34m(\u001b[0m\u001b[0mlabel\u001b[0m\u001b[0;34m)\u001b[0m\u001b[0;34m\u001b[0m\u001b[0;34m\u001b[0m\u001b[0m\n\u001b[0m\u001b[1;32m    962\u001b[0m         \u001b[0;32mreturn\u001b[0m \u001b[0mself\u001b[0m\u001b[0;34m.\u001b[0m\u001b[0mindex\u001b[0m\u001b[0;34m.\u001b[0m\u001b[0m_get_values_for_loc\u001b[0m\u001b[0;34m(\u001b[0m\u001b[0mself\u001b[0m\u001b[0;34m,\u001b[0m \u001b[0mloc\u001b[0m\u001b[0;34m,\u001b[0m \u001b[0mlabel\u001b[0m\u001b[0;34m)\u001b[0m\u001b[0;34m\u001b[0m\u001b[0;34m\u001b[0m\u001b[0m\n\u001b[1;32m    963\u001b[0m \u001b[0;34m\u001b[0m\u001b[0m\n",
      "\u001b[0;32m~/opt/anaconda3/lib/python3.8/site-packages/pandas/core/indexes/base.py\u001b[0m in \u001b[0;36mget_loc\u001b[0;34m(self, key, method, tolerance)\u001b[0m\n\u001b[1;32m   3080\u001b[0m                 \u001b[0;32mreturn\u001b[0m \u001b[0mself\u001b[0m\u001b[0;34m.\u001b[0m\u001b[0m_engine\u001b[0m\u001b[0;34m.\u001b[0m\u001b[0mget_loc\u001b[0m\u001b[0;34m(\u001b[0m\u001b[0mcasted_key\u001b[0m\u001b[0;34m)\u001b[0m\u001b[0;34m\u001b[0m\u001b[0;34m\u001b[0m\u001b[0m\n\u001b[1;32m   3081\u001b[0m             \u001b[0;32mexcept\u001b[0m \u001b[0mKeyError\u001b[0m \u001b[0;32mas\u001b[0m \u001b[0merr\u001b[0m\u001b[0;34m:\u001b[0m\u001b[0;34m\u001b[0m\u001b[0;34m\u001b[0m\u001b[0m\n\u001b[0;32m-> 3082\u001b[0;31m                 \u001b[0;32mraise\u001b[0m \u001b[0mKeyError\u001b[0m\u001b[0;34m(\u001b[0m\u001b[0mkey\u001b[0m\u001b[0;34m)\u001b[0m \u001b[0;32mfrom\u001b[0m \u001b[0merr\u001b[0m\u001b[0;34m\u001b[0m\u001b[0;34m\u001b[0m\u001b[0m\n\u001b[0m\u001b[1;32m   3083\u001b[0m \u001b[0;34m\u001b[0m\u001b[0m\n\u001b[1;32m   3084\u001b[0m         \u001b[0;32mif\u001b[0m \u001b[0mtolerance\u001b[0m \u001b[0;32mis\u001b[0m \u001b[0;32mnot\u001b[0m \u001b[0;32mNone\u001b[0m\u001b[0;34m:\u001b[0m\u001b[0;34m\u001b[0m\u001b[0;34m\u001b[0m\u001b[0m\n",
      "\u001b[0;31mKeyError\u001b[0m: 152"
     ]
    }
   ],
   "source": [
    "for i in range(len(f)):\n",
    "    result.fillna(data['court'][i])"
   ]
  },
  {
   "cell_type": "code",
   "execution_count": 88,
   "id": "387e5481",
   "metadata": {},
   "outputs": [
    {
     "data": {
      "text/plain": [
       " التجاريه نوعيًا بنظر الدعوي رقم   لعام   والمقامه من المدعي قاسم بن حسين بن علي المكحل ذي الهويه الوطنيه رقم ضد المدعي عليها فاطمه بنت حسين الشيخ ذي الهويه الوطنيه رقم  وﷲ الموفق والهادي الي سواء السبيل وصلي ﷲ وسلم علي نبينا محمد وعلي اله وصحبه اجمعين  عضو فيصل بن احمد الزهراني  عضو عبدالعزيز بن عبدالرحمن بن صالح الراجح  رئيس الدائره عبدﷲ بن عبدالرحمن اليابس    10\n",
       " التجاريه بالرياض مكانياً بنظر هذه الدعوي وصلي ﷲ علي نبينا محمد وعلي اله وصحبه وسلم   عضو  عبدالعزيز بن سليمان الغيث عضو  يوسف بن محمد بن قاسم جعفري رئيس الدائره  جمال بن فاضل العمري                                                                                                                                                                                        2\n",
       " العامه  عضو يوسف بن محمد بن قاسم جعفري عضو بندر بن حمد بن علي التويجري رئيس الدائره عبدالعزيز بن سليمان الغيث                                                                                                                                                                                                                                                                2\n",
       " التجاريه نوعيًا بنظر هذه الدعوي رقم   لعام   وهي من                                                                                                                                                                                                                                                                                                                          2\n",
       " التجاريه بالرياض مكانياً بنظر هذه الدعوي   عضو  عبدالرحمن بن عبدﷲ بن سلامه عضو  فراس بن عبدﷲ بن عبدالرحمن العجلان رئيس الدائره  خالد بن عبدﷲ الشمراني                                                                                                                                                                                                                        1\n",
       "Name: 1, dtype: int64"
      ]
     },
     "execution_count": 88,
     "metadata": {},
     "output_type": "execute_result"
    }
   ],
   "source": [
    "result.value_counts()"
   ]
  },
  {
   "cell_type": "code",
   "execution_count": 89,
   "id": "6608964b",
   "metadata": {},
   "outputs": [
    {
     "data": {
      "text/plain": [
       "0      None\n",
       "1      None\n",
       "2      None\n",
       "3      None\n",
       "4      None\n",
       "       ... \n",
       "209    None\n",
       "210    None\n",
       "211    None\n",
       "212    None\n",
       "213    None\n",
       "Name: 1, Length: 192, dtype: object"
      ]
     },
     "execution_count": 89,
     "metadata": {},
     "output_type": "execute_result"
    }
   ],
   "source": [
    "result"
   ]
  },
  {
   "cell_type": "code",
   "execution_count": 90,
   "id": "dd77c97d",
   "metadata": {},
   "outputs": [
    {
     "ename": "KeyError",
     "evalue": "' الدائره  بعدم اختصاص المحاكم التجاريه نوعياً بنظر هذه الدعوي وهي من اختصاص المحكمه العامه  عضو يوسف بن محمد بن قاسم جعفري عضو بندر بن حمد بن علي التويجري رئيس الدائره عبدالعزيز بن سليمان الغيث'",
     "output_type": "error",
     "traceback": [
      "\u001b[0;31m---------------------------------------------------------------------------\u001b[0m",
      "\u001b[0;31mKeyError\u001b[0m                                  Traceback (most recent call last)",
      "\u001b[0;32m~/opt/anaconda3/lib/python3.8/site-packages/pandas/core/indexes/base.py\u001b[0m in \u001b[0;36mget_loc\u001b[0;34m(self, key, method, tolerance)\u001b[0m\n\u001b[1;32m   3079\u001b[0m             \u001b[0;32mtry\u001b[0m\u001b[0;34m:\u001b[0m\u001b[0;34m\u001b[0m\u001b[0;34m\u001b[0m\u001b[0m\n\u001b[0;32m-> 3080\u001b[0;31m                 \u001b[0;32mreturn\u001b[0m \u001b[0mself\u001b[0m\u001b[0;34m.\u001b[0m\u001b[0m_engine\u001b[0m\u001b[0;34m.\u001b[0m\u001b[0mget_loc\u001b[0m\u001b[0;34m(\u001b[0m\u001b[0mcasted_key\u001b[0m\u001b[0;34m)\u001b[0m\u001b[0;34m\u001b[0m\u001b[0;34m\u001b[0m\u001b[0m\n\u001b[0m\u001b[1;32m   3081\u001b[0m             \u001b[0;32mexcept\u001b[0m \u001b[0mKeyError\u001b[0m \u001b[0;32mas\u001b[0m \u001b[0merr\u001b[0m\u001b[0;34m:\u001b[0m\u001b[0;34m\u001b[0m\u001b[0;34m\u001b[0m\u001b[0m\n",
      "\u001b[0;32mpandas/_libs/index.pyx\u001b[0m in \u001b[0;36mpandas._libs.index.IndexEngine.get_loc\u001b[0;34m()\u001b[0m\n",
      "\u001b[0;32mpandas/_libs/index.pyx\u001b[0m in \u001b[0;36mpandas._libs.index.IndexEngine.get_loc\u001b[0;34m()\u001b[0m\n",
      "\u001b[0;32mpandas/_libs/index_class_helper.pxi\u001b[0m in \u001b[0;36mpandas._libs.index.Int64Engine._check_type\u001b[0;34m()\u001b[0m\n",
      "\u001b[0;31mKeyError\u001b[0m: ' الدائره  بعدم اختصاص المحاكم التجاريه نوعياً بنظر هذه الدعوي وهي من اختصاص المحكمه العامه  عضو يوسف بن محمد بن قاسم جعفري عضو بندر بن حمد بن علي التويجري رئيس الدائره عبدالعزيز بن سليمان الغيث'",
      "\nThe above exception was the direct cause of the following exception:\n",
      "\u001b[0;31mKeyError\u001b[0m                                  Traceback (most recent call last)",
      "\u001b[0;32m<ipython-input-90-1747cc144647>\u001b[0m in \u001b[0;36m<module>\u001b[0;34m\u001b[0m\n\u001b[1;32m      8\u001b[0m     \u001b[0;32mif\u001b[0m \u001b[0;34m\"بعدم اختصاص\"\u001b[0m  \u001b[0;32min\u001b[0m \u001b[0mi\u001b[0m\u001b[0;34m:\u001b[0m\u001b[0;34m\u001b[0m\u001b[0;34m\u001b[0m\u001b[0m\n\u001b[1;32m      9\u001b[0m         \u001b[0;32mif\u001b[0m \u001b[0;34m\"من اختصاص المحكمه\"\u001b[0m \u001b[0;32min\u001b[0m \u001b[0mi\u001b[0m\u001b[0;34m:\u001b[0m\u001b[0;34m\u001b[0m\u001b[0;34m\u001b[0m\u001b[0m\n\u001b[0;32m---> 10\u001b[0;31m             \u001b[0mresult\u001b[0m \u001b[0;34m=\u001b[0m \u001b[0mdata\u001b[0m\u001b[0;34m[\u001b[0m\u001b[0;34m'Verdict'\u001b[0m\u001b[0;34m]\u001b[0m\u001b[0;34m[\u001b[0m\u001b[0mi\u001b[0m\u001b[0;34m]\u001b[0m\u001b[0;34m.\u001b[0m\u001b[0msplit\u001b[0m\u001b[0;34m(\u001b[0m\u001b[0;34m'اختصاص المحكمه'\u001b[0m\u001b[0;34m,\u001b[0m\u001b[0mexpand\u001b[0m\u001b[0;34m=\u001b[0m\u001b[0;32mTrue\u001b[0m\u001b[0;34m)\u001b[0m\u001b[0;34m[\u001b[0m\u001b[0;36m1\u001b[0m\u001b[0;34m]\u001b[0m\u001b[0;34m\u001b[0m\u001b[0;34m\u001b[0m\u001b[0m\n\u001b[0m\u001b[1;32m     11\u001b[0m         \u001b[0;32melse\u001b[0m\u001b[0;34m:\u001b[0m\u001b[0;34m\u001b[0m\u001b[0;34m\u001b[0m\u001b[0m\n\u001b[1;32m     12\u001b[0m             \u001b[0mresult\u001b[0m\u001b[0;34m=\u001b[0m \u001b[0;32mNone\u001b[0m\u001b[0;34m\u001b[0m\u001b[0;34m\u001b[0m\u001b[0m\n",
      "\u001b[0;32m~/opt/anaconda3/lib/python3.8/site-packages/pandas/core/series.py\u001b[0m in \u001b[0;36m__getitem__\u001b[0;34m(self, key)\u001b[0m\n\u001b[1;32m    851\u001b[0m \u001b[0;34m\u001b[0m\u001b[0m\n\u001b[1;32m    852\u001b[0m         \u001b[0;32melif\u001b[0m \u001b[0mkey_is_scalar\u001b[0m\u001b[0;34m:\u001b[0m\u001b[0;34m\u001b[0m\u001b[0;34m\u001b[0m\u001b[0m\n\u001b[0;32m--> 853\u001b[0;31m             \u001b[0;32mreturn\u001b[0m \u001b[0mself\u001b[0m\u001b[0;34m.\u001b[0m\u001b[0m_get_value\u001b[0m\u001b[0;34m(\u001b[0m\u001b[0mkey\u001b[0m\u001b[0;34m)\u001b[0m\u001b[0;34m\u001b[0m\u001b[0;34m\u001b[0m\u001b[0m\n\u001b[0m\u001b[1;32m    854\u001b[0m \u001b[0;34m\u001b[0m\u001b[0m\n\u001b[1;32m    855\u001b[0m         \u001b[0;32mif\u001b[0m \u001b[0mis_hashable\u001b[0m\u001b[0;34m(\u001b[0m\u001b[0mkey\u001b[0m\u001b[0;34m)\u001b[0m\u001b[0;34m:\u001b[0m\u001b[0;34m\u001b[0m\u001b[0;34m\u001b[0m\u001b[0m\n",
      "\u001b[0;32m~/opt/anaconda3/lib/python3.8/site-packages/pandas/core/series.py\u001b[0m in \u001b[0;36m_get_value\u001b[0;34m(self, label, takeable)\u001b[0m\n\u001b[1;32m    959\u001b[0m \u001b[0;34m\u001b[0m\u001b[0m\n\u001b[1;32m    960\u001b[0m         \u001b[0;31m# Similar to Index.get_value, but we do not fall back to positional\u001b[0m\u001b[0;34m\u001b[0m\u001b[0;34m\u001b[0m\u001b[0;34m\u001b[0m\u001b[0m\n\u001b[0;32m--> 961\u001b[0;31m         \u001b[0mloc\u001b[0m \u001b[0;34m=\u001b[0m \u001b[0mself\u001b[0m\u001b[0;34m.\u001b[0m\u001b[0mindex\u001b[0m\u001b[0;34m.\u001b[0m\u001b[0mget_loc\u001b[0m\u001b[0;34m(\u001b[0m\u001b[0mlabel\u001b[0m\u001b[0;34m)\u001b[0m\u001b[0;34m\u001b[0m\u001b[0;34m\u001b[0m\u001b[0m\n\u001b[0m\u001b[1;32m    962\u001b[0m         \u001b[0;32mreturn\u001b[0m \u001b[0mself\u001b[0m\u001b[0;34m.\u001b[0m\u001b[0mindex\u001b[0m\u001b[0;34m.\u001b[0m\u001b[0m_get_values_for_loc\u001b[0m\u001b[0;34m(\u001b[0m\u001b[0mself\u001b[0m\u001b[0;34m,\u001b[0m \u001b[0mloc\u001b[0m\u001b[0;34m,\u001b[0m \u001b[0mlabel\u001b[0m\u001b[0;34m)\u001b[0m\u001b[0;34m\u001b[0m\u001b[0;34m\u001b[0m\u001b[0m\n\u001b[1;32m    963\u001b[0m \u001b[0;34m\u001b[0m\u001b[0m\n",
      "\u001b[0;32m~/opt/anaconda3/lib/python3.8/site-packages/pandas/core/indexes/base.py\u001b[0m in \u001b[0;36mget_loc\u001b[0;34m(self, key, method, tolerance)\u001b[0m\n\u001b[1;32m   3080\u001b[0m                 \u001b[0;32mreturn\u001b[0m \u001b[0mself\u001b[0m\u001b[0;34m.\u001b[0m\u001b[0m_engine\u001b[0m\u001b[0;34m.\u001b[0m\u001b[0mget_loc\u001b[0m\u001b[0;34m(\u001b[0m\u001b[0mcasted_key\u001b[0m\u001b[0;34m)\u001b[0m\u001b[0;34m\u001b[0m\u001b[0;34m\u001b[0m\u001b[0m\n\u001b[1;32m   3081\u001b[0m             \u001b[0;32mexcept\u001b[0m \u001b[0mKeyError\u001b[0m \u001b[0;32mas\u001b[0m \u001b[0merr\u001b[0m\u001b[0;34m:\u001b[0m\u001b[0;34m\u001b[0m\u001b[0;34m\u001b[0m\u001b[0m\n\u001b[0;32m-> 3082\u001b[0;31m                 \u001b[0;32mraise\u001b[0m \u001b[0mKeyError\u001b[0m\u001b[0;34m(\u001b[0m\u001b[0mkey\u001b[0m\u001b[0;34m)\u001b[0m \u001b[0;32mfrom\u001b[0m \u001b[0merr\u001b[0m\u001b[0;34m\u001b[0m\u001b[0;34m\u001b[0m\u001b[0m\n\u001b[0m\u001b[1;32m   3083\u001b[0m \u001b[0;34m\u001b[0m\u001b[0m\n\u001b[1;32m   3084\u001b[0m         \u001b[0;32mif\u001b[0m \u001b[0mtolerance\u001b[0m \u001b[0;32mis\u001b[0m \u001b[0;32mnot\u001b[0m \u001b[0;32mNone\u001b[0m\u001b[0;34m:\u001b[0m\u001b[0;34m\u001b[0m\u001b[0;34m\u001b[0m\u001b[0m\n",
      "\u001b[0;31mKeyError\u001b[0m: ' الدائره  بعدم اختصاص المحاكم التجاريه نوعياً بنظر هذه الدعوي وهي من اختصاص المحكمه العامه  عضو يوسف بن محمد بن قاسم جعفري عضو بندر بن حمد بن علي التويجري رئيس الدائره عبدالعزيز بن سليمان الغيث'"
     ]
    }
   ],
   "source": [
    "result = []\n",
    "for i in data['Verdict']:\n",
    "    if \"بعدم اختصاص\" not in i:\n",
    "        for j in data['court']:\n",
    "            if i == j:\n",
    "                result = data['court'][j] \n",
    "    \n",
    "    if \"بعدم اختصاص\"  in i:\n",
    "        if \"من اختصاص المحكمه\" in i:\n",
    "            result = data['Verdict'][i].split('اختصاص المحكمه',expand=True)[1]\n",
    "        else:\n",
    "            result= None"
   ]
  },
  {
   "cell_type": "code",
   "execution_count": 93,
   "id": "48bcd577",
   "metadata": {},
   "outputs": [],
   "source": [
    "z = data['Verdict'][10]"
   ]
  },
  {
   "cell_type": "code",
   "execution_count": 94,
   "id": "93b89468",
   "metadata": {},
   "outputs": [
    {
     "data": {
      "text/plain": [
       "' العامه  عضو يوسف بن محمد بن قاسم جعفري عضو بندر بن حمد بن علي التويجري رئيس الدائره عبدالعزيز بن سليمان الغيث'"
      ]
     },
     "execution_count": 94,
     "metadata": {},
     "output_type": "execute_result"
    }
   ],
   "source": [
    "z.split('اختصاص المحكمه')[1]"
   ]
  },
  {
   "cell_type": "code",
   "execution_count": 95,
   "id": "dc661ac0",
   "metadata": {},
   "outputs": [
    {
     "data": {
      "text/plain": [
       "' الدائره  بعدم اختصاص المحاكم التجاريه نوعياً بنظر هذه الدعوي وهي من اختصاص المحكمه العامه  عضو يوسف بن محمد بن قاسم جعفري عضو بندر بن حمد بن علي التويجري رئيس الدائره عبدالعزيز بن سليمان الغيث'"
      ]
     },
     "execution_count": 95,
     "metadata": {},
     "output_type": "execute_result"
    }
   ],
   "source": [
    "z"
   ]
  },
  {
   "cell_type": "code",
   "execution_count": 96,
   "id": "e2edf076",
   "metadata": {},
   "outputs": [],
   "source": [
    "a=\"من اختصاص المحكمه\""
   ]
  },
  {
   "cell_type": "code",
   "execution_count": 97,
   "id": "8fc0a6ab",
   "metadata": {},
   "outputs": [
    {
     "data": {
      "text/plain": [
       "' الدائره  بعدم اختصاص المحاكم التجاريه نوعياً بنظر هذه الدعوي وهي من اختصاص المحكمه العامه  عضو يوسف بن محمد بن قاسم جعفري عضو بندر بن حمد بن علي التويجري رئيس الدائره عبدالعزيز بن سليمان الغيث'"
      ]
     },
     "execution_count": 97,
     "metadata": {},
     "output_type": "execute_result"
    }
   ],
   "source": [
    "z.split(a,0)[0]"
   ]
  },
  {
   "cell_type": "code",
   "execution_count": 98,
   "id": "b130a49c",
   "metadata": {},
   "outputs": [
    {
     "ename": "KeyError",
     "evalue": "'right_court'",
     "output_type": "error",
     "traceback": [
      "\u001b[0;31m---------------------------------------------------------------------------\u001b[0m",
      "\u001b[0;31mKeyError\u001b[0m                                  Traceback (most recent call last)",
      "\u001b[0;32m~/opt/anaconda3/lib/python3.8/site-packages/pandas/core/indexes/base.py\u001b[0m in \u001b[0;36mget_loc\u001b[0;34m(self, key, method, tolerance)\u001b[0m\n\u001b[1;32m   3079\u001b[0m             \u001b[0;32mtry\u001b[0m\u001b[0;34m:\u001b[0m\u001b[0;34m\u001b[0m\u001b[0;34m\u001b[0m\u001b[0m\n\u001b[0;32m-> 3080\u001b[0;31m                 \u001b[0;32mreturn\u001b[0m \u001b[0mself\u001b[0m\u001b[0;34m.\u001b[0m\u001b[0m_engine\u001b[0m\u001b[0;34m.\u001b[0m\u001b[0mget_loc\u001b[0m\u001b[0;34m(\u001b[0m\u001b[0mcasted_key\u001b[0m\u001b[0;34m)\u001b[0m\u001b[0;34m\u001b[0m\u001b[0;34m\u001b[0m\u001b[0m\n\u001b[0m\u001b[1;32m   3081\u001b[0m             \u001b[0;32mexcept\u001b[0m \u001b[0mKeyError\u001b[0m \u001b[0;32mas\u001b[0m \u001b[0merr\u001b[0m\u001b[0;34m:\u001b[0m\u001b[0;34m\u001b[0m\u001b[0;34m\u001b[0m\u001b[0m\n",
      "\u001b[0;32mpandas/_libs/index.pyx\u001b[0m in \u001b[0;36mpandas._libs.index.IndexEngine.get_loc\u001b[0;34m()\u001b[0m\n",
      "\u001b[0;32mpandas/_libs/index.pyx\u001b[0m in \u001b[0;36mpandas._libs.index.IndexEngine.get_loc\u001b[0;34m()\u001b[0m\n",
      "\u001b[0;32mpandas/_libs/hashtable_class_helper.pxi\u001b[0m in \u001b[0;36mpandas._libs.hashtable.PyObjectHashTable.get_item\u001b[0;34m()\u001b[0m\n",
      "\u001b[0;32mpandas/_libs/hashtable_class_helper.pxi\u001b[0m in \u001b[0;36mpandas._libs.hashtable.PyObjectHashTable.get_item\u001b[0;34m()\u001b[0m\n",
      "\u001b[0;31mKeyError\u001b[0m: 'right_court'",
      "\nThe above exception was the direct cause of the following exception:\n",
      "\u001b[0;31mKeyError\u001b[0m                                  Traceback (most recent call last)",
      "\u001b[0;32m<ipython-input-98-b0d3f14aafc9>\u001b[0m in \u001b[0;36m<module>\u001b[0;34m\u001b[0m\n\u001b[0;32m----> 1\u001b[0;31m \u001b[0mdata\u001b[0m\u001b[0;34m[\u001b[0m\u001b[0;34m'right_court'\u001b[0m\u001b[0;34m]\u001b[0m\u001b[0;34m.\u001b[0m\u001b[0mvalue_counts\u001b[0m\u001b[0;34m(\u001b[0m\u001b[0;34m)\u001b[0m\u001b[0;34m\u001b[0m\u001b[0;34m\u001b[0m\u001b[0m\n\u001b[0m",
      "\u001b[0;32m~/opt/anaconda3/lib/python3.8/site-packages/pandas/core/frame.py\u001b[0m in \u001b[0;36m__getitem__\u001b[0;34m(self, key)\u001b[0m\n\u001b[1;32m   3022\u001b[0m             \u001b[0;32mif\u001b[0m \u001b[0mself\u001b[0m\u001b[0;34m.\u001b[0m\u001b[0mcolumns\u001b[0m\u001b[0;34m.\u001b[0m\u001b[0mnlevels\u001b[0m \u001b[0;34m>\u001b[0m \u001b[0;36m1\u001b[0m\u001b[0;34m:\u001b[0m\u001b[0;34m\u001b[0m\u001b[0;34m\u001b[0m\u001b[0m\n\u001b[1;32m   3023\u001b[0m                 \u001b[0;32mreturn\u001b[0m \u001b[0mself\u001b[0m\u001b[0;34m.\u001b[0m\u001b[0m_getitem_multilevel\u001b[0m\u001b[0;34m(\u001b[0m\u001b[0mkey\u001b[0m\u001b[0;34m)\u001b[0m\u001b[0;34m\u001b[0m\u001b[0;34m\u001b[0m\u001b[0m\n\u001b[0;32m-> 3024\u001b[0;31m             \u001b[0mindexer\u001b[0m \u001b[0;34m=\u001b[0m \u001b[0mself\u001b[0m\u001b[0;34m.\u001b[0m\u001b[0mcolumns\u001b[0m\u001b[0;34m.\u001b[0m\u001b[0mget_loc\u001b[0m\u001b[0;34m(\u001b[0m\u001b[0mkey\u001b[0m\u001b[0;34m)\u001b[0m\u001b[0;34m\u001b[0m\u001b[0;34m\u001b[0m\u001b[0m\n\u001b[0m\u001b[1;32m   3025\u001b[0m             \u001b[0;32mif\u001b[0m \u001b[0mis_integer\u001b[0m\u001b[0;34m(\u001b[0m\u001b[0mindexer\u001b[0m\u001b[0;34m)\u001b[0m\u001b[0;34m:\u001b[0m\u001b[0;34m\u001b[0m\u001b[0;34m\u001b[0m\u001b[0m\n\u001b[1;32m   3026\u001b[0m                 \u001b[0mindexer\u001b[0m \u001b[0;34m=\u001b[0m \u001b[0;34m[\u001b[0m\u001b[0mindexer\u001b[0m\u001b[0;34m]\u001b[0m\u001b[0;34m\u001b[0m\u001b[0;34m\u001b[0m\u001b[0m\n",
      "\u001b[0;32m~/opt/anaconda3/lib/python3.8/site-packages/pandas/core/indexes/base.py\u001b[0m in \u001b[0;36mget_loc\u001b[0;34m(self, key, method, tolerance)\u001b[0m\n\u001b[1;32m   3080\u001b[0m                 \u001b[0;32mreturn\u001b[0m \u001b[0mself\u001b[0m\u001b[0;34m.\u001b[0m\u001b[0m_engine\u001b[0m\u001b[0;34m.\u001b[0m\u001b[0mget_loc\u001b[0m\u001b[0;34m(\u001b[0m\u001b[0mcasted_key\u001b[0m\u001b[0;34m)\u001b[0m\u001b[0;34m\u001b[0m\u001b[0;34m\u001b[0m\u001b[0m\n\u001b[1;32m   3081\u001b[0m             \u001b[0;32mexcept\u001b[0m \u001b[0mKeyError\u001b[0m \u001b[0;32mas\u001b[0m \u001b[0merr\u001b[0m\u001b[0;34m:\u001b[0m\u001b[0;34m\u001b[0m\u001b[0;34m\u001b[0m\u001b[0m\n\u001b[0;32m-> 3082\u001b[0;31m                 \u001b[0;32mraise\u001b[0m \u001b[0mKeyError\u001b[0m\u001b[0;34m(\u001b[0m\u001b[0mkey\u001b[0m\u001b[0;34m)\u001b[0m \u001b[0;32mfrom\u001b[0m \u001b[0merr\u001b[0m\u001b[0;34m\u001b[0m\u001b[0;34m\u001b[0m\u001b[0m\n\u001b[0m\u001b[1;32m   3083\u001b[0m \u001b[0;34m\u001b[0m\u001b[0m\n\u001b[1;32m   3084\u001b[0m         \u001b[0;32mif\u001b[0m \u001b[0mtolerance\u001b[0m \u001b[0;32mis\u001b[0m \u001b[0;32mnot\u001b[0m \u001b[0;32mNone\u001b[0m\u001b[0;34m:\u001b[0m\u001b[0;34m\u001b[0m\u001b[0;34m\u001b[0m\u001b[0m\n",
      "\u001b[0;31mKeyError\u001b[0m: 'right_court'"
     ]
    }
   ],
   "source": [
    "data['right_court'].value_counts()"
   ]
  },
  {
   "cell_type": "code",
   "execution_count": 99,
   "id": "0f099068",
   "metadata": {},
   "outputs": [
    {
     "data": {
      "text/plain": [
       "' الدائره  بعدم اختصاص المحاكم التجاريه نوعياً بنظر هذه الدعوي وهي من اختصاص المحكمه العامه  عضو يوسف بن محمد بن قاسم جعفري عضو بندر بن حمد بن علي التويجري رئيس الدائره عبدالعزيز بن سليمان الغيث'"
      ]
     },
     "execution_count": 99,
     "metadata": {},
     "output_type": "execute_result"
    }
   ],
   "source": [
    "data['Verdict'][10]"
   ]
  },
  {
   "cell_type": "code",
   "execution_count": null,
   "id": "cdcbde66",
   "metadata": {},
   "outputs": [],
   "source": []
  },
  {
   "cell_type": "code",
   "execution_count": 101,
   "id": "692991a2",
   "metadata": {
    "scrolled": false
   },
   "outputs": [
    {
     "data": {
      "text/html": [
       "<div>\n",
       "<style scoped>\n",
       "    .dataframe tbody tr th:only-of-type {\n",
       "        vertical-align: middle;\n",
       "    }\n",
       "\n",
       "    .dataframe tbody tr th {\n",
       "        vertical-align: top;\n",
       "    }\n",
       "\n",
       "    .dataframe thead th {\n",
       "        text-align: right;\n",
       "    }\n",
       "</style>\n",
       "<table border=\"1\" class=\"dataframe\">\n",
       "  <thead>\n",
       "    <tr style=\"text-align: right;\">\n",
       "      <th></th>\n",
       "      <th>web-scraper-order</th>\n",
       "      <th>web-scraper-start-url</th>\n",
       "      <th>links</th>\n",
       "      <th>links-href</th>\n",
       "      <th>court</th>\n",
       "      <th>case_number</th>\n",
       "      <th>case_date</th>\n",
       "      <th>appellate_court</th>\n",
       "      <th>appellate_id</th>\n",
       "      <th>appellate_date</th>\n",
       "      <th>region</th>\n",
       "      <th>city</th>\n",
       "      <th>judgment_text</th>\n",
       "      <th>appeal</th>\n",
       "      <th>Verdict</th>\n",
       "      <th>incident</th>\n",
       "    </tr>\n",
       "  </thead>\n",
       "  <tbody>\n",
       "    <tr>\n",
       "      <th>7</th>\n",
       "      <td>1640297166-4</td>\n",
       "      <td>https://sjp.moj.gov.sa/Filter?isFilterButtonCl...</td>\n",
       "      <td>القضية رقم  ٨٧٩٧ لعام ١٤٤٢ هـ</td>\n",
       "      <td>https://sjp.moj.gov.sa/Filter/AhkamDetails/39115</td>\n",
       "      <td>التجارية</td>\n",
       "      <td>رقم القضية - القرار: ٨٧٩٧</td>\n",
       "      <td>تاريخها: ٢٥/١٢/١٤٤٢</td>\n",
       "      <td>محكمة الاستئناف: المحكمة التجارية</td>\n",
       "      <td>رقم القرار: ٥٤٢</td>\n",
       "      <td>تاريخه: ٥/٣/١٤٤٣</td>\n",
       "      <td>المدينة: منطقة الرياض</td>\n",
       "      <td>المدينه: الرياض</td>\n",
       "      <td>الحمد لله والصلاه والسلام علي رسول ﷲ اما بعد ف...</td>\n",
       "      <td>الحمد لله والصلاة والسلام على رسول ﷲ أما بعد:\\...</td>\n",
       "      <td>الدائره بعدم اختصاص المحاكم التجاريه نوعيا بن...</td>\n",
       "      <td>حمد اما فلدي التجاريه التاسعه عشره وبناء المقا...</td>\n",
       "    </tr>\n",
       "    <tr>\n",
       "      <th>10</th>\n",
       "      <td>1640297542-37</td>\n",
       "      <td>https://sjp.moj.gov.sa/Filter?isFilterButtonCl...</td>\n",
       "      <td>القضية رقم  ٧٤٠٠ لعام ١٤٤٢ هـ</td>\n",
       "      <td>https://sjp.moj.gov.sa/Filter/AhkamDetails/39226</td>\n",
       "      <td>التجارية</td>\n",
       "      <td>رقم القضية - القرار: ٧٤٠٠</td>\n",
       "      <td>تاريخها: ١/١/١٤٤٣</td>\n",
       "      <td>محكمة الاستئناف: المحكمة التجارية</td>\n",
       "      <td>رقم القرار: ٧٥٧</td>\n",
       "      <td>تاريخه: ٦/٣/١٤٤٣</td>\n",
       "      <td>المدينة: منطقة الرياض</td>\n",
       "      <td>المدينه: الرياض</td>\n",
       "      <td>الحمد لله والصلاه والسلام علي رسول ﷲ اما بعد ف...</td>\n",
       "      <td>الحمد لله والصلاة والسلام على رسول ﷲ أما بعد:\\...</td>\n",
       "      <td>الدائره  بعدم اختصاص المحاكم التجاريه نوعياً ...</td>\n",
       "      <td>حمد اما فلدي التجاريه الثالثه وبناء المقامه شر...</td>\n",
       "    </tr>\n",
       "    <tr>\n",
       "      <th>11</th>\n",
       "      <td>1640297281-14</td>\n",
       "      <td>https://sjp.moj.gov.sa/Filter?isFilterButtonCl...</td>\n",
       "      <td>القضية رقم  ٣٨٩٥ لعام ١٤٤٢ هـ</td>\n",
       "      <td>https://sjp.moj.gov.sa/Filter/AhkamDetails/38926</td>\n",
       "      <td>التجارية</td>\n",
       "      <td>رقم القضية - القرار: ٣٨٩٥</td>\n",
       "      <td>تاريخها: ٢٣/٩/١٤٤٢</td>\n",
       "      <td>محكمة الاستئناف: المحكمة التجارية</td>\n",
       "      <td>رقم القرار: ٢٤٥</td>\n",
       "      <td>تاريخه: ٥/٣/١٤٤٣</td>\n",
       "      <td>المدينة: منطقة الرياض</td>\n",
       "      <td>المدينه: الرياض</td>\n",
       "      <td>الحمد لله والصلاه والسلام علي رسول ﷲ اما بعد ف...</td>\n",
       "      <td>الحمد لله والصلاة والسلام على رسول ﷲ أما بعد:\\...</td>\n",
       "      <td>الدائره  بعدم اختصاص المحكمه التجاريه بالرياض...</td>\n",
       "      <td>حمد اما فلدي التجاريه الواحد والعشرون وبناء ال...</td>\n",
       "    </tr>\n",
       "    <tr>\n",
       "      <th>12</th>\n",
       "      <td>1640297772-57</td>\n",
       "      <td>https://sjp.moj.gov.sa/Filter?isFilterButtonCl...</td>\n",
       "      <td>القضية رقم  ٧٤٠٠ لعام ١٤٤٢ هـ</td>\n",
       "      <td>https://sjp.moj.gov.sa/Filter/AhkamDetails/38981</td>\n",
       "      <td>التجارية</td>\n",
       "      <td>رقم القضية - القرار: ٧٤٠٠</td>\n",
       "      <td>تاريخها: ١/١/١٤٤٣</td>\n",
       "      <td>محكمة الاستئناف: المحكمة التجارية</td>\n",
       "      <td>رقم القرار: ٧٥٧</td>\n",
       "      <td>تاريخه: ٦/٣/١٤٤٣</td>\n",
       "      <td>المدينة: منطقة الرياض</td>\n",
       "      <td>المدينه: الرياض</td>\n",
       "      <td>الحمد لله والصلاه والسلام علي رسول ﷲ اما بعد ف...</td>\n",
       "      <td>الحمد لله والصلاة والسلام على رسول ﷲ أما بعد:\\...</td>\n",
       "      <td>الدائره  بعدم اختصاص المحاكم التجاريه نوعياً ...</td>\n",
       "      <td>حمد اما فلدي التجاريه الثالثه وبناء المقامه شر...</td>\n",
       "    </tr>\n",
       "    <tr>\n",
       "      <th>23</th>\n",
       "      <td>1640297657-47</td>\n",
       "      <td>https://sjp.moj.gov.sa/Filter?isFilterButtonCl...</td>\n",
       "      <td>القضية رقم  ٧٧٠١ لعام ١٤٤٢ هـ</td>\n",
       "      <td>https://sjp.moj.gov.sa/Filter/AhkamDetails/39007</td>\n",
       "      <td>التجارية</td>\n",
       "      <td>رقم القضية - القرار: ٧٧٠١</td>\n",
       "      <td>تاريخها: ١١/٢/١٤٤٢</td>\n",
       "      <td>محكمة الاستئناف: المحكمة التجارية</td>\n",
       "      <td>رقم القرار: ٩٦</td>\n",
       "      <td>تاريخه: ٦/٣/١٤٤٣</td>\n",
       "      <td>المدينة: منطقة الرياض</td>\n",
       "      <td>المدينه: الرياض</td>\n",
       "      <td>الحمد لله والصلاه والسلام علي رسول ﷲ اما بعد ف...</td>\n",
       "      <td>الحمد لله والصلاة والسلام على رسول ﷲ أما بعد:\\...</td>\n",
       "      <td>الدائره بعدم اختصاص المحكمه التجاريه نوعيًا ب...</td>\n",
       "      <td>حمد اما فلدي التجاريه الاولي وبناء المقامه جمع...</td>\n",
       "    </tr>\n",
       "    <tr>\n",
       "      <th>31</th>\n",
       "      <td>1640298076-83</td>\n",
       "      <td>https://sjp.moj.gov.sa/Filter?isFilterButtonCl...</td>\n",
       "      <td>القضية رقم  ١٠٦١٠ لعام ١٤٤١ هـ</td>\n",
       "      <td>https://sjp.moj.gov.sa/Filter/AhkamDetails/39019</td>\n",
       "      <td>التجارية</td>\n",
       "      <td>رقم القضية - القرار: ١٠٦١٠</td>\n",
       "      <td>تاريخها: ٢٧/٢/١٤٤٢</td>\n",
       "      <td>محكمة الاستئناف: المحكمة التجارية</td>\n",
       "      <td>رقم القرار: ١٩٦٩</td>\n",
       "      <td>تاريخه: ٧/٣/١٤٤٣</td>\n",
       "      <td>المدينة: منطقة الرياض</td>\n",
       "      <td>المدينه: الرياض</td>\n",
       "      <td>الحمد لله والصلاه والسلام علي رسول ﷲ اما بعد ف...</td>\n",
       "      <td>الحمد لله والصلاة والسلام على رسول ﷲ أما بعد:\\...</td>\n",
       "      <td>الدائره بعدم اختصاص محاكم المملكه العربيه الس...</td>\n",
       "      <td>حمد اما فلدي التجاريه الرابعه وبناء المقامه شر...</td>\n",
       "    </tr>\n",
       "    <tr>\n",
       "      <th>48</th>\n",
       "      <td>1640297981-75</td>\n",
       "      <td>https://sjp.moj.gov.sa/Filter?isFilterButtonCl...</td>\n",
       "      <td>القضية رقم  ٨٣٢١ لعام ١٤٤٢ هـ</td>\n",
       "      <td>https://sjp.moj.gov.sa/Filter/AhkamDetails/39169</td>\n",
       "      <td>التجارية</td>\n",
       "      <td>رقم القضية - القرار: ٨٣٢١</td>\n",
       "      <td>تاريخها: ٨/١/١٤٤٣</td>\n",
       "      <td>محكمة الاستئناف: المحكمة التجارية</td>\n",
       "      <td>رقم القرار: ٦٨٨</td>\n",
       "      <td>تاريخه: ٧/٣/١٤٤٣</td>\n",
       "      <td>المدينة: منطقة الرياض</td>\n",
       "      <td>المدينه: الرياض</td>\n",
       "      <td>الحمد لله والصلاه والسلام علي رسول ﷲ اما بعد ف...</td>\n",
       "      <td>الحمد لله والصلاة والسلام على رسول ﷲ أما بعد:\\...</td>\n",
       "      <td>الدائره بعدم اختصاص المحكمه التجاريه بالرياض ...</td>\n",
       "      <td>حمد اما فلدي التجاريه الثالثه وبناء المقامه صا...</td>\n",
       "    </tr>\n",
       "    <tr>\n",
       "      <th>63</th>\n",
       "      <td>1640297354-21</td>\n",
       "      <td>https://sjp.moj.gov.sa/Filter?isFilterButtonCl...</td>\n",
       "      <td>القضية رقم  ٨٧٩٧ لعام ١٤٤٢ هـ</td>\n",
       "      <td>https://sjp.moj.gov.sa/Filter/AhkamDetails/38870</td>\n",
       "      <td>التجارية</td>\n",
       "      <td>رقم القضية - القرار: ٨٧٩٧</td>\n",
       "      <td>تاريخها: ٢٥/١٢/١٤٤٢</td>\n",
       "      <td>محكمة الاستئناف: المحكمة التجارية</td>\n",
       "      <td>رقم القرار: ٥٤٢</td>\n",
       "      <td>تاريخه: ٥/٣/١٤٤٣</td>\n",
       "      <td>المدينة: منطقة الرياض</td>\n",
       "      <td>المدينه: الرياض</td>\n",
       "      <td>الحمد لله والصلاه والسلام علي رسول ﷲ اما بعد ف...</td>\n",
       "      <td>الحمد لله والصلاة والسلام على رسول ﷲ أما بعد:\\...</td>\n",
       "      <td>الدائره بعدم اختصاص المحاكم التجاريه نوعيا بن...</td>\n",
       "      <td>حمد اما فلدي التجاريه التاسعه عشره وبناء المقا...</td>\n",
       "    </tr>\n",
       "    <tr>\n",
       "      <th>67</th>\n",
       "      <td>1640297427-27</td>\n",
       "      <td>https://sjp.moj.gov.sa/Filter?isFilterButtonCl...</td>\n",
       "      <td>القضية رقم  ٧٧٠١ لعام ١٤٤٢ هـ</td>\n",
       "      <td>https://sjp.moj.gov.sa/Filter/AhkamDetails/39252</td>\n",
       "      <td>التجارية</td>\n",
       "      <td>رقم القضية - القرار: ٧٧٠١</td>\n",
       "      <td>تاريخها: ١١/٢/١٤٤٢</td>\n",
       "      <td>محكمة الاستئناف: المحكمة التجارية</td>\n",
       "      <td>رقم القرار: ٩٦</td>\n",
       "      <td>تاريخه: ٦/٣/١٤٤٣</td>\n",
       "      <td>المدينة: منطقة الرياض</td>\n",
       "      <td>المدينه: الرياض</td>\n",
       "      <td>الحمد لله والصلاه والسلام علي رسول ﷲ اما بعد ف...</td>\n",
       "      <td>الحمد لله والصلاة والسلام على رسول ﷲ أما بعد:\\...</td>\n",
       "      <td>الدائره بعدم اختصاص المحكمه التجاريه نوعيًا ب...</td>\n",
       "      <td>حمد اما فلدي التجاريه الاولي وبناء المقامه جمع...</td>\n",
       "    </tr>\n",
       "    <tr>\n",
       "      <th>77</th>\n",
       "      <td>1640298252-100</td>\n",
       "      <td>https://sjp.moj.gov.sa/Filter?isFilterButtonCl...</td>\n",
       "      <td>القضية رقم ٣٢٣٢ لعام ١٤٤٢ هـ</td>\n",
       "      <td>https://sjp.moj.gov.sa/Filter/AhkamDetails/35243</td>\n",
       "      <td>التجارية</td>\n",
       "      <td>رقم القضية - القرار: ٣٢٣٢</td>\n",
       "      <td>تاريخها: ٢٧/١١/١٤٤٢</td>\n",
       "      <td>محكمة الاستئناف: محكمة الاستئناف</td>\n",
       "      <td>رقم القرار: ٧٦</td>\n",
       "      <td>تاريخه: ٢٥/٧/١٤٤٣</td>\n",
       "      <td>المدينة: المنطقة الشرقية</td>\n",
       "      <td>المدينه: الدمام</td>\n",
       "      <td>الحمد لله والصلاه والسلام علي رسول ﷲ اما بعد ف...</td>\n",
       "      <td>الحمد لله والصلاة والسلام على رسول ﷲ أما بعد:\\...</td>\n",
       "      <td>الدائره بعدم اختصاص المحكمه التجاريه نوعيًا ب...</td>\n",
       "      <td>حمد اما فلدي التجاريه الاولي وبناء المقامه قاس...</td>\n",
       "    </tr>\n",
       "    <tr>\n",
       "      <th>83</th>\n",
       "      <td>1640297918-70</td>\n",
       "      <td>https://sjp.moj.gov.sa/Filter?isFilterButtonCl...</td>\n",
       "      <td>القضية رقم  ١٠٦١٠ لعام ١٤٤١ هـ</td>\n",
       "      <td>https://sjp.moj.gov.sa/Filter/AhkamDetails/39264</td>\n",
       "      <td>التجارية</td>\n",
       "      <td>رقم القضية - القرار: ١٠٦١٠</td>\n",
       "      <td>تاريخها: ٢٧/٢/١٤٤٢</td>\n",
       "      <td>محكمة الاستئناف: المحكمة التجارية</td>\n",
       "      <td>رقم القرار: ١٩٦٩</td>\n",
       "      <td>تاريخه: ٧/٣/١٤٤٣</td>\n",
       "      <td>المدينة: منطقة الرياض</td>\n",
       "      <td>المدينه: الرياض</td>\n",
       "      <td>الحمد لله والصلاه والسلام علي رسول ﷲ اما بعد ف...</td>\n",
       "      <td>الحمد لله والصلاة والسلام على رسول ﷲ أما بعد:\\...</td>\n",
       "      <td>الدائره بعدم اختصاص محاكم المملكه العربيه الس...</td>\n",
       "      <td>حمد اما فلدي التجاريه الرابعه وبناء المقامه شر...</td>\n",
       "    </tr>\n",
       "    <tr>\n",
       "      <th>84</th>\n",
       "      <td>1640298128-88</td>\n",
       "      <td>https://sjp.moj.gov.sa/Filter?isFilterButtonCl...</td>\n",
       "      <td>القضية رقم  ٨٣٢١ لعام ١٤٤٢ هـ</td>\n",
       "      <td>https://sjp.moj.gov.sa/Filter/AhkamDetails/38924</td>\n",
       "      <td>التجارية</td>\n",
       "      <td>رقم القضية - القرار: ٨٣٢١</td>\n",
       "      <td>تاريخها: ٨/١/١٤٤٣</td>\n",
       "      <td>محكمة الاستئناف: المحكمة التجارية</td>\n",
       "      <td>رقم القرار: ٦٨٨</td>\n",
       "      <td>تاريخه: ٧/٣/١٤٤٣</td>\n",
       "      <td>المدينة: منطقة الرياض</td>\n",
       "      <td>المدينه: الرياض</td>\n",
       "      <td>الحمد لله والصلاه والسلام علي رسول ﷲ اما بعد ف...</td>\n",
       "      <td>الحمد لله والصلاة والسلام على رسول ﷲ أما بعد:\\...</td>\n",
       "      <td>الدائره بعدم اختصاص المحكمه التجاريه بالرياض ...</td>\n",
       "      <td>حمد اما فلدي التجاريه الثالثه وبناء المقامه صا...</td>\n",
       "    </tr>\n",
       "    <tr>\n",
       "      <th>109</th>\n",
       "      <td>1640347922-110</td>\n",
       "      <td>https://sjp.moj.gov.sa/Filter?isFilterButtonCl...</td>\n",
       "      <td>NaN</td>\n",
       "      <td>NaN</td>\n",
       "      <td>التجارية</td>\n",
       "      <td>NaN</td>\n",
       "      <td>NaN</td>\n",
       "      <td>NaN</td>\n",
       "      <td>NaN</td>\n",
       "      <td>NaN</td>\n",
       "      <td>المدينة: المنطقة الشرقية</td>\n",
       "      <td>المدينه: الدمام</td>\n",
       "      <td>الحمد لله والصلاه والسلام علي رسول ﷲ اما بعد ف...</td>\n",
       "      <td>NaN</td>\n",
       "      <td>الدائره بعدم اختصاص المحكمه التجاريه نوعيًا ب...</td>\n",
       "      <td>حمد اما فلدي التجاريه الاولي وبناء المقامه قاس...</td>\n",
       "    </tr>\n",
       "    <tr>\n",
       "      <th>117</th>\n",
       "      <td>1640348695-140</td>\n",
       "      <td>https://sjp.moj.gov.sa/Filter?isFilterButtonCl...</td>\n",
       "      <td>NaN</td>\n",
       "      <td>NaN</td>\n",
       "      <td>التجارية</td>\n",
       "      <td>NaN</td>\n",
       "      <td>NaN</td>\n",
       "      <td>NaN</td>\n",
       "      <td>NaN</td>\n",
       "      <td>NaN</td>\n",
       "      <td>المدينة: المنطقة الشرقية</td>\n",
       "      <td>المدينه: الدمام</td>\n",
       "      <td>الحمد لله والصلاه والسلام علي رسول ﷲ اما بعد ف...</td>\n",
       "      <td>NaN</td>\n",
       "      <td>الدائره بعدم اختصاص المحكمه التجاريه نوعيًا ب...</td>\n",
       "      <td>حمد اما فلدي التجاريه الاولي وبناء المقامه قاس...</td>\n",
       "    </tr>\n",
       "    <tr>\n",
       "      <th>131</th>\n",
       "      <td>1640349289-150</td>\n",
       "      <td>https://sjp.moj.gov.sa/Filter?isFilterButtonCl...</td>\n",
       "      <td>NaN</td>\n",
       "      <td>NaN</td>\n",
       "      <td>التجارية</td>\n",
       "      <td>NaN</td>\n",
       "      <td>NaN</td>\n",
       "      <td>NaN</td>\n",
       "      <td>NaN</td>\n",
       "      <td>NaN</td>\n",
       "      <td>المدينة: المنطقة الشرقية</td>\n",
       "      <td>المدينه: الدمام</td>\n",
       "      <td>الحمد لله والصلاه والسلام علي رسول ﷲ اما بعد ف...</td>\n",
       "      <td>NaN</td>\n",
       "      <td>الدائره بعدم اختصاص المحكمه التجاريه نوعيًا ب...</td>\n",
       "      <td>حمد اما فلدي التجاريه الاولي وبناء المقامه قاس...</td>\n",
       "    </tr>\n",
       "    <tr>\n",
       "      <th>132</th>\n",
       "      <td>1640349485-160</td>\n",
       "      <td>https://sjp.moj.gov.sa/Filter?isFilterButtonCl...</td>\n",
       "      <td>NaN</td>\n",
       "      <td>NaN</td>\n",
       "      <td>التجارية</td>\n",
       "      <td>NaN</td>\n",
       "      <td>NaN</td>\n",
       "      <td>NaN</td>\n",
       "      <td>NaN</td>\n",
       "      <td>NaN</td>\n",
       "      <td>المدينة: المنطقة الشرقية</td>\n",
       "      <td>المدينه: الدمام</td>\n",
       "      <td>الحمد لله والصلاه والسلام علي رسول ﷲ اما بعد ف...</td>\n",
       "      <td>NaN</td>\n",
       "      <td>الدائره بعدم اختصاص المحكمه التجاريه نوعيًا ب...</td>\n",
       "      <td>حمد اما فلدي التجاريه الاولي وبناء المقامه قاس...</td>\n",
       "    </tr>\n",
       "    <tr>\n",
       "      <th>150</th>\n",
       "      <td>1640349576-170</td>\n",
       "      <td>https://sjp.moj.gov.sa/Filter?isFilterButtonCl...</td>\n",
       "      <td>NaN</td>\n",
       "      <td>NaN</td>\n",
       "      <td>التجارية</td>\n",
       "      <td>NaN</td>\n",
       "      <td>NaN</td>\n",
       "      <td>NaN</td>\n",
       "      <td>NaN</td>\n",
       "      <td>NaN</td>\n",
       "      <td>المدينة: المنطقة الشرقية</td>\n",
       "      <td>المدينه: الدمام</td>\n",
       "      <td>الحمد لله والصلاه والسلام علي رسول ﷲ اما بعد ف...</td>\n",
       "      <td>NaN</td>\n",
       "      <td>الدائره بعدم اختصاص المحكمه التجاريه نوعيًا ب...</td>\n",
       "      <td>حمد اما فلدي التجاريه الاولي وبناء المقامه قاس...</td>\n",
       "    </tr>\n",
       "    <tr>\n",
       "      <th>177</th>\n",
       "      <td>1640349830-180</td>\n",
       "      <td>https://sjp.moj.gov.sa/Filter?isFilterButtonCl...</td>\n",
       "      <td>NaN</td>\n",
       "      <td>NaN</td>\n",
       "      <td>التجارية</td>\n",
       "      <td>NaN</td>\n",
       "      <td>NaN</td>\n",
       "      <td>NaN</td>\n",
       "      <td>NaN</td>\n",
       "      <td>NaN</td>\n",
       "      <td>المدينة: المنطقة الشرقية</td>\n",
       "      <td>المدينه: الدمام</td>\n",
       "      <td>الحمد لله والصلاه والسلام علي رسول ﷲ اما بعد ف...</td>\n",
       "      <td>NaN</td>\n",
       "      <td>الدائره بعدم اختصاص المحكمه التجاريه نوعيًا ب...</td>\n",
       "      <td>حمد اما فلدي التجاريه الاولي وبناء المقامه قاس...</td>\n",
       "    </tr>\n",
       "    <tr>\n",
       "      <th>192</th>\n",
       "      <td>1640349979-190</td>\n",
       "      <td>https://sjp.moj.gov.sa/Filter?isFilterButtonCl...</td>\n",
       "      <td>NaN</td>\n",
       "      <td>NaN</td>\n",
       "      <td>التجارية</td>\n",
       "      <td>NaN</td>\n",
       "      <td>NaN</td>\n",
       "      <td>NaN</td>\n",
       "      <td>NaN</td>\n",
       "      <td>NaN</td>\n",
       "      <td>المدينة: المنطقة الشرقية</td>\n",
       "      <td>المدينه: الدمام</td>\n",
       "      <td>الحمد لله والصلاه والسلام علي رسول ﷲ اما بعد ف...</td>\n",
       "      <td>NaN</td>\n",
       "      <td>الدائره بعدم اختصاص المحكمه التجاريه نوعيًا ب...</td>\n",
       "      <td>حمد اما فلدي التجاريه الاولي وبناء المقامه قاس...</td>\n",
       "    </tr>\n",
       "    <tr>\n",
       "      <th>200</th>\n",
       "      <td>1640350054-200</td>\n",
       "      <td>https://sjp.moj.gov.sa/Filter?isFilterButtonCl...</td>\n",
       "      <td>NaN</td>\n",
       "      <td>NaN</td>\n",
       "      <td>التجارية</td>\n",
       "      <td>NaN</td>\n",
       "      <td>NaN</td>\n",
       "      <td>NaN</td>\n",
       "      <td>NaN</td>\n",
       "      <td>NaN</td>\n",
       "      <td>المدينة: المنطقة الشرقية</td>\n",
       "      <td>المدينه: الدمام</td>\n",
       "      <td>الحمد لله والصلاه والسلام علي رسول ﷲ اما بعد ف...</td>\n",
       "      <td>NaN</td>\n",
       "      <td>الدائره بعدم اختصاص المحكمه التجاريه نوعيًا ب...</td>\n",
       "      <td>حمد اما فلدي التجاريه الاولي وبناء المقامه قاس...</td>\n",
       "    </tr>\n",
       "    <tr>\n",
       "      <th>206</th>\n",
       "      <td>1640350453-210</td>\n",
       "      <td>https://sjp.moj.gov.sa/Filter?isFilterButtonCl...</td>\n",
       "      <td>NaN</td>\n",
       "      <td>NaN</td>\n",
       "      <td>التجارية</td>\n",
       "      <td>NaN</td>\n",
       "      <td>NaN</td>\n",
       "      <td>NaN</td>\n",
       "      <td>NaN</td>\n",
       "      <td>NaN</td>\n",
       "      <td>المدينة: المنطقة الشرقية</td>\n",
       "      <td>المدينه: الدمام</td>\n",
       "      <td>الحمد لله والصلاه والسلام علي رسول ﷲ اما بعد ف...</td>\n",
       "      <td>NaN</td>\n",
       "      <td>الدائره بعدم اختصاص المحكمه التجاريه نوعيًا ب...</td>\n",
       "      <td>حمد اما فلدي التجاريه الاولي وبناء المقامه قاس...</td>\n",
       "    </tr>\n",
       "  </tbody>\n",
       "</table>\n",
       "</div>"
      ],
      "text/plain": [
       "    web-scraper-order                              web-scraper-start-url  \\\n",
       "7        1640297166-4  https://sjp.moj.gov.sa/Filter?isFilterButtonCl...   \n",
       "10      1640297542-37  https://sjp.moj.gov.sa/Filter?isFilterButtonCl...   \n",
       "11      1640297281-14  https://sjp.moj.gov.sa/Filter?isFilterButtonCl...   \n",
       "12      1640297772-57  https://sjp.moj.gov.sa/Filter?isFilterButtonCl...   \n",
       "23      1640297657-47  https://sjp.moj.gov.sa/Filter?isFilterButtonCl...   \n",
       "31      1640298076-83  https://sjp.moj.gov.sa/Filter?isFilterButtonCl...   \n",
       "48      1640297981-75  https://sjp.moj.gov.sa/Filter?isFilterButtonCl...   \n",
       "63      1640297354-21  https://sjp.moj.gov.sa/Filter?isFilterButtonCl...   \n",
       "67      1640297427-27  https://sjp.moj.gov.sa/Filter?isFilterButtonCl...   \n",
       "77     1640298252-100  https://sjp.moj.gov.sa/Filter?isFilterButtonCl...   \n",
       "83      1640297918-70  https://sjp.moj.gov.sa/Filter?isFilterButtonCl...   \n",
       "84      1640298128-88  https://sjp.moj.gov.sa/Filter?isFilterButtonCl...   \n",
       "109    1640347922-110  https://sjp.moj.gov.sa/Filter?isFilterButtonCl...   \n",
       "117    1640348695-140  https://sjp.moj.gov.sa/Filter?isFilterButtonCl...   \n",
       "131    1640349289-150  https://sjp.moj.gov.sa/Filter?isFilterButtonCl...   \n",
       "132    1640349485-160  https://sjp.moj.gov.sa/Filter?isFilterButtonCl...   \n",
       "150    1640349576-170  https://sjp.moj.gov.sa/Filter?isFilterButtonCl...   \n",
       "177    1640349830-180  https://sjp.moj.gov.sa/Filter?isFilterButtonCl...   \n",
       "192    1640349979-190  https://sjp.moj.gov.sa/Filter?isFilterButtonCl...   \n",
       "200    1640350054-200  https://sjp.moj.gov.sa/Filter?isFilterButtonCl...   \n",
       "206    1640350453-210  https://sjp.moj.gov.sa/Filter?isFilterButtonCl...   \n",
       "\n",
       "                              links  \\\n",
       "7     القضية رقم  ٨٧٩٧ لعام ١٤٤٢ هـ   \n",
       "10    القضية رقم  ٧٤٠٠ لعام ١٤٤٢ هـ   \n",
       "11    القضية رقم  ٣٨٩٥ لعام ١٤٤٢ هـ   \n",
       "12    القضية رقم  ٧٤٠٠ لعام ١٤٤٢ هـ   \n",
       "23    القضية رقم  ٧٧٠١ لعام ١٤٤٢ هـ   \n",
       "31   القضية رقم  ١٠٦١٠ لعام ١٤٤١ هـ   \n",
       "48    القضية رقم  ٨٣٢١ لعام ١٤٤٢ هـ   \n",
       "63    القضية رقم  ٨٧٩٧ لعام ١٤٤٢ هـ   \n",
       "67    القضية رقم  ٧٧٠١ لعام ١٤٤٢ هـ   \n",
       "77     القضية رقم ٣٢٣٢ لعام ١٤٤٢ هـ   \n",
       "83   القضية رقم  ١٠٦١٠ لعام ١٤٤١ هـ   \n",
       "84    القضية رقم  ٨٣٢١ لعام ١٤٤٢ هـ   \n",
       "109                             NaN   \n",
       "117                             NaN   \n",
       "131                             NaN   \n",
       "132                             NaN   \n",
       "150                             NaN   \n",
       "177                             NaN   \n",
       "192                             NaN   \n",
       "200                             NaN   \n",
       "206                             NaN   \n",
       "\n",
       "                                           links-href     court  \\\n",
       "7    https://sjp.moj.gov.sa/Filter/AhkamDetails/39115  التجارية   \n",
       "10   https://sjp.moj.gov.sa/Filter/AhkamDetails/39226  التجارية   \n",
       "11   https://sjp.moj.gov.sa/Filter/AhkamDetails/38926  التجارية   \n",
       "12   https://sjp.moj.gov.sa/Filter/AhkamDetails/38981  التجارية   \n",
       "23   https://sjp.moj.gov.sa/Filter/AhkamDetails/39007  التجارية   \n",
       "31   https://sjp.moj.gov.sa/Filter/AhkamDetails/39019  التجارية   \n",
       "48   https://sjp.moj.gov.sa/Filter/AhkamDetails/39169  التجارية   \n",
       "63   https://sjp.moj.gov.sa/Filter/AhkamDetails/38870  التجارية   \n",
       "67   https://sjp.moj.gov.sa/Filter/AhkamDetails/39252  التجارية   \n",
       "77   https://sjp.moj.gov.sa/Filter/AhkamDetails/35243  التجارية   \n",
       "83   https://sjp.moj.gov.sa/Filter/AhkamDetails/39264  التجارية   \n",
       "84   https://sjp.moj.gov.sa/Filter/AhkamDetails/38924  التجارية   \n",
       "109                                               NaN  التجارية   \n",
       "117                                               NaN  التجارية   \n",
       "131                                               NaN  التجارية   \n",
       "132                                               NaN  التجارية   \n",
       "150                                               NaN  التجارية   \n",
       "177                                               NaN  التجارية   \n",
       "192                                               NaN  التجارية   \n",
       "200                                               NaN  التجارية   \n",
       "206                                               NaN  التجارية   \n",
       "\n",
       "                    case_number            case_date  \\\n",
       "7     رقم القضية - القرار: ٨٧٩٧  تاريخها: ٢٥/١٢/١٤٤٢   \n",
       "10    رقم القضية - القرار: ٧٤٠٠    تاريخها: ١/١/١٤٤٣   \n",
       "11    رقم القضية - القرار: ٣٨٩٥   تاريخها: ٢٣/٩/١٤٤٢   \n",
       "12    رقم القضية - القرار: ٧٤٠٠    تاريخها: ١/١/١٤٤٣   \n",
       "23    رقم القضية - القرار: ٧٧٠١   تاريخها: ١١/٢/١٤٤٢   \n",
       "31   رقم القضية - القرار: ١٠٦١٠   تاريخها: ٢٧/٢/١٤٤٢   \n",
       "48    رقم القضية - القرار: ٨٣٢١    تاريخها: ٨/١/١٤٤٣   \n",
       "63    رقم القضية - القرار: ٨٧٩٧  تاريخها: ٢٥/١٢/١٤٤٢   \n",
       "67    رقم القضية - القرار: ٧٧٠١   تاريخها: ١١/٢/١٤٤٢   \n",
       "77    رقم القضية - القرار: ٣٢٣٢  تاريخها: ٢٧/١١/١٤٤٢   \n",
       "83   رقم القضية - القرار: ١٠٦١٠   تاريخها: ٢٧/٢/١٤٤٢   \n",
       "84    رقم القضية - القرار: ٨٣٢١    تاريخها: ٨/١/١٤٤٣   \n",
       "109                         NaN                  NaN   \n",
       "117                         NaN                  NaN   \n",
       "131                         NaN                  NaN   \n",
       "132                         NaN                  NaN   \n",
       "150                         NaN                  NaN   \n",
       "177                         NaN                  NaN   \n",
       "192                         NaN                  NaN   \n",
       "200                         NaN                  NaN   \n",
       "206                         NaN                  NaN   \n",
       "\n",
       "                       appellate_court      appellate_id     appellate_date  \\\n",
       "7    محكمة الاستئناف: المحكمة التجارية   رقم القرار: ٥٤٢   تاريخه: ٥/٣/١٤٤٣   \n",
       "10   محكمة الاستئناف: المحكمة التجارية   رقم القرار: ٧٥٧   تاريخه: ٦/٣/١٤٤٣   \n",
       "11   محكمة الاستئناف: المحكمة التجارية   رقم القرار: ٢٤٥   تاريخه: ٥/٣/١٤٤٣   \n",
       "12   محكمة الاستئناف: المحكمة التجارية   رقم القرار: ٧٥٧   تاريخه: ٦/٣/١٤٤٣   \n",
       "23   محكمة الاستئناف: المحكمة التجارية    رقم القرار: ٩٦   تاريخه: ٦/٣/١٤٤٣   \n",
       "31   محكمة الاستئناف: المحكمة التجارية  رقم القرار: ١٩٦٩   تاريخه: ٧/٣/١٤٤٣   \n",
       "48   محكمة الاستئناف: المحكمة التجارية   رقم القرار: ٦٨٨   تاريخه: ٧/٣/١٤٤٣   \n",
       "63   محكمة الاستئناف: المحكمة التجارية   رقم القرار: ٥٤٢   تاريخه: ٥/٣/١٤٤٣   \n",
       "67   محكمة الاستئناف: المحكمة التجارية    رقم القرار: ٩٦   تاريخه: ٦/٣/١٤٤٣   \n",
       "77    محكمة الاستئناف: محكمة الاستئناف    رقم القرار: ٧٦  تاريخه: ٢٥/٧/١٤٤٣   \n",
       "83   محكمة الاستئناف: المحكمة التجارية  رقم القرار: ١٩٦٩   تاريخه: ٧/٣/١٤٤٣   \n",
       "84   محكمة الاستئناف: المحكمة التجارية   رقم القرار: ٦٨٨   تاريخه: ٧/٣/١٤٤٣   \n",
       "109                                NaN               NaN                NaN   \n",
       "117                                NaN               NaN                NaN   \n",
       "131                                NaN               NaN                NaN   \n",
       "132                                NaN               NaN                NaN   \n",
       "150                                NaN               NaN                NaN   \n",
       "177                                NaN               NaN                NaN   \n",
       "192                                NaN               NaN                NaN   \n",
       "200                                NaN               NaN                NaN   \n",
       "206                                NaN               NaN                NaN   \n",
       "\n",
       "                       region             city  \\\n",
       "7       المدينة: منطقة الرياض  المدينه: الرياض   \n",
       "10      المدينة: منطقة الرياض  المدينه: الرياض   \n",
       "11      المدينة: منطقة الرياض  المدينه: الرياض   \n",
       "12      المدينة: منطقة الرياض  المدينه: الرياض   \n",
       "23      المدينة: منطقة الرياض  المدينه: الرياض   \n",
       "31      المدينة: منطقة الرياض  المدينه: الرياض   \n",
       "48      المدينة: منطقة الرياض  المدينه: الرياض   \n",
       "63      المدينة: منطقة الرياض  المدينه: الرياض   \n",
       "67      المدينة: منطقة الرياض  المدينه: الرياض   \n",
       "77   المدينة: المنطقة الشرقية  المدينه: الدمام   \n",
       "83      المدينة: منطقة الرياض  المدينه: الرياض   \n",
       "84      المدينة: منطقة الرياض  المدينه: الرياض   \n",
       "109  المدينة: المنطقة الشرقية  المدينه: الدمام   \n",
       "117  المدينة: المنطقة الشرقية  المدينه: الدمام   \n",
       "131  المدينة: المنطقة الشرقية  المدينه: الدمام   \n",
       "132  المدينة: المنطقة الشرقية  المدينه: الدمام   \n",
       "150  المدينة: المنطقة الشرقية  المدينه: الدمام   \n",
       "177  المدينة: المنطقة الشرقية  المدينه: الدمام   \n",
       "192  المدينة: المنطقة الشرقية  المدينه: الدمام   \n",
       "200  المدينة: المنطقة الشرقية  المدينه: الدمام   \n",
       "206  المدينة: المنطقة الشرقية  المدينه: الدمام   \n",
       "\n",
       "                                         judgment_text  \\\n",
       "7    الحمد لله والصلاه والسلام علي رسول ﷲ اما بعد ف...   \n",
       "10   الحمد لله والصلاه والسلام علي رسول ﷲ اما بعد ف...   \n",
       "11   الحمد لله والصلاه والسلام علي رسول ﷲ اما بعد ف...   \n",
       "12   الحمد لله والصلاه والسلام علي رسول ﷲ اما بعد ف...   \n",
       "23   الحمد لله والصلاه والسلام علي رسول ﷲ اما بعد ف...   \n",
       "31   الحمد لله والصلاه والسلام علي رسول ﷲ اما بعد ف...   \n",
       "48   الحمد لله والصلاه والسلام علي رسول ﷲ اما بعد ف...   \n",
       "63   الحمد لله والصلاه والسلام علي رسول ﷲ اما بعد ف...   \n",
       "67   الحمد لله والصلاه والسلام علي رسول ﷲ اما بعد ف...   \n",
       "77   الحمد لله والصلاه والسلام علي رسول ﷲ اما بعد ف...   \n",
       "83   الحمد لله والصلاه والسلام علي رسول ﷲ اما بعد ف...   \n",
       "84   الحمد لله والصلاه والسلام علي رسول ﷲ اما بعد ف...   \n",
       "109  الحمد لله والصلاه والسلام علي رسول ﷲ اما بعد ف...   \n",
       "117  الحمد لله والصلاه والسلام علي رسول ﷲ اما بعد ف...   \n",
       "131  الحمد لله والصلاه والسلام علي رسول ﷲ اما بعد ف...   \n",
       "132  الحمد لله والصلاه والسلام علي رسول ﷲ اما بعد ف...   \n",
       "150  الحمد لله والصلاه والسلام علي رسول ﷲ اما بعد ف...   \n",
       "177  الحمد لله والصلاه والسلام علي رسول ﷲ اما بعد ف...   \n",
       "192  الحمد لله والصلاه والسلام علي رسول ﷲ اما بعد ف...   \n",
       "200  الحمد لله والصلاه والسلام علي رسول ﷲ اما بعد ف...   \n",
       "206  الحمد لله والصلاه والسلام علي رسول ﷲ اما بعد ف...   \n",
       "\n",
       "                                                appeal  \\\n",
       "7    الحمد لله والصلاة والسلام على رسول ﷲ أما بعد:\\...   \n",
       "10   الحمد لله والصلاة والسلام على رسول ﷲ أما بعد:\\...   \n",
       "11   الحمد لله والصلاة والسلام على رسول ﷲ أما بعد:\\...   \n",
       "12   الحمد لله والصلاة والسلام على رسول ﷲ أما بعد:\\...   \n",
       "23   الحمد لله والصلاة والسلام على رسول ﷲ أما بعد:\\...   \n",
       "31   الحمد لله والصلاة والسلام على رسول ﷲ أما بعد:\\...   \n",
       "48   الحمد لله والصلاة والسلام على رسول ﷲ أما بعد:\\...   \n",
       "63   الحمد لله والصلاة والسلام على رسول ﷲ أما بعد:\\...   \n",
       "67   الحمد لله والصلاة والسلام على رسول ﷲ أما بعد:\\...   \n",
       "77   الحمد لله والصلاة والسلام على رسول ﷲ أما بعد:\\...   \n",
       "83   الحمد لله والصلاة والسلام على رسول ﷲ أما بعد:\\...   \n",
       "84   الحمد لله والصلاة والسلام على رسول ﷲ أما بعد:\\...   \n",
       "109                                                NaN   \n",
       "117                                                NaN   \n",
       "131                                                NaN   \n",
       "132                                                NaN   \n",
       "150                                                NaN   \n",
       "177                                                NaN   \n",
       "192                                                NaN   \n",
       "200                                                NaN   \n",
       "206                                                NaN   \n",
       "\n",
       "                                               Verdict  \\\n",
       "7     الدائره بعدم اختصاص المحاكم التجاريه نوعيا بن...   \n",
       "10    الدائره  بعدم اختصاص المحاكم التجاريه نوعياً ...   \n",
       "11    الدائره  بعدم اختصاص المحكمه التجاريه بالرياض...   \n",
       "12    الدائره  بعدم اختصاص المحاكم التجاريه نوعياً ...   \n",
       "23    الدائره بعدم اختصاص المحكمه التجاريه نوعيًا ب...   \n",
       "31    الدائره بعدم اختصاص محاكم المملكه العربيه الس...   \n",
       "48    الدائره بعدم اختصاص المحكمه التجاريه بالرياض ...   \n",
       "63    الدائره بعدم اختصاص المحاكم التجاريه نوعيا بن...   \n",
       "67    الدائره بعدم اختصاص المحكمه التجاريه نوعيًا ب...   \n",
       "77    الدائره بعدم اختصاص المحكمه التجاريه نوعيًا ب...   \n",
       "83    الدائره بعدم اختصاص محاكم المملكه العربيه الس...   \n",
       "84    الدائره بعدم اختصاص المحكمه التجاريه بالرياض ...   \n",
       "109   الدائره بعدم اختصاص المحكمه التجاريه نوعيًا ب...   \n",
       "117   الدائره بعدم اختصاص المحكمه التجاريه نوعيًا ب...   \n",
       "131   الدائره بعدم اختصاص المحكمه التجاريه نوعيًا ب...   \n",
       "132   الدائره بعدم اختصاص المحكمه التجاريه نوعيًا ب...   \n",
       "150   الدائره بعدم اختصاص المحكمه التجاريه نوعيًا ب...   \n",
       "177   الدائره بعدم اختصاص المحكمه التجاريه نوعيًا ب...   \n",
       "192   الدائره بعدم اختصاص المحكمه التجاريه نوعيًا ب...   \n",
       "200   الدائره بعدم اختصاص المحكمه التجاريه نوعيًا ب...   \n",
       "206   الدائره بعدم اختصاص المحكمه التجاريه نوعيًا ب...   \n",
       "\n",
       "                                              incident  \n",
       "7    حمد اما فلدي التجاريه التاسعه عشره وبناء المقا...  \n",
       "10   حمد اما فلدي التجاريه الثالثه وبناء المقامه شر...  \n",
       "11   حمد اما فلدي التجاريه الواحد والعشرون وبناء ال...  \n",
       "12   حمد اما فلدي التجاريه الثالثه وبناء المقامه شر...  \n",
       "23   حمد اما فلدي التجاريه الاولي وبناء المقامه جمع...  \n",
       "31   حمد اما فلدي التجاريه الرابعه وبناء المقامه شر...  \n",
       "48   حمد اما فلدي التجاريه الثالثه وبناء المقامه صا...  \n",
       "63   حمد اما فلدي التجاريه التاسعه عشره وبناء المقا...  \n",
       "67   حمد اما فلدي التجاريه الاولي وبناء المقامه جمع...  \n",
       "77   حمد اما فلدي التجاريه الاولي وبناء المقامه قاس...  \n",
       "83   حمد اما فلدي التجاريه الرابعه وبناء المقامه شر...  \n",
       "84   حمد اما فلدي التجاريه الثالثه وبناء المقامه صا...  \n",
       "109  حمد اما فلدي التجاريه الاولي وبناء المقامه قاس...  \n",
       "117  حمد اما فلدي التجاريه الاولي وبناء المقامه قاس...  \n",
       "131  حمد اما فلدي التجاريه الاولي وبناء المقامه قاس...  \n",
       "132  حمد اما فلدي التجاريه الاولي وبناء المقامه قاس...  \n",
       "150  حمد اما فلدي التجاريه الاولي وبناء المقامه قاس...  \n",
       "177  حمد اما فلدي التجاريه الاولي وبناء المقامه قاس...  \n",
       "192  حمد اما فلدي التجاريه الاولي وبناء المقامه قاس...  \n",
       "200  حمد اما فلدي التجاريه الاولي وبناء المقامه قاس...  \n",
       "206  حمد اما فلدي التجاريه الاولي وبناء المقامه قاس...  "
      ]
     },
     "execution_count": 101,
     "metadata": {},
     "output_type": "execute_result"
    }
   ],
   "source": [
    "data[data['Verdict'].str.contains('بعدم اختصاص')==True] "
   ]
  }
 ],
 "metadata": {
  "kernelspec": {
   "display_name": "Python 3",
   "language": "python",
   "name": "python3"
  },
  "language_info": {
   "codemirror_mode": {
    "name": "ipython",
    "version": 3
   },
   "file_extension": ".py",
   "mimetype": "text/x-python",
   "name": "python",
   "nbconvert_exporter": "python",
   "pygments_lexer": "ipython3",
   "version": "3.8.8"
  }
 },
 "nbformat": 4,
 "nbformat_minor": 5
}
